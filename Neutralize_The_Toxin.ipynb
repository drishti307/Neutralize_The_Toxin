{
  "nbformat": 4,
  "nbformat_minor": 0,
  "metadata": {
    "colab": {
      "name": "Copy of THE_LATEST_NB_Toxic-comment-classification.ipynb",
      "provenance": [],
      "collapsed_sections": [
        "Sd4VVmoiW0ge",
        "rB2oFSZH_nZK",
        "LMidPvdGCUPM",
        "cV6_83oVTTxI",
        "tLDarwUbQ7uU",
        "68wX1pFdSrSn",
        "Fj8Tch_rJSgQ",
        "zdPRgItN79W7",
        "e2L0Ia6_mcQI",
        "WYJlDuWsl-Fy",
        "YsvprMlHY6pG",
        "E4e3T3wYEjhv",
        "fhX95py3jHRQ",
        "slgpXwNis2ci",
        "e8p-DcQNivRH",
        "1ukY8gqMTUYx",
        "NaDJX7gstNjC",
        "7SHKPgRCO0v4",
        "4ryYUX7EJRY2",
        "-d3L0BAvqB1P",
        "ADFEdf3YSkct",
        "eyI1XuwmqXKB",
        "qmh9mEj_WGX9",
        "N2Pcz4slLDRP",
        "KyWgW22XQSpJ",
        "xEtDhhsiR1rs",
        "Mi9e7v8TmZz3"
      ]
    },
    "kernelspec": {
      "name": "python3",
      "display_name": "Python 3"
    },
    "accelerator": "GPU"
  },
  "cells": [
    {
      "cell_type": "markdown",
      "metadata": {
        "id": "F8IBJiGZLGjT"
      },
      "source": [
        "# To create a model which predicts a probability of each type of toxicity for each comment."
      ]
    },
    {
      "cell_type": "code",
      "metadata": {
        "id": "kH6l-3RTnreX"
      },
      "source": [
        "import pandas as pd\n",
        "import numpy as np\n",
        "import matplotlib.pyplot as plt"
      ],
      "execution_count": null,
      "outputs": []
    },
    {
      "cell_type": "code",
      "metadata": {
        "id": "xIDifD0_Bm5g",
        "colab": {
          "base_uri": "https://localhost:8080/"
        },
        "outputId": "933ae9ee-1e45-42c9-a0c8-cbdbe0c2c362"
      },
      "source": [
        "from google.colab import drive\n",
        "drive.mount('/content/drive')"
      ],
      "execution_count": null,
      "outputs": [
        {
          "output_type": "stream",
          "text": [
            "Mounted at /content/drive\n"
          ],
          "name": "stdout"
        }
      ]
    },
    {
      "cell_type": "markdown",
      "metadata": {
        "id": "rB2oFSZH_nZK"
      },
      "source": [
        "##EXTRACTING DATASET FROM KAGGLE\n"
      ]
    },
    {
      "cell_type": "code",
      "metadata": {
        "id": "6yxgoduSnnYo"
      },
      "source": [
        "import pandas as pd\n",
        "import numpy as np"
      ],
      "execution_count": null,
      "outputs": []
    },
    {
      "cell_type": "code",
      "metadata": {
        "id": "mExfKacHPPEO",
        "colab": {
          "base_uri": "https://localhost:8080/"
        },
        "outputId": "d3d01a82-cbe7-4f29-fc1e-93e7ef029a65"
      },
      "source": [
        "pip install kaggle --upgrade"
      ],
      "execution_count": null,
      "outputs": [
        {
          "output_type": "stream",
          "text": [
            "Requirement already up-to-date: kaggle in /usr/local/lib/python3.7/dist-packages (1.5.10)\n",
            "Requirement already satisfied, skipping upgrade: python-slugify in /usr/local/lib/python3.7/dist-packages (from kaggle) (4.0.1)\n",
            "Requirement already satisfied, skipping upgrade: tqdm in /usr/local/lib/python3.7/dist-packages (from kaggle) (4.41.1)\n",
            "Requirement already satisfied, skipping upgrade: python-dateutil in /usr/local/lib/python3.7/dist-packages (from kaggle) (2.8.1)\n",
            "Requirement already satisfied, skipping upgrade: certifi in /usr/local/lib/python3.7/dist-packages (from kaggle) (2020.12.5)\n",
            "Requirement already satisfied, skipping upgrade: urllib3 in /usr/local/lib/python3.7/dist-packages (from kaggle) (1.24.3)\n",
            "Requirement already satisfied, skipping upgrade: requests in /usr/local/lib/python3.7/dist-packages (from kaggle) (2.23.0)\n",
            "Requirement already satisfied, skipping upgrade: six>=1.10 in /usr/local/lib/python3.7/dist-packages (from kaggle) (1.15.0)\n",
            "Requirement already satisfied, skipping upgrade: text-unidecode>=1.3 in /usr/local/lib/python3.7/dist-packages (from python-slugify->kaggle) (1.3)\n",
            "Requirement already satisfied, skipping upgrade: chardet<4,>=3.0.2 in /usr/local/lib/python3.7/dist-packages (from requests->kaggle) (3.0.4)\n",
            "Requirement already satisfied, skipping upgrade: idna<3,>=2.5 in /usr/local/lib/python3.7/dist-packages (from requests->kaggle) (2.10)\n"
          ],
          "name": "stdout"
        }
      ]
    },
    {
      "cell_type": "code",
      "metadata": {
        "colab": {
          "resources": {
            "http://localhost:8080/nbextensions/google.colab/files.js": {
              "data": "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",
              "ok": true,
              "headers": [
                [
                  "content-type",
                  "application/javascript"
                ]
              ],
              "status": 200,
              "status_text": ""
            }
          },
          "base_uri": "https://localhost:8080/",
          "height": 91
        },
        "id": "CkztrvR75pew",
        "outputId": "525796bc-eabf-41cb-8bc4-46ce960781d3"
      },
      "source": [
        "from google.colab import files\n",
        "files.upload()"
      ],
      "execution_count": null,
      "outputs": [
        {
          "output_type": "display_data",
          "data": {
            "text/html": [
              "\n",
              "     <input type=\"file\" id=\"files-64d64e88-edf4-48c7-b6d7-1f5e3415b02b\" name=\"files[]\" multiple disabled\n",
              "        style=\"border:none\" />\n",
              "     <output id=\"result-64d64e88-edf4-48c7-b6d7-1f5e3415b02b\">\n",
              "      Upload widget is only available when the cell has been executed in the\n",
              "      current browser session. Please rerun this cell to enable.\n",
              "      </output>\n",
              "      <script src=\"/nbextensions/google.colab/files.js\"></script> "
            ],
            "text/plain": [
              "<IPython.core.display.HTML object>"
            ]
          },
          "metadata": {
            "tags": []
          }
        },
        {
          "output_type": "stream",
          "text": [
            "Saving kaggle.json to kaggle.json\n"
          ],
          "name": "stdout"
        },
        {
          "output_type": "execute_result",
          "data": {
            "text/plain": [
              "{'kaggle.json': b'{\"username\":\"amandeeprana25\",\"key\":\"27121a9c08c03142ff52faca5aae2083\"}'}"
            ]
          },
          "metadata": {
            "tags": []
          },
          "execution_count": 3
        }
      ]
    },
    {
      "cell_type": "code",
      "metadata": {
        "id": "N8sWtBcm5phV",
        "colab": {
          "base_uri": "https://localhost:8080/"
        },
        "outputId": "abde235d-0a4c-4523-8a06-116061e1b172"
      },
      "source": [
        "! mkdir ~/.kaggle\n",
        "! cp kaggle.json ~/.kaggle/"
      ],
      "execution_count": null,
      "outputs": [
        {
          "output_type": "stream",
          "text": [
            "mkdir: cannot create directory ‘/root/.kaggle’: File exists\n"
          ],
          "name": "stdout"
        }
      ]
    },
    {
      "cell_type": "code",
      "metadata": {
        "id": "6j6dtw9n5pj1"
      },
      "source": [
        "! chmod 600 ~/.kaggle/kaggle.json"
      ],
      "execution_count": null,
      "outputs": []
    },
    {
      "cell_type": "code",
      "metadata": {
        "colab": {
          "base_uri": "https://localhost:8080/"
        },
        "id": "DOngoN5z5pn-",
        "outputId": "2044ec6b-8e94-4893-e9e5-32e383a4e82c"
      },
      "source": [
        "! cd /content/drive/MyDrive/AI-Project-Toxic-classification/kaggle\n",
        "! kaggle competitions download -c jigsaw-toxic-comment-classification-challenge\n",
        "#kaggle competitions download -c jigsaw-toxic-comment-classification-challenge"
      ],
      "execution_count": null,
      "outputs": [
        {
          "output_type": "stream",
          "text": [
            "401 - Unauthorized\n"
          ],
          "name": "stdout"
        }
      ]
    },
    {
      "cell_type": "code",
      "metadata": {
        "id": "ue4Bk_EK5ppV",
        "colab": {
          "base_uri": "https://localhost:8080/"
        },
        "outputId": "cf157b61-4392-4538-f34f-bcb5faf810e3"
      },
      "source": [
        "! mkdir train\n",
        "! unzip /content/drive/MyDrive/AI-Project-Toxic-classification/Jigsaw dataset/train/train.csv -d train"
      ],
      "execution_count": null,
      "outputs": [
        {
          "output_type": "stream",
          "text": [
            "unzip:  cannot find or open /content/drive/MyDrive/AI-Project-Toxic-classification/Jigsaw, /content/drive/MyDrive/AI-Project-Toxic-classification/Jigsaw.zip or /content/drive/MyDrive/AI-Project-Toxic-classification/Jigsaw.ZIP.\n"
          ],
          "name": "stdout"
        }
      ]
    },
    {
      "cell_type": "code",
      "metadata": {
        "colab": {
          "base_uri": "https://localhost:8080/"
        },
        "id": "GhMSdQcf7-Ka",
        "outputId": "2fd59099-b699-47ec-a04f-cfd37be63a8e"
      },
      "source": [
        "! mkdir test\n",
        "! unzip /content/drive/MyDrive/AI-Project-Toxic-classification/Jigsaw dataset/test/test.csv -d test"
      ],
      "execution_count": null,
      "outputs": [
        {
          "output_type": "stream",
          "text": [
            "unzip:  cannot find or open /content/drive/MyDrive/AI-Project-Toxic-classification/Jigsaw, /content/drive/MyDrive/AI-Project-Toxic-classification/Jigsaw.zip or /content/drive/MyDrive/AI-Project-Toxic-classification/Jigsaw.ZIP.\n"
          ],
          "name": "stdout"
        }
      ]
    },
    {
      "cell_type": "markdown",
      "metadata": {
        "id": "gQMFjlHc_b3X"
      },
      "source": [
        "#### **ADDED DATASETS; RUN CELLS FROM HERE **"
      ]
    },
    {
      "cell_type": "markdown",
      "metadata": {
        "id": "LMidPvdGCUPM"
      },
      "source": [
        "## Jigsaw Dataset - Wikipedia TalkPages"
      ]
    },
    {
      "cell_type": "code",
      "metadata": {
        "colab": {
          "base_uri": "https://localhost:8080/"
        },
        "id": "DFaEpk_TuyTY",
        "outputId": "32dc5f2a-a459-4ae6-a249-62f205613b4b"
      },
      "source": [
        "from google.colab import drive\n",
        "drive.mount('/content/drive')"
      ],
      "execution_count": null,
      "outputs": [
        {
          "output_type": "stream",
          "text": [
            "Mounted at /content/drive\n"
          ],
          "name": "stdout"
        }
      ]
    },
    {
      "cell_type": "code",
      "metadata": {
        "id": "tWSOD9JX8E79"
      },
      "source": [
        "import pandas as pd\n",
        "import numpy as np"
      ],
      "execution_count": null,
      "outputs": []
    },
    {
      "cell_type": "code",
      "metadata": {
        "id": "iH_JIGMq8I1y"
      },
      "source": [
        "df_train=pd.read_csv('/content/drive/MyDrive/AI-Project-Toxic-classification/Jigsaw dataset/train/train.csv')"
      ],
      "execution_count": null,
      "outputs": []
    },
    {
      "cell_type": "code",
      "metadata": {
        "id": "pz2YgA_D8I4K",
        "colab": {
          "base_uri": "https://localhost:8080/",
          "height": 355
        },
        "outputId": "97b1f92e-43c0-4d46-d35d-a0bdef1243e5"
      },
      "source": [
        "df_train.head(10)"
      ],
      "execution_count": null,
      "outputs": [
        {
          "output_type": "execute_result",
          "data": {
            "text/html": [
              "<div>\n",
              "<style scoped>\n",
              "    .dataframe tbody tr th:only-of-type {\n",
              "        vertical-align: middle;\n",
              "    }\n",
              "\n",
              "    .dataframe tbody tr th {\n",
              "        vertical-align: top;\n",
              "    }\n",
              "\n",
              "    .dataframe thead th {\n",
              "        text-align: right;\n",
              "    }\n",
              "</style>\n",
              "<table border=\"1\" class=\"dataframe\">\n",
              "  <thead>\n",
              "    <tr style=\"text-align: right;\">\n",
              "      <th></th>\n",
              "      <th>id</th>\n",
              "      <th>comment_text</th>\n",
              "      <th>toxic</th>\n",
              "      <th>severe_toxic</th>\n",
              "      <th>obscene</th>\n",
              "      <th>threat</th>\n",
              "      <th>insult</th>\n",
              "      <th>identity_hate</th>\n",
              "    </tr>\n",
              "  </thead>\n",
              "  <tbody>\n",
              "    <tr>\n",
              "      <th>0</th>\n",
              "      <td>0000997932d777bf</td>\n",
              "      <td>Explanation\\nWhy the edits made under my usern...</td>\n",
              "      <td>0</td>\n",
              "      <td>0</td>\n",
              "      <td>0</td>\n",
              "      <td>0</td>\n",
              "      <td>0</td>\n",
              "      <td>0</td>\n",
              "    </tr>\n",
              "    <tr>\n",
              "      <th>1</th>\n",
              "      <td>000103f0d9cfb60f</td>\n",
              "      <td>D'aww! He matches this background colour I'm s...</td>\n",
              "      <td>0</td>\n",
              "      <td>0</td>\n",
              "      <td>0</td>\n",
              "      <td>0</td>\n",
              "      <td>0</td>\n",
              "      <td>0</td>\n",
              "    </tr>\n",
              "    <tr>\n",
              "      <th>2</th>\n",
              "      <td>000113f07ec002fd</td>\n",
              "      <td>Hey man, I'm really not trying to edit war. It...</td>\n",
              "      <td>0</td>\n",
              "      <td>0</td>\n",
              "      <td>0</td>\n",
              "      <td>0</td>\n",
              "      <td>0</td>\n",
              "      <td>0</td>\n",
              "    </tr>\n",
              "    <tr>\n",
              "      <th>3</th>\n",
              "      <td>0001b41b1c6bb37e</td>\n",
              "      <td>\"\\nMore\\nI can't make any real suggestions on ...</td>\n",
              "      <td>0</td>\n",
              "      <td>0</td>\n",
              "      <td>0</td>\n",
              "      <td>0</td>\n",
              "      <td>0</td>\n",
              "      <td>0</td>\n",
              "    </tr>\n",
              "    <tr>\n",
              "      <th>4</th>\n",
              "      <td>0001d958c54c6e35</td>\n",
              "      <td>You, sir, are my hero. Any chance you remember...</td>\n",
              "      <td>0</td>\n",
              "      <td>0</td>\n",
              "      <td>0</td>\n",
              "      <td>0</td>\n",
              "      <td>0</td>\n",
              "      <td>0</td>\n",
              "    </tr>\n",
              "    <tr>\n",
              "      <th>5</th>\n",
              "      <td>00025465d4725e87</td>\n",
              "      <td>\"\\n\\nCongratulations from me as well, use the ...</td>\n",
              "      <td>0</td>\n",
              "      <td>0</td>\n",
              "      <td>0</td>\n",
              "      <td>0</td>\n",
              "      <td>0</td>\n",
              "      <td>0</td>\n",
              "    </tr>\n",
              "    <tr>\n",
              "      <th>6</th>\n",
              "      <td>0002bcb3da6cb337</td>\n",
              "      <td>COCKSUCKER BEFORE YOU PISS AROUND ON MY WORK</td>\n",
              "      <td>1</td>\n",
              "      <td>1</td>\n",
              "      <td>1</td>\n",
              "      <td>0</td>\n",
              "      <td>1</td>\n",
              "      <td>0</td>\n",
              "    </tr>\n",
              "    <tr>\n",
              "      <th>7</th>\n",
              "      <td>00031b1e95af7921</td>\n",
              "      <td>Your vandalism to the Matt Shirvington article...</td>\n",
              "      <td>0</td>\n",
              "      <td>0</td>\n",
              "      <td>0</td>\n",
              "      <td>0</td>\n",
              "      <td>0</td>\n",
              "      <td>0</td>\n",
              "    </tr>\n",
              "    <tr>\n",
              "      <th>8</th>\n",
              "      <td>00037261f536c51d</td>\n",
              "      <td>Sorry if the word 'nonsense' was offensive to ...</td>\n",
              "      <td>0</td>\n",
              "      <td>0</td>\n",
              "      <td>0</td>\n",
              "      <td>0</td>\n",
              "      <td>0</td>\n",
              "      <td>0</td>\n",
              "    </tr>\n",
              "    <tr>\n",
              "      <th>9</th>\n",
              "      <td>00040093b2687caa</td>\n",
              "      <td>alignment on this subject and which are contra...</td>\n",
              "      <td>0</td>\n",
              "      <td>0</td>\n",
              "      <td>0</td>\n",
              "      <td>0</td>\n",
              "      <td>0</td>\n",
              "      <td>0</td>\n",
              "    </tr>\n",
              "  </tbody>\n",
              "</table>\n",
              "</div>"
            ],
            "text/plain": [
              "                 id  ... identity_hate\n",
              "0  0000997932d777bf  ...             0\n",
              "1  000103f0d9cfb60f  ...             0\n",
              "2  000113f07ec002fd  ...             0\n",
              "3  0001b41b1c6bb37e  ...             0\n",
              "4  0001d958c54c6e35  ...             0\n",
              "5  00025465d4725e87  ...             0\n",
              "6  0002bcb3da6cb337  ...             0\n",
              "7  00031b1e95af7921  ...             0\n",
              "8  00037261f536c51d  ...             0\n",
              "9  00040093b2687caa  ...             0\n",
              "\n",
              "[10 rows x 8 columns]"
            ]
          },
          "metadata": {
            "tags": []
          },
          "execution_count": 9
        }
      ]
    },
    {
      "cell_type": "code",
      "metadata": {
        "id": "jSgOxYEa8I8h",
        "colab": {
          "base_uri": "https://localhost:8080/",
          "height": 294
        },
        "outputId": "471c7f0d-a9bd-4ecf-e7c3-961cc3056d71"
      },
      "source": [
        "df_train.describe()"
      ],
      "execution_count": null,
      "outputs": [
        {
          "output_type": "execute_result",
          "data": {
            "text/html": [
              "<div>\n",
              "<style scoped>\n",
              "    .dataframe tbody tr th:only-of-type {\n",
              "        vertical-align: middle;\n",
              "    }\n",
              "\n",
              "    .dataframe tbody tr th {\n",
              "        vertical-align: top;\n",
              "    }\n",
              "\n",
              "    .dataframe thead th {\n",
              "        text-align: right;\n",
              "    }\n",
              "</style>\n",
              "<table border=\"1\" class=\"dataframe\">\n",
              "  <thead>\n",
              "    <tr style=\"text-align: right;\">\n",
              "      <th></th>\n",
              "      <th>toxic</th>\n",
              "      <th>severe_toxic</th>\n",
              "      <th>obscene</th>\n",
              "      <th>threat</th>\n",
              "      <th>insult</th>\n",
              "      <th>identity_hate</th>\n",
              "    </tr>\n",
              "  </thead>\n",
              "  <tbody>\n",
              "    <tr>\n",
              "      <th>count</th>\n",
              "      <td>159571.000000</td>\n",
              "      <td>159571.000000</td>\n",
              "      <td>159571.000000</td>\n",
              "      <td>159571.000000</td>\n",
              "      <td>159571.000000</td>\n",
              "      <td>159571.000000</td>\n",
              "    </tr>\n",
              "    <tr>\n",
              "      <th>mean</th>\n",
              "      <td>0.095844</td>\n",
              "      <td>0.009996</td>\n",
              "      <td>0.052948</td>\n",
              "      <td>0.002996</td>\n",
              "      <td>0.049364</td>\n",
              "      <td>0.008805</td>\n",
              "    </tr>\n",
              "    <tr>\n",
              "      <th>std</th>\n",
              "      <td>0.294379</td>\n",
              "      <td>0.099477</td>\n",
              "      <td>0.223931</td>\n",
              "      <td>0.054650</td>\n",
              "      <td>0.216627</td>\n",
              "      <td>0.093420</td>\n",
              "    </tr>\n",
              "    <tr>\n",
              "      <th>min</th>\n",
              "      <td>0.000000</td>\n",
              "      <td>0.000000</td>\n",
              "      <td>0.000000</td>\n",
              "      <td>0.000000</td>\n",
              "      <td>0.000000</td>\n",
              "      <td>0.000000</td>\n",
              "    </tr>\n",
              "    <tr>\n",
              "      <th>25%</th>\n",
              "      <td>0.000000</td>\n",
              "      <td>0.000000</td>\n",
              "      <td>0.000000</td>\n",
              "      <td>0.000000</td>\n",
              "      <td>0.000000</td>\n",
              "      <td>0.000000</td>\n",
              "    </tr>\n",
              "    <tr>\n",
              "      <th>50%</th>\n",
              "      <td>0.000000</td>\n",
              "      <td>0.000000</td>\n",
              "      <td>0.000000</td>\n",
              "      <td>0.000000</td>\n",
              "      <td>0.000000</td>\n",
              "      <td>0.000000</td>\n",
              "    </tr>\n",
              "    <tr>\n",
              "      <th>75%</th>\n",
              "      <td>0.000000</td>\n",
              "      <td>0.000000</td>\n",
              "      <td>0.000000</td>\n",
              "      <td>0.000000</td>\n",
              "      <td>0.000000</td>\n",
              "      <td>0.000000</td>\n",
              "    </tr>\n",
              "    <tr>\n",
              "      <th>max</th>\n",
              "      <td>1.000000</td>\n",
              "      <td>1.000000</td>\n",
              "      <td>1.000000</td>\n",
              "      <td>1.000000</td>\n",
              "      <td>1.000000</td>\n",
              "      <td>1.000000</td>\n",
              "    </tr>\n",
              "  </tbody>\n",
              "</table>\n",
              "</div>"
            ],
            "text/plain": [
              "               toxic   severe_toxic  ...         insult  identity_hate\n",
              "count  159571.000000  159571.000000  ...  159571.000000  159571.000000\n",
              "mean        0.095844       0.009996  ...       0.049364       0.008805\n",
              "std         0.294379       0.099477  ...       0.216627       0.093420\n",
              "min         0.000000       0.000000  ...       0.000000       0.000000\n",
              "25%         0.000000       0.000000  ...       0.000000       0.000000\n",
              "50%         0.000000       0.000000  ...       0.000000       0.000000\n",
              "75%         0.000000       0.000000  ...       0.000000       0.000000\n",
              "max         1.000000       1.000000  ...       1.000000       1.000000\n",
              "\n",
              "[8 rows x 6 columns]"
            ]
          },
          "metadata": {
            "tags": []
          },
          "execution_count": 10
        }
      ]
    },
    {
      "cell_type": "code",
      "metadata": {
        "colab": {
          "base_uri": "https://localhost:8080/"
        },
        "id": "hpEF3clbPb1H",
        "outputId": "9a3bf368-6f52-4889-f99f-70c79a9cfc7f"
      },
      "source": [
        "print(\"Total number of columns: \",df_train.shape[1])\n",
        "print(\"Total number of rows: \",df_train.shape[0])"
      ],
      "execution_count": null,
      "outputs": [
        {
          "output_type": "stream",
          "text": [
            "Total number of columns:  8\n",
            "Total number of rows:  159571\n"
          ],
          "name": "stdout"
        }
      ]
    },
    {
      "cell_type": "markdown",
      "metadata": {
        "id": "zdPRgItN79W7"
      },
      "source": [
        "#Exploratory Data Analysis\n"
      ]
    },
    {
      "cell_type": "code",
      "metadata": {
        "colab": {
          "base_uri": "https://localhost:8080/",
          "height": 355
        },
        "id": "8Ed8HChrLkWb",
        "outputId": "6fda6268-9868-444d-9d87-07aa9726b988"
      },
      "source": [
        "#the dataset\n",
        "df_train.head(10)"
      ],
      "execution_count": null,
      "outputs": [
        {
          "output_type": "execute_result",
          "data": {
            "text/html": [
              "<div>\n",
              "<style scoped>\n",
              "    .dataframe tbody tr th:only-of-type {\n",
              "        vertical-align: middle;\n",
              "    }\n",
              "\n",
              "    .dataframe tbody tr th {\n",
              "        vertical-align: top;\n",
              "    }\n",
              "\n",
              "    .dataframe thead th {\n",
              "        text-align: right;\n",
              "    }\n",
              "</style>\n",
              "<table border=\"1\" class=\"dataframe\">\n",
              "  <thead>\n",
              "    <tr style=\"text-align: right;\">\n",
              "      <th></th>\n",
              "      <th>id</th>\n",
              "      <th>comment_text</th>\n",
              "      <th>toxic</th>\n",
              "      <th>severe_toxic</th>\n",
              "      <th>obscene</th>\n",
              "      <th>threat</th>\n",
              "      <th>insult</th>\n",
              "      <th>identity_hate</th>\n",
              "    </tr>\n",
              "  </thead>\n",
              "  <tbody>\n",
              "    <tr>\n",
              "      <th>0</th>\n",
              "      <td>0000997932d777bf</td>\n",
              "      <td>Explanation\\nWhy the edits made under my usern...</td>\n",
              "      <td>0</td>\n",
              "      <td>0</td>\n",
              "      <td>0</td>\n",
              "      <td>0</td>\n",
              "      <td>0</td>\n",
              "      <td>0</td>\n",
              "    </tr>\n",
              "    <tr>\n",
              "      <th>1</th>\n",
              "      <td>000103f0d9cfb60f</td>\n",
              "      <td>D'aww! He matches this background colour I'm s...</td>\n",
              "      <td>0</td>\n",
              "      <td>0</td>\n",
              "      <td>0</td>\n",
              "      <td>0</td>\n",
              "      <td>0</td>\n",
              "      <td>0</td>\n",
              "    </tr>\n",
              "    <tr>\n",
              "      <th>2</th>\n",
              "      <td>000113f07ec002fd</td>\n",
              "      <td>Hey man, I'm really not trying to edit war. It...</td>\n",
              "      <td>0</td>\n",
              "      <td>0</td>\n",
              "      <td>0</td>\n",
              "      <td>0</td>\n",
              "      <td>0</td>\n",
              "      <td>0</td>\n",
              "    </tr>\n",
              "    <tr>\n",
              "      <th>3</th>\n",
              "      <td>0001b41b1c6bb37e</td>\n",
              "      <td>\"\\nMore\\nI can't make any real suggestions on ...</td>\n",
              "      <td>0</td>\n",
              "      <td>0</td>\n",
              "      <td>0</td>\n",
              "      <td>0</td>\n",
              "      <td>0</td>\n",
              "      <td>0</td>\n",
              "    </tr>\n",
              "    <tr>\n",
              "      <th>4</th>\n",
              "      <td>0001d958c54c6e35</td>\n",
              "      <td>You, sir, are my hero. Any chance you remember...</td>\n",
              "      <td>0</td>\n",
              "      <td>0</td>\n",
              "      <td>0</td>\n",
              "      <td>0</td>\n",
              "      <td>0</td>\n",
              "      <td>0</td>\n",
              "    </tr>\n",
              "    <tr>\n",
              "      <th>5</th>\n",
              "      <td>00025465d4725e87</td>\n",
              "      <td>\"\\n\\nCongratulations from me as well, use the ...</td>\n",
              "      <td>0</td>\n",
              "      <td>0</td>\n",
              "      <td>0</td>\n",
              "      <td>0</td>\n",
              "      <td>0</td>\n",
              "      <td>0</td>\n",
              "    </tr>\n",
              "    <tr>\n",
              "      <th>6</th>\n",
              "      <td>0002bcb3da6cb337</td>\n",
              "      <td>COCKSUCKER BEFORE YOU PISS AROUND ON MY WORK</td>\n",
              "      <td>1</td>\n",
              "      <td>1</td>\n",
              "      <td>1</td>\n",
              "      <td>0</td>\n",
              "      <td>1</td>\n",
              "      <td>0</td>\n",
              "    </tr>\n",
              "    <tr>\n",
              "      <th>7</th>\n",
              "      <td>00031b1e95af7921</td>\n",
              "      <td>Your vandalism to the Matt Shirvington article...</td>\n",
              "      <td>0</td>\n",
              "      <td>0</td>\n",
              "      <td>0</td>\n",
              "      <td>0</td>\n",
              "      <td>0</td>\n",
              "      <td>0</td>\n",
              "    </tr>\n",
              "    <tr>\n",
              "      <th>8</th>\n",
              "      <td>00037261f536c51d</td>\n",
              "      <td>Sorry if the word 'nonsense' was offensive to ...</td>\n",
              "      <td>0</td>\n",
              "      <td>0</td>\n",
              "      <td>0</td>\n",
              "      <td>0</td>\n",
              "      <td>0</td>\n",
              "      <td>0</td>\n",
              "    </tr>\n",
              "    <tr>\n",
              "      <th>9</th>\n",
              "      <td>00040093b2687caa</td>\n",
              "      <td>alignment on this subject and which are contra...</td>\n",
              "      <td>0</td>\n",
              "      <td>0</td>\n",
              "      <td>0</td>\n",
              "      <td>0</td>\n",
              "      <td>0</td>\n",
              "      <td>0</td>\n",
              "    </tr>\n",
              "  </tbody>\n",
              "</table>\n",
              "</div>"
            ],
            "text/plain": [
              "                 id  ... identity_hate\n",
              "0  0000997932d777bf  ...             0\n",
              "1  000103f0d9cfb60f  ...             0\n",
              "2  000113f07ec002fd  ...             0\n",
              "3  0001b41b1c6bb37e  ...             0\n",
              "4  0001d958c54c6e35  ...             0\n",
              "5  00025465d4725e87  ...             0\n",
              "6  0002bcb3da6cb337  ...             0\n",
              "7  00031b1e95af7921  ...             0\n",
              "8  00037261f536c51d  ...             0\n",
              "9  00040093b2687caa  ...             0\n",
              "\n",
              "[10 rows x 8 columns]"
            ]
          },
          "metadata": {
            "tags": []
          },
          "execution_count": 6
        }
      ]
    },
    {
      "cell_type": "code",
      "metadata": {
        "colab": {
          "base_uri": "https://localhost:8080/"
        },
        "id": "ZP5Ob0IcH2rl",
        "outputId": "0b5886c5-abdf-4eaf-cf96-44b5bec164ca"
      },
      "source": [
        "#total columns in the dataset\n",
        "print(df_train.columns.tolist())\n"
      ],
      "execution_count": null,
      "outputs": [
        {
          "output_type": "stream",
          "text": [
            "['id', 'comment_text', 'toxic', 'severe_toxic', 'obscene', 'threat', 'insult', 'identity_hate']\n"
          ],
          "name": "stdout"
        }
      ]
    },
    {
      "cell_type": "code",
      "metadata": {
        "colab": {
          "base_uri": "https://localhost:8080/"
        },
        "id": "TA1JgJDJKLi-",
        "outputId": "d62c2f9a-115d-4253-ce22-98ef4964b189"
      },
      "source": [
        "#shape of the data\n",
        "df_train.shape"
      ],
      "execution_count": null,
      "outputs": [
        {
          "output_type": "execute_result",
          "data": {
            "text/plain": [
              "(159571, 8)"
            ]
          },
          "metadata": {
            "tags": []
          },
          "execution_count": 8
        }
      ]
    },
    {
      "cell_type": "code",
      "metadata": {
        "colab": {
          "base_uri": "https://localhost:8080/",
          "height": 294
        },
        "id": "dNvTBAflHtNb",
        "outputId": "f2db946d-3b9a-49f2-b744-aa59d3c5ee3b"
      },
      "source": [
        "#the dataset\n",
        "df_train.describe()"
      ],
      "execution_count": null,
      "outputs": [
        {
          "output_type": "execute_result",
          "data": {
            "text/html": [
              "<div>\n",
              "<style scoped>\n",
              "    .dataframe tbody tr th:only-of-type {\n",
              "        vertical-align: middle;\n",
              "    }\n",
              "\n",
              "    .dataframe tbody tr th {\n",
              "        vertical-align: top;\n",
              "    }\n",
              "\n",
              "    .dataframe thead th {\n",
              "        text-align: right;\n",
              "    }\n",
              "</style>\n",
              "<table border=\"1\" class=\"dataframe\">\n",
              "  <thead>\n",
              "    <tr style=\"text-align: right;\">\n",
              "      <th></th>\n",
              "      <th>toxic</th>\n",
              "      <th>severe_toxic</th>\n",
              "      <th>obscene</th>\n",
              "      <th>threat</th>\n",
              "      <th>insult</th>\n",
              "      <th>identity_hate</th>\n",
              "    </tr>\n",
              "  </thead>\n",
              "  <tbody>\n",
              "    <tr>\n",
              "      <th>count</th>\n",
              "      <td>159571.000000</td>\n",
              "      <td>159571.000000</td>\n",
              "      <td>159571.000000</td>\n",
              "      <td>159571.000000</td>\n",
              "      <td>159571.000000</td>\n",
              "      <td>159571.000000</td>\n",
              "    </tr>\n",
              "    <tr>\n",
              "      <th>mean</th>\n",
              "      <td>0.095844</td>\n",
              "      <td>0.009996</td>\n",
              "      <td>0.052948</td>\n",
              "      <td>0.002996</td>\n",
              "      <td>0.049364</td>\n",
              "      <td>0.008805</td>\n",
              "    </tr>\n",
              "    <tr>\n",
              "      <th>std</th>\n",
              "      <td>0.294379</td>\n",
              "      <td>0.099477</td>\n",
              "      <td>0.223931</td>\n",
              "      <td>0.054650</td>\n",
              "      <td>0.216627</td>\n",
              "      <td>0.093420</td>\n",
              "    </tr>\n",
              "    <tr>\n",
              "      <th>min</th>\n",
              "      <td>0.000000</td>\n",
              "      <td>0.000000</td>\n",
              "      <td>0.000000</td>\n",
              "      <td>0.000000</td>\n",
              "      <td>0.000000</td>\n",
              "      <td>0.000000</td>\n",
              "    </tr>\n",
              "    <tr>\n",
              "      <th>25%</th>\n",
              "      <td>0.000000</td>\n",
              "      <td>0.000000</td>\n",
              "      <td>0.000000</td>\n",
              "      <td>0.000000</td>\n",
              "      <td>0.000000</td>\n",
              "      <td>0.000000</td>\n",
              "    </tr>\n",
              "    <tr>\n",
              "      <th>50%</th>\n",
              "      <td>0.000000</td>\n",
              "      <td>0.000000</td>\n",
              "      <td>0.000000</td>\n",
              "      <td>0.000000</td>\n",
              "      <td>0.000000</td>\n",
              "      <td>0.000000</td>\n",
              "    </tr>\n",
              "    <tr>\n",
              "      <th>75%</th>\n",
              "      <td>0.000000</td>\n",
              "      <td>0.000000</td>\n",
              "      <td>0.000000</td>\n",
              "      <td>0.000000</td>\n",
              "      <td>0.000000</td>\n",
              "      <td>0.000000</td>\n",
              "    </tr>\n",
              "    <tr>\n",
              "      <th>max</th>\n",
              "      <td>1.000000</td>\n",
              "      <td>1.000000</td>\n",
              "      <td>1.000000</td>\n",
              "      <td>1.000000</td>\n",
              "      <td>1.000000</td>\n",
              "      <td>1.000000</td>\n",
              "    </tr>\n",
              "  </tbody>\n",
              "</table>\n",
              "</div>"
            ],
            "text/plain": [
              "               toxic   severe_toxic  ...         insult  identity_hate\n",
              "count  159571.000000  159571.000000  ...  159571.000000  159571.000000\n",
              "mean        0.095844       0.009996  ...       0.049364       0.008805\n",
              "std         0.294379       0.099477  ...       0.216627       0.093420\n",
              "min         0.000000       0.000000  ...       0.000000       0.000000\n",
              "25%         0.000000       0.000000  ...       0.000000       0.000000\n",
              "50%         0.000000       0.000000  ...       0.000000       0.000000\n",
              "75%         0.000000       0.000000  ...       0.000000       0.000000\n",
              "max         1.000000       1.000000  ...       1.000000       1.000000\n",
              "\n",
              "[8 rows x 6 columns]"
            ]
          },
          "metadata": {
            "tags": []
          },
          "execution_count": 9
        }
      ]
    },
    {
      "cell_type": "markdown",
      "metadata": {
        "id": "PvzzpCgYJ0-n"
      },
      "source": [
        "**Observation**: The count values clearly indicate that there are no null values present"
      ]
    },
    {
      "cell_type": "code",
      "metadata": {
        "colab": {
          "base_uri": "https://localhost:8080/"
        },
        "id": "WRCFhKoXIEEe",
        "outputId": "ccc4297b-a3b5-43ec-8494-fd9fd1c16526"
      },
      "source": [
        "#confirming the number of missing values in the data set\n",
        "df_train.isnull().sum()"
      ],
      "execution_count": null,
      "outputs": [
        {
          "output_type": "execute_result",
          "data": {
            "text/plain": [
              "id               0\n",
              "comment_text     0\n",
              "toxic            0\n",
              "severe_toxic     0\n",
              "obscene          0\n",
              "threat           0\n",
              "insult           0\n",
              "identity_hate    0\n",
              "dtype: int64"
            ]
          },
          "metadata": {
            "tags": []
          },
          "execution_count": 10
        }
      ]
    },
    {
      "cell_type": "code",
      "metadata": {
        "id": "4YLR_EooWChS"
      },
      "source": [
        "#total columns in the dataset\n",
        "colms=df_train.columns.tolist()\n",
        "colms=colms[2:]\n",
        "print(colms)"
      ],
      "execution_count": null,
      "outputs": []
    },
    {
      "cell_type": "markdown",
      "metadata": {
        "id": "xS6hK2cnJrtz"
      },
      "source": [
        "Dataset Distribution by class"
      ]
    },
    {
      "cell_type": "code",
      "metadata": {
        "colab": {
          "base_uri": "https://localhost:8080/"
        },
        "id": "f_bJuUolbF8p",
        "outputId": "bd13b12f-3a31-45f5-885e-bec9f3a173ad"
      },
      "source": [
        "print(\"total toxic comments = \", sum(col_count), \" and total non-toxic comments = \", (df_train.shape[0]-sum(col_count)))"
      ],
      "execution_count": null,
      "outputs": [
        {
          "output_type": "stream",
          "text": [
            "total toxic comments =  35098  and total non-toxic comments =  124473\n"
          ],
          "name": "stdout"
        }
      ]
    },
    {
      "cell_type": "code",
      "metadata": {
        "colab": {
          "base_uri": "https://localhost:8080/"
        },
        "id": "_fFh52PeWyuM",
        "outputId": "cf91c0d7-b91f-47f6-f10f-f5842099438e"
      },
      "source": [
        "\n",
        "col_count=[]\n",
        "for col in colms:\n",
        "  count=0\n",
        "  for items in df_train[col]:\n",
        "    if items==1:\n",
        "      count+=1\n",
        "  col_count.append(count)\n",
        "\n",
        "zip_col= list(zip(colms, col_count))\n",
        "print(zip_col)\n",
        "\n"
      ],
      "execution_count": null,
      "outputs": [
        {
          "output_type": "stream",
          "text": [
            "[('toxic', 15294), ('severe_toxic', 1595), ('obscene', 8449), ('threat', 478), ('insult', 7877), ('identity_hate', 1405)]\n"
          ],
          "name": "stdout"
        }
      ]
    },
    {
      "cell_type": "code",
      "metadata": {
        "colab": {
          "base_uri": "https://localhost:8080/",
          "height": 269
        },
        "id": "h3ItoNKuOzWl",
        "outputId": "5d6cf091-5911-40f6-9425-37971bcad760"
      },
      "source": [
        "import random\n",
        "fig = plt.figure()\n",
        "ax=fig.add_subplot(111)\n",
        "ax.bar(colms, col_count)\n",
        "plt.show()\n"
      ],
      "execution_count": null,
      "outputs": [
        {
          "output_type": "display_data",
          "data": {
            "image/png": "[encoded data removed]",
            "text/plain": [
              "<Figure size 432x288 with 1 Axes>"
            ]
          },
          "metadata": {
            "tags": [],
            "needs_background": "light"
          }
        }
      ]
    },
    {
      "cell_type": "markdown",
      "metadata": {
        "id": "zldSVdsWJ0hh"
      },
      "source": [
        "Data Distribution by number of labels"
      ]
    },
    {
      "cell_type": "code",
      "metadata": {
        "colab": {
          "base_uri": "https://localhost:8080/",
          "height": 358
        },
        "id": "rjURcTLVcE_2",
        "outputId": "acce8184-91ef-40b4-ddeb-1d09bc0b3c65"
      },
      "source": [
        "rowSums = df_train.iloc[:,2:].sum(axis=1)\n",
        "multiLabel_counts = rowSums.value_counts()\n",
        "multiLabel_counts = multiLabel_counts.iloc[1:]\n",
        "\n",
        "ax = sns.barplot(multiLabel_counts.index, multiLabel_counts.values)\n",
        "plt.title(\"Comments having multiple labels \")\n",
        "plt.ylabel('Number of comments', fontsize=18)\n",
        "plt.xlabel('Number of labels', fontsize=18)\n",
        "\n",
        "#adding the text labels\n",
        "rects = ax.patches\n",
        "labels = multiLabel_counts.values\n",
        "for rect, label in zip(rects, labels):\n",
        "    height = rect.get_height()\n",
        "    ax.text(rect.get_x() + rect.get_width()/2, height + 5, label, ha='center', va='bottom')\n",
        "plt.show()"
      ],
      "execution_count": null,
      "outputs": [
        {
          "output_type": "stream",
          "text": [
            "/usr/local/lib/python3.7/dist-packages/seaborn/_decorators.py:43: FutureWarning: Pass the following variables as keyword args: x, y. From version 0.12, the only valid positional argument will be `data`, and passing other arguments without an explicit keyword will result in an error or misinterpretation.\n",
            "  FutureWarning\n"
          ],
          "name": "stderr"
        },
        {
          "output_type": "display_data",
          "data": {
            "image/png": "[encoded data removed]",
            "text/plain": [
              "<Figure size 432x288 with 1 Axes>"
            ]
          },
          "metadata": {
            "tags": [],
            "needs_background": "light"
          }
        }
      ]
    },
    {
      "cell_type": "markdown",
      "metadata": {
        "id": "0TMUyw_xfq-v"
      },
      "source": [
        "\n",
        "\n",
        "---\n",
        "\n"
      ]
    },
    {
      "cell_type": "code",
      "metadata": {
        "id": "B39Tg3B_z0D2"
      },
      "source": [
        "import matplotlib.pyplot as plt\n"
      ],
      "execution_count": null,
      "outputs": []
    },
    {
      "cell_type": "code",
      "metadata": {
        "colab": {
          "base_uri": "https://localhost:8080/",
          "height": 283
        },
        "id": "sg2nE9gRSbUv",
        "outputId": "0e19884d-0faa-4fb4-9fca-a3f8eee7c27f"
      },
      "source": [
        "#number of characters present in each sentence\n",
        "df_train['comment_text'].str.len().hist(ec=\"red\", color=\"yellow\", bins = np.arange(0, 2000, 200))\n"
      ],
      "execution_count": null,
      "outputs": [
        {
          "output_type": "execute_result",
          "data": {
            "text/plain": [
              "<matplotlib.axes._subplots.AxesSubplot at 0x7fee9fb505d0>"
            ]
          },
          "metadata": {
            "tags": []
          },
          "execution_count": 11
        },
        {
          "output_type": "display_data",
          "data": {
            "image/png": "[encoded data removed]",
            "text/plain": [
              "<Figure size 432x288 with 1 Axes>"
            ]
          },
          "metadata": {
            "tags": [],
            "needs_background": "light"
          }
        }
      ]
    },
    {
      "cell_type": "markdown",
      "metadata": {
        "id": "rANNxzkKXe0j"
      },
      "source": [
        "**Observation**: The histogram shows that comments range from 1 to 1750 characters and generally, it is between 1 to 500 characters.\n",
        "\n",
        "\n",
        "---\n",
        "\n",
        "\n",
        "\n"
      ]
    },
    {
      "cell_type": "code",
      "metadata": {
        "colab": {
          "base_uri": "https://localhost:8080/",
          "height": 265
        },
        "id": "XVbEZBTlXy_L",
        "outputId": "e591637d-8b7b-4a75-a318-3007d1198c19"
      },
      "source": [
        "#plot for the number of words appearing in each comment\n",
        "def plot_word_number_histogram(text):\n",
        "    text.str.split().\\\n",
        "        map(lambda x: len(x)).\\\n",
        "        hist(ec=\"red\", color=\"yellow\", bins = np.arange(0, 600, 30))\n",
        "\n",
        "plot_word_number_histogram(df_train['comment_text'])\n"
      ],
      "execution_count": null,
      "outputs": [
        {
          "output_type": "display_data",
          "data": {
            "image/png": "[encoded data removed]",
            "text/plain": [
              "<Figure size 432x288 with 1 Axes>"
            ]
          },
          "metadata": {
            "tags": [],
            "needs_background": "light"
          }
        }
      ]
    },
    {
      "cell_type": "markdown",
      "metadata": {
        "id": "l9ch2QbGZWw7"
      },
      "source": [
        "**Observation**: It is clear that the number of words in a comment ranges from 1 to 400 and mostly falls between 1 to 100 words.\n",
        "\n",
        "\n",
        "---\n",
        "\n",
        "\n"
      ]
    },
    {
      "cell_type": "code",
      "metadata": {
        "colab": {
          "base_uri": "https://localhost:8080/",
          "height": 265
        },
        "id": "pl6jBFQTZoo5",
        "outputId": "4bcde8f7-e963-4385-86f6-abae4cf0da46"
      },
      "source": [
        "#average word length in each sentence\n",
        "import numpy as np\n",
        "def plot_word_length_histogram(text):\n",
        "    text.str.split().\\\n",
        "        apply(lambda x : [len(i) for i in x]). \\\n",
        "        map(lambda x: np.mean(x)).\\\n",
        "        hist(ec=\"red\", color=\"yellow\", bins = [0,2,4,6,8,10,12,14])\n",
        "\n",
        "plot_word_length_histogram(df_train['comment_text'])"
      ],
      "execution_count": null,
      "outputs": [
        {
          "output_type": "display_data",
          "data": {
            "image/png": "[encoded data removed]",
            "text/plain": [
              "<Figure size 432x288 with 1 Axes>"
            ]
          },
          "metadata": {
            "tags": [],
            "needs_background": "light"
          }
        }
      ]
    },
    {
      "cell_type": "markdown",
      "metadata": {
        "id": "Wt27kJ-Jbppi"
      },
      "source": [
        "**Observation**: The average word length ranges between 2 to 10 with 5 being the most common word length. Does it mean that people are using really short words in comments? One reason for this can be, stopwords. (\"the”/”a”/”an” )\n",
        "\n",
        "Due to the presence of these stop words, the average word length might be incorrectly left-skewed. \n",
        "\n",
        "---\n",
        "\n",
        "\n",
        "\n",
        "\n",
        "\n",
        "\n"
      ]
    },
    {
      "cell_type": "code",
      "metadata": {
        "colab": {
          "base_uri": "https://localhost:8080/"
        },
        "id": "e_5Fb7w8e1aU",
        "outputId": "c9b85b88-9875-480b-8b59-c33bf5769dcc"
      },
      "source": [
        "#Analyzing the amount and the types of stopwords using the corpus of the nltk library. \n",
        "#Nltk contains stopwords from many languages. Considering only English here.  \n",
        "import nltk\n",
        "from nltk.corpus import stopwords\n",
        "nltk.download('stopwords')\n",
        "stop=set(stopwords.words('english'))\n",
        "\n",
        "def plot_top_stopwords_barchart(text):\n",
        "    stop=set(stopwords.words('english'))\n",
        "    \n",
        "    new= text.str.split()\n",
        "    new=new.values.tolist()\n",
        "    corpus=[word for i in new for word in i]\n",
        "    from collections import defaultdict\n",
        "    dic=defaultdict(int)\n",
        "    for word in corpus:\n",
        "        if word in stop:\n",
        "            dic[word]+=1\n",
        "            \n",
        "    top=sorted(dic.items(), key=lambda x:x[1],reverse=True)[:10] \n",
        "    x,y=zip(*top)\n",
        "    plt.bar(x,y)"
      ],
      "execution_count": null,
      "outputs": [
        {
          "output_type": "stream",
          "text": [
            "[nltk_data] Downloading package stopwords to /root/nltk_data...\n",
            "[nltk_data]   Package stopwords is already up-to-date!\n"
          ],
          "name": "stdout"
        }
      ]
    },
    {
      "cell_type": "code",
      "metadata": {
        "colab": {
          "base_uri": "https://localhost:8080/",
          "height": 265
        },
        "id": "RAaK80LijW1b",
        "outputId": "1bffc07d-db5e-45d6-8d25-d66dcb49a22b"
      },
      "source": [
        "plot_top_stopwords_barchart(df_train['comment_text'])"
      ],
      "execution_count": null,
      "outputs": [
        {
          "output_type": "display_data",
          "data": {
            "image/png": "[encoded data removed]",
            "text/plain": [
              "<Figure size 432x288 with 1 Axes>"
            ]
          },
          "metadata": {
            "tags": [],
            "needs_background": "light"
          }
        }
      ]
    },
    {
      "cell_type": "markdown",
      "metadata": {
        "id": "ScSH-Wo_kICH"
      },
      "source": [
        "**Observation**: It can be easily seen that stopwords such as “the”, ”to”, “of”, ”and” and “a” dominate in the comments.\n",
        "\n",
        "\n",
        "\n",
        "\n",
        "---\n",
        "\n"
      ]
    },
    {
      "cell_type": "markdown",
      "metadata": {
        "id": "KddMKVt8rDdS"
      },
      "source": [
        "Now important processes to do in order to better understand the data are:\n",
        "\n",
        "*   *Lowercasing*:Like converting \"The\" to \"the\"\n",
        "*   *Remove stopword and punctuation*: Such as “the”, ”to”, “of”, ”and” and “a” \n",
        "*   *Tokenize*: Convert sentences into a list of tokens\n",
        "*   *Lemmatize/Stemming*: Reduce the inflectional forms of words to its stem, like \"who\" and \"whose\"\n",
        "\n",
        "\n",
        "---\n",
        "\n",
        "\n",
        "\n",
        "\n",
        "\n",
        "\n",
        "\n",
        "\n"
      ]
    },
    {
      "cell_type": "code",
      "metadata": {
        "colab": {
          "base_uri": "https://localhost:8080/",
          "height": 202
        },
        "id": "f11b6WPw4hr_",
        "outputId": "09ec8739-ddc8-4e61-ec4d-f3a22ae7a488"
      },
      "source": [
        "df_train.head()"
      ],
      "execution_count": null,
      "outputs": [
        {
          "output_type": "execute_result",
          "data": {
            "text/html": [
              "<div>\n",
              "<style scoped>\n",
              "    .dataframe tbody tr th:only-of-type {\n",
              "        vertical-align: middle;\n",
              "    }\n",
              "\n",
              "    .dataframe tbody tr th {\n",
              "        vertical-align: top;\n",
              "    }\n",
              "\n",
              "    .dataframe thead th {\n",
              "        text-align: right;\n",
              "    }\n",
              "</style>\n",
              "<table border=\"1\" class=\"dataframe\">\n",
              "  <thead>\n",
              "    <tr style=\"text-align: right;\">\n",
              "      <th></th>\n",
              "      <th>id</th>\n",
              "      <th>comment_text</th>\n",
              "      <th>toxic</th>\n",
              "      <th>severe_toxic</th>\n",
              "      <th>obscene</th>\n",
              "      <th>threat</th>\n",
              "      <th>insult</th>\n",
              "      <th>identity_hate</th>\n",
              "    </tr>\n",
              "  </thead>\n",
              "  <tbody>\n",
              "    <tr>\n",
              "      <th>0</th>\n",
              "      <td>0000997932d777bf</td>\n",
              "      <td>Explanation\\nWhy the edits made under my usern...</td>\n",
              "      <td>0</td>\n",
              "      <td>0</td>\n",
              "      <td>0</td>\n",
              "      <td>0</td>\n",
              "      <td>0</td>\n",
              "      <td>0</td>\n",
              "    </tr>\n",
              "    <tr>\n",
              "      <th>1</th>\n",
              "      <td>000103f0d9cfb60f</td>\n",
              "      <td>D'aww! He matches this background colour I'm s...</td>\n",
              "      <td>0</td>\n",
              "      <td>0</td>\n",
              "      <td>0</td>\n",
              "      <td>0</td>\n",
              "      <td>0</td>\n",
              "      <td>0</td>\n",
              "    </tr>\n",
              "    <tr>\n",
              "      <th>2</th>\n",
              "      <td>000113f07ec002fd</td>\n",
              "      <td>Hey man, I'm really not trying to edit war. It...</td>\n",
              "      <td>0</td>\n",
              "      <td>0</td>\n",
              "      <td>0</td>\n",
              "      <td>0</td>\n",
              "      <td>0</td>\n",
              "      <td>0</td>\n",
              "    </tr>\n",
              "    <tr>\n",
              "      <th>3</th>\n",
              "      <td>0001b41b1c6bb37e</td>\n",
              "      <td>\"\\nMore\\nI can't make any real suggestions on ...</td>\n",
              "      <td>0</td>\n",
              "      <td>0</td>\n",
              "      <td>0</td>\n",
              "      <td>0</td>\n",
              "      <td>0</td>\n",
              "      <td>0</td>\n",
              "    </tr>\n",
              "    <tr>\n",
              "      <th>4</th>\n",
              "      <td>0001d958c54c6e35</td>\n",
              "      <td>You, sir, are my hero. Any chance you remember...</td>\n",
              "      <td>0</td>\n",
              "      <td>0</td>\n",
              "      <td>0</td>\n",
              "      <td>0</td>\n",
              "      <td>0</td>\n",
              "      <td>0</td>\n",
              "    </tr>\n",
              "  </tbody>\n",
              "</table>\n",
              "</div>"
            ],
            "text/plain": [
              "                 id  ... identity_hate\n",
              "0  0000997932d777bf  ...             0\n",
              "1  000103f0d9cfb60f  ...             0\n",
              "2  000113f07ec002fd  ...             0\n",
              "3  0001b41b1c6bb37e  ...             0\n",
              "4  0001d958c54c6e35  ...             0\n",
              "\n",
              "[5 rows x 8 columns]"
            ]
          },
          "metadata": {
            "tags": []
          },
          "execution_count": 25
        }
      ]
    },
    {
      "cell_type": "code",
      "metadata": {
        "id": "iLozZilwXTeS"
      },
      "source": [
        ""
      ],
      "execution_count": null,
      "outputs": []
    },
    {
      "cell_type": "code",
      "metadata": {
        "id": "mSILJSyIdS44"
      },
      "source": [
        "#only removes stop words and lowers, particularly for wordcloud\n",
        "df_train['processed_text'] = df_train['comment_text'].apply(lambda x: \" \".join([stemmer.stem(i) for i in x.split() if i not in stop]).lower())"
      ],
      "execution_count": null,
      "outputs": []
    },
    {
      "cell_type": "code",
      "metadata": {
        "colab": {
          "base_uri": "https://localhost:8080/",
          "height": 606
        },
        "id": "yZl-s1fmcnHL",
        "outputId": "d41bced6-2a10-4f2c-cee9-a72c512e23bd"
      },
      "source": [
        "from wordcloud import WordCloud,STOPWORDS\n",
        "plt.figure(figsize=(20,10))\n",
        "# clean\n",
        "text = df_train.processed_text.values\n",
        "cloud_toxic = WordCloud(\n",
        "                          stopwords=STOPWORDS,\n",
        "                          background_color='black',\n",
        "                          collocations=False,\n",
        "                          width=200,\n",
        "                          height=100\n",
        "                         ).generate(\" \".join(text))\n",
        "plt.axis('off')\n",
        "plt.title(\"Word Cloud\",fontsize=10)\n",
        "plt.imshow(cloud_toxic)"
      ],
      "execution_count": null,
      "outputs": [
        {
          "output_type": "execute_result",
          "data": {
            "text/plain": [
              "<matplotlib.image.AxesImage at 0x7f1836250390>"
            ]
          },
          "metadata": {
            "tags": []
          },
          "execution_count": 68
        },
        {
          "output_type": "display_data",
          "data": {
            "image/png": "[encoded data removed]",
            "text/plain": [
              "<Figure size 1440x720 with 1 Axes>"
            ]
          },
          "metadata": {
            "tags": [],
            "needs_background": "light"
          }
        }
      ]
    },
    {
      "cell_type": "code",
      "metadata": {
        "id": "9Gh1rxeJsRur"
      },
      "source": [
        "#Tokenizing and Lemmatizing using NLTK\n",
        "import nltk\n",
        "from nltk.stem import PorterStemmer\n",
        "from nltk.stem import WordNetLemmatizer\n",
        "from nltk.tokenize import word_tokenize"
      ],
      "execution_count": null,
      "outputs": []
    },
    {
      "cell_type": "code",
      "metadata": {
        "colab": {
          "base_uri": "https://localhost:8080/"
        },
        "id": "x-HtQIxV-s6p",
        "outputId": "10a5b0d8-2467-4faf-f304-00b8d2834270"
      },
      "source": [
        "nltk.download('punkt')\n",
        "nltk.download('wordnet')\n",
        "\n",
        "def preprocess_comments(df):\n",
        "    corpus=[]\n",
        "    stem=  PorterStemmer()\n",
        "    lem=WordNetLemmatizer()\n",
        "    for df_train in df['comment_text']:\n",
        "        words=[w for w in word_tokenize(df_train) if (w not in stop)]\n",
        "        \n",
        "        words=[lem.lemmatize(w) for w in words if len(w)>2]\n",
        "        \n",
        "        corpus.append(words)\n",
        "    return corpus\n",
        "\n",
        "corpus=preprocess_comments(df_train)\n",
        "print(corpus)"
      ],
      "execution_count": null,
      "outputs": [
        {
          "output_type": "stream",
          "text": [
            "[nltk_data] Downloading package punkt to /root/nltk_data...\n",
            "[nltk_data]   Package punkt is already up-to-date!\n",
            "[nltk_data] Downloading package wordnet to /root/nltk_data...\n",
            "[nltk_data]   Package wordnet is already up-to-date!\n"
          ],
          "name": "stdout"
        },
        {
          "output_type": "stream",
          "text": [
            "IOPub data rate exceeded.\n",
            "The notebook server will temporarily stop sending output\n",
            "to the client in order to avoid crashing it.\n",
            "To change this limit, set the config variable\n",
            "`--NotebookApp.iopub_data_rate_limit`.\n",
            "\n",
            "Current values:\n",
            "NotebookApp.iopub_data_rate_limit=1000000.0 (bytes/sec)\n",
            "NotebookApp.rate_limit_window=3.0 (secs)\n",
            "\n"
          ],
          "name": "stderr"
        }
      ]
    },
    {
      "cell_type": "markdown",
      "metadata": {
        "id": "yHp_BhwLwyzF"
      },
      "source": [
        "**Observation**: The bigger and bolder the word appears, the more often it’s mentioned within a given text and the more important it is.\n",
        "\n",
        "\n",
        "---\n",
        "\n",
        "\n",
        "\n",
        "\n"
      ]
    },
    {
      "cell_type": "code",
      "metadata": {
        "colab": {
          "base_uri": "https://localhost:8080/",
          "height": 265
        },
        "id": "gbgQnL_fmA4W",
        "outputId": "13ed4c1f-dabf-494c-bf26-1113b6887000"
      },
      "source": [
        "#Most frequent n-grams to understand the context in which the word was used\n",
        "#Using the ngrams function from nltk.util. \n",
        "\n",
        "#bigrams\n",
        "from sklearn.feature_extraction.text import CountVectorizer\n",
        "from collections import  Counter\n",
        "\n",
        "def plot_top_ngrams_barchart(text, n=2):\n",
        "    stop=set(stopwords.words('english'))\n",
        "\n",
        "    new= text.str.split()\n",
        "    new=new.values.tolist()\n",
        "    corpus=[word for i in new for word in i]\n",
        "\n",
        "    def _get_top_ngram(corpus, n=None):\n",
        "        vec = CountVectorizer(ngram_range=(n, n)).fit(corpus)\n",
        "        bag_of_words = vec.transform(corpus)\n",
        "        sum_words = bag_of_words.sum(axis=0) \n",
        "        words_freq = [(word, sum_words[0, idx]) \n",
        "                      for word, idx in vec.vocabulary_.items()]\n",
        "        words_freq =sorted(words_freq, key = lambda x: x[1], reverse=True)\n",
        "        return words_freq[:10]\n",
        "\n",
        "    top_n_bigrams=_get_top_ngram(text,n)[:10]\n",
        "    x,y=map(list,zip(*top_n_bigrams))\n",
        "    sns.barplot(x=y,y=x)\n",
        "\n",
        "plot_top_ngrams_barchart(df_train['comment_text'],2)\n"
      ],
      "execution_count": null,
      "outputs": [
        {
          "output_type": "display_data",
          "data": {
            "image/png": "[encoded data removed]",
            "text/plain": [
              "<Figure size 432x288 with 1 Axes>"
            ]
          },
          "metadata": {
            "tags": [],
            "needs_background": "light"
          }
        }
      ]
    },
    {
      "cell_type": "code",
      "metadata": {
        "colab": {
          "base_uri": "https://localhost:8080/",
          "height": 265
        },
        "id": "AC7HHCnenFtS",
        "outputId": "47d4e2e7-49fb-4d87-d353-bac6b20c0a53"
      },
      "source": [
        "#trigrams\n",
        "plot_top_ngrams_barchart(df_train['comment_text'],3)\n"
      ],
      "execution_count": null,
      "outputs": [
        {
          "output_type": "display_data",
          "data": {
            "image/png": "[encoded data removed]",
            "text/plain": [
              "<Figure size 432x288 with 1 Axes>"
            ]
          },
          "metadata": {
            "tags": [],
            "needs_background": "light"
          }
        }
      ]
    },
    {
      "cell_type": "code",
      "metadata": {
        "id": "54prPxs9pAOn"
      },
      "source": [
        "stemmer = PorterStemmer()\n",
        "df_train['processed_text'] = df_train['comment_text'].apply(lambda x: \" \".join([stemmer.stem(i) for i in re.sub(\"[^a-zA-Z]\", \" \", x).split() if i not in stop]).lower())"
      ],
      "execution_count": null,
      "outputs": []
    },
    {
      "cell_type": "markdown",
      "metadata": {
        "id": "9HKZa_QHocMZ"
      },
      "source": [
        "** *italicized text*Observation**: The trigram analysis is more insightful. Phrases like \"thank you for\", \"if you have\", \"my talk page\", \"please do not\", and \"would like to\" dominate most comments!\n",
        "\n",
        "\n",
        "\n",
        "---\n",
        "\n"
      ]
    },
    {
      "cell_type": "code",
      "metadata": {
        "colab": {
          "base_uri": "https://localhost:8080/",
          "height": 325
        },
        "id": "kRRCYZBn6376",
        "outputId": "11971b74-dd59-4323-f8b3-8e6bfc3679c3"
      },
      "source": [
        "#visualizing correlation\n",
        "\n",
        "target_data = df_train.drop(['id', 'comment_text'], axis=1)\n",
        "corrMatrix = target_data.corr()\n",
        "sns.heatmap(corrMatrix, annot=True)\n",
        "plt.show()"
      ],
      "execution_count": null,
      "outputs": [
        {
          "output_type": "display_data",
          "data": {
            "image/png": "[encoded data removed]",
            "text/plain": [
              "<Figure size 432x288 with 2 Axes>"
            ]
          },
          "metadata": {
            "tags": [],
            "needs_background": "light"
          }
        }
      ]
    },
    {
      "cell_type": "markdown",
      "metadata": {
        "id": "_xq1OGXE69RJ"
      },
      "source": [
        "**Observation**: Correlation helps us finding relationship/dependencies. Some labels are highely correlated. Correlation coefficient for insult-obscene is 0.74.\n",
        "\n",
        "\n",
        "1.   \"Toxic\" comments are clearly correlated with both \"obscene\" and \"insult\" comments.\n",
        "2.   Interestingly, \"toxic\" and \"severe_toxic\" are only weakly correlated.\n",
        "\n",
        "3.   \"Obscene\" comments and \"insult\" comments are also highly correlated, which makes perfect sense.\n",
        "\n",
        "\n",
        "\n",
        "\n",
        "\n",
        "\n",
        "---\n",
        "\n"
      ]
    },
    {
      "cell_type": "markdown",
      "metadata": {
        "id": "b-WDlmkciPMG"
      },
      "source": [
        "# Data Prep for ML models: RFC, Logistic Regression, SVM, Decision Tree"
      ]
    },
    {
      "cell_type": "code",
      "metadata": {
        "id": "sNhmcHf1igFF"
      },
      "source": [
        "df_train=pd.read_csv('/content/drive/MyDrive/AI-Project-Toxic-classification/Jigsaw dataset/train/train.csv')\n",
        "df_test=pd.read_csv('/content/drive/MyDrive/AI-Project-Toxic-classification/Jigsaw dataset/test/test.csv')"
      ],
      "execution_count": null,
      "outputs": []
    },
    {
      "cell_type": "code",
      "metadata": {
        "id": "HOS5AbBgKQo9"
      },
      "source": [
        "#for EDA LR\n",
        "df_train = train"
      ],
      "execution_count": null,
      "outputs": []
    },
    {
      "cell_type": "code",
      "metadata": {
        "colab": {
          "base_uri": "https://localhost:8080/"
        },
        "id": "Z9xku2WyiWxy",
        "outputId": "92d292f3-7b05-421b-f4d3-20ef497dd41f"
      },
      "source": [
        "#total columns in the dataset\n",
        "colms=df_train.columns.tolist()\n",
        "colms=colms[1:]\n",
        "print(colms)"
      ],
      "execution_count": null,
      "outputs": [
        {
          "output_type": "stream",
          "text": [
            "['toxic', 'severe_toxic', 'obscene', 'threat', 'insult', 'identity_hate']\n"
          ],
          "name": "stdout"
        }
      ]
    },
    {
      "cell_type": "code",
      "metadata": {
        "colab": {
          "base_uri": "https://localhost:8080/"
        },
        "id": "-IohkrCbc1xr",
        "outputId": "39662c8f-caf9-463b-e5d1-a2e5ae9031e2"
      },
      "source": [
        "col_count=[]\n",
        "for col in colms:\n",
        "  count=0\n",
        "  for items in df_train[col]:\n",
        "    if items==1:\n",
        "      count+=1\n",
        "  col_count.append(count)\n",
        "\n",
        "zip_col= list(zip(colms, col_count))\n",
        "print(zip_col)\n",
        "\n"
      ],
      "execution_count": null,
      "outputs": [
        {
          "output_type": "stream",
          "text": [
            "[('toxic', 15160), ('severe_toxic', 1860), ('obscene', 8380), ('threat', 320), ('insult', 8240), ('identity_hate', 1300)]\n"
          ],
          "name": "stdout"
        }
      ]
    },
    {
      "cell_type": "code",
      "metadata": {
        "id": "NYaKPBjiMYwI"
      },
      "source": [
        "df_train[\"comment_text\"].fillna(\"unknown\", inplace=True)\n",
        "df_train[\"comment_text\"].fillna(\"unknown\", inplace=True)"
      ],
      "execution_count": null,
      "outputs": []
    },
    {
      "cell_type": "code",
      "metadata": {
        "id": "iwzsu5_VnuYs",
        "colab": {
          "base_uri": "https://localhost:8080/",
          "height": 197
        },
        "outputId": "6c961389-2ebf-4a34-ee84-7fe05f03dcf0"
      },
      "source": [
        "df_train.head()\n",
        "#df_train=df_train.sample(n=100000)"
      ],
      "execution_count": null,
      "outputs": [
        {
          "output_type": "execute_result",
          "data": {
            "text/html": [
              "<div>\n",
              "<style scoped>\n",
              "    .dataframe tbody tr th:only-of-type {\n",
              "        vertical-align: middle;\n",
              "    }\n",
              "\n",
              "    .dataframe tbody tr th {\n",
              "        vertical-align: top;\n",
              "    }\n",
              "\n",
              "    .dataframe thead th {\n",
              "        text-align: right;\n",
              "    }\n",
              "</style>\n",
              "<table border=\"1\" class=\"dataframe\">\n",
              "  <thead>\n",
              "    <tr style=\"text-align: right;\">\n",
              "      <th></th>\n",
              "      <th>comment_text</th>\n",
              "      <th>toxic</th>\n",
              "      <th>severe_toxic</th>\n",
              "      <th>obscene</th>\n",
              "      <th>threat</th>\n",
              "      <th>insult</th>\n",
              "      <th>identity_hate</th>\n",
              "    </tr>\n",
              "  </thead>\n",
              "  <tbody>\n",
              "    <tr>\n",
              "      <th>0</th>\n",
              "      <td>benidorm speak valencian atalan edited contemp...</td>\n",
              "      <td>0</td>\n",
              "      <td>0</td>\n",
              "      <td>0</td>\n",
              "      <td>0</td>\n",
              "      <td>0</td>\n",
              "      <td>0</td>\n",
              "    </tr>\n",
              "    <tr>\n",
              "      <th>1</th>\n",
              "      <td>benidorm utter valencian catalan redact insult...</td>\n",
              "      <td>0</td>\n",
              "      <td>0</td>\n",
              "      <td>0</td>\n",
              "      <td>0</td>\n",
              "      <td>0</td>\n",
              "      <td>0</td>\n",
              "    </tr>\n",
              "    <tr>\n",
              "      <th>2</th>\n",
              "      <td>benidorm speak valencian atalan edited insulti...</td>\n",
              "      <td>0</td>\n",
              "      <td>0</td>\n",
              "      <td>0</td>\n",
              "      <td>0</td>\n",
              "      <td>0</td>\n",
              "      <td>0</td>\n",
              "    </tr>\n",
              "    <tr>\n",
              "      <th>3</th>\n",
              "      <td>benidorm speak valencian catalan editout insul...</td>\n",
              "      <td>0</td>\n",
              "      <td>0</td>\n",
              "      <td>0</td>\n",
              "      <td>0</td>\n",
              "      <td>0</td>\n",
              "      <td>0</td>\n",
              "    </tr>\n",
              "    <tr>\n",
              "      <th>4</th>\n",
              "      <td>benidorm verbalize valencian atalan edited ins...</td>\n",
              "      <td>0</td>\n",
              "      <td>0</td>\n",
              "      <td>0</td>\n",
              "      <td>0</td>\n",
              "      <td>0</td>\n",
              "      <td>0</td>\n",
              "    </tr>\n",
              "  </tbody>\n",
              "</table>\n",
              "</div>"
            ],
            "text/plain": [
              "                                        comment_text  ...  identity_hate\n",
              "0  benidorm speak valencian atalan edited contemp...  ...              0\n",
              "1  benidorm utter valencian catalan redact insult...  ...              0\n",
              "2  benidorm speak valencian atalan edited insulti...  ...              0\n",
              "3  benidorm speak valencian catalan editout insul...  ...              0\n",
              "4  benidorm verbalize valencian atalan edited ins...  ...              0\n",
              "\n",
              "[5 rows x 7 columns]"
            ]
          },
          "metadata": {
            "tags": []
          },
          "execution_count": 17
        }
      ]
    },
    {
      "cell_type": "code",
      "metadata": {
        "colab": {
          "base_uri": "https://localhost:8080/",
          "height": 266
        },
        "id": "AA0EcELGpazJ",
        "outputId": "b1d10ca9-2eab-4e4e-883a-c5d0bf22e961"
      },
      "source": [
        "col_count=[]\n",
        "for col in colms:\n",
        "  count=0\n",
        "  for items in df_train[col]:\n",
        "    if items==1:\n",
        "      count+=1\n",
        "  col_count.append(count)\n",
        "\n",
        "fig = plt.figure()\n",
        "ax=fig.add_subplot(111)\n",
        "ax.bar(colms, col_count)\n",
        "plt.show()"
      ],
      "execution_count": null,
      "outputs": [
        {
          "output_type": "display_data",
          "data": {
            "image/png": "[encoded data removed]",
            "text/plain": [
              "<Figure size 432x288 with 1 Axes>"
            ]
          },
          "metadata": {
            "tags": [],
            "needs_background": "light"
          }
        }
      ]
    },
    {
      "cell_type": "code",
      "metadata": {
        "id": "tDAJShZ0pqU8",
        "colab": {
          "base_uri": "https://localhost:8080/"
        },
        "outputId": "71ed1a00-9375-46d0-af81-454738246902"
      },
      "source": [
        "zip_col= list(zip(colms, col_count))\n",
        "print(zip_col)\n",
        "\n",
        "#[('toxic', 15294), ('severe_toxic', 1595), ('obscene', 8449), ('threat', 478), ('insult', 7877), ('identity_hate', 1405)]"
      ],
      "execution_count": null,
      "outputs": [
        {
          "output_type": "stream",
          "text": [
            "[('toxic', 4757), ('severe_toxic', 498), ('obscene', 2628), ('threat', 160), ('insult', 2422), ('identity_hate', 456)]\n"
          ],
          "name": "stdout"
        }
      ]
    },
    {
      "cell_type": "code",
      "metadata": {
        "colab": {
          "base_uri": "https://localhost:8080/",
          "height": 358
        },
        "id": "-Ik-S0X3bqCe",
        "outputId": "fd51c732-910a-4f00-9b64-3dd3b4c475e1"
      },
      "source": [
        "rowSums = df_train.iloc[:,2:].sum(axis=1)\n",
        "multiLabel_counts = rowSums.value_counts()\n",
        "multiLabel_counts = multiLabel_counts.iloc[1:]\n",
        "\n",
        "ax = sns.barplot(multiLabel_counts.index, multiLabel_counts.values)\n",
        "plt.title(\"Comments having multiple labels \")\n",
        "plt.ylabel('Number of comments', fontsize=18)\n",
        "plt.xlabel('Number of labels', fontsize=18)\n",
        "\n",
        "#adding the text labels\n",
        "rects = ax.patches\n",
        "labels = multiLabel_counts.values\n",
        "for rect, label in zip(rects, labels):\n",
        "    height = rect.get_height()\n",
        "    ax.text(rect.get_x() + rect.get_width()/2, height + 5, label, ha='center', va='bottom')\n",
        "plt.show()"
      ],
      "execution_count": null,
      "outputs": [
        {
          "output_type": "stream",
          "text": [
            "/usr/local/lib/python3.7/dist-packages/seaborn/_decorators.py:43: FutureWarning: Pass the following variables as keyword args: x, y. From version 0.12, the only valid positional argument will be `data`, and passing other arguments without an explicit keyword will result in an error or misinterpretation.\n",
            "  FutureWarning\n"
          ],
          "name": "stderr"
        },
        {
          "output_type": "display_data",
          "data": {
            "image/png": "[encoded data removed]",
            "text/plain": [
              "<Figure size 432x288 with 1 Axes>"
            ]
          },
          "metadata": {
            "tags": [],
            "needs_background": "light"
          }
        }
      ]
    },
    {
      "cell_type": "code",
      "metadata": {
        "colab": {
          "base_uri": "https://localhost:8080/"
        },
        "id": "co3FmdFOiWx0",
        "outputId": "3a40ea9a-0482-465b-bc30-8321c5696c93"
      },
      "source": [
        "#Analyzing the amount and the types of stopwords using the corpus of the nltk library. \n",
        "#Nltk contains stopwords from many languages. Considering only English here.  \n",
        "import nltk\n",
        "import re, string\n",
        "from nltk.corpus import stopwords\n",
        "from nltk.stem import PorterStemmer\n",
        "from nltk.stem import WordNetLemmatizer\n",
        "from nltk import sent_tokenize\n",
        "from nltk.tokenize import word_tokenize\n",
        "nltk.download('punkt')\n",
        "nltk.download('wordnet')\n",
        "nltk.download('stopwords')\n",
        "stop=set(stopwords.words('english'))\n"
      ],
      "execution_count": null,
      "outputs": [
        {
          "output_type": "stream",
          "text": [
            "[nltk_data] Downloading package punkt to /root/nltk_data...\n",
            "[nltk_data]   Unzipping tokenizers/punkt.zip.\n",
            "[nltk_data] Downloading package wordnet to /root/nltk_data...\n",
            "[nltk_data]   Unzipping corpora/wordnet.zip.\n",
            "[nltk_data] Downloading package stopwords to /root/nltk_data...\n",
            "[nltk_data]   Unzipping corpora/stopwords.zip.\n"
          ],
          "name": "stdout"
        }
      ]
    },
    {
      "cell_type": "code",
      "metadata": {
        "id": "VJCorFakTF-K"
      },
      "source": [
        "stemmer = PorterStemmer()\n",
        "df_train['comment_text'] = df_train['comment_text'].apply(lambda x: \" \".join([stemmer.stem(i) for i in re.sub(\"[^a-zA-Z]\", \" \", x).split() if i not in stop]).lower())"
      ],
      "execution_count": null,
      "outputs": []
    },
    {
      "cell_type": "code",
      "metadata": {
        "id": "9xQ1BlcYiWx1"
      },
      "source": [
        "#Removing stopwords\n",
        "###################################################\n",
        "def remove_stopwords(df):\n",
        "    corp=[]\n",
        "    for df_t in df['comment_text']:\n",
        "      if (df_t not in stop):\n",
        "        corp.append(df_t)\n",
        "    return corp\n",
        "\n",
        "wostopwords=remove_stopwords(df_train)\n",
        "df_train['comment_text']=wostopwords\n",
        "df_train.head()"
      ],
      "execution_count": null,
      "outputs": []
    },
    {
      "cell_type": "code",
      "metadata": {
        "id": "CgEU-9A71sAb",
        "colab": {
          "base_uri": "https://localhost:8080/",
          "height": 197
        },
        "outputId": "c6801bdd-02f1-4165-b855-6586b9bfa5be"
      },
      "source": [
        "#Lowercasing all comments, removing unnecessary spaces\n",
        "###############################################\n",
        "df_train['comment_text']=df_train['comment_text'].str.lower().str.strip()\n",
        "df_train = df_train.replace('\\n',' ', regex=True)\n",
        "df_train = df_train.replace('\\t',' ', regex=True)\n",
        "df_train = df_train.replace('\\r',' ', regex=True)\n",
        "df_train['comment_text']= df_train['comment_text'].replace(\"’\", \"\", regex=True)\n",
        "df_train['comment_text'] = df_train['comment_text'].replace(\"'\", \"\", regex=True)\n",
        "df_train['comment_text'] = df_train['comment_text'].replace(\"-\", \" \", regex=True)\n",
        "df_train.head()"
      ],
      "execution_count": null,
      "outputs": [
        {
          "output_type": "execute_result",
          "data": {
            "text/html": [
              "<div>\n",
              "<style scoped>\n",
              "    .dataframe tbody tr th:only-of-type {\n",
              "        vertical-align: middle;\n",
              "    }\n",
              "\n",
              "    .dataframe tbody tr th {\n",
              "        vertical-align: top;\n",
              "    }\n",
              "\n",
              "    .dataframe thead th {\n",
              "        text-align: right;\n",
              "    }\n",
              "</style>\n",
              "<table border=\"1\" class=\"dataframe\">\n",
              "  <thead>\n",
              "    <tr style=\"text-align: right;\">\n",
              "      <th></th>\n",
              "      <th>comment_text</th>\n",
              "      <th>toxic</th>\n",
              "      <th>severe_toxic</th>\n",
              "      <th>obscene</th>\n",
              "      <th>threat</th>\n",
              "      <th>insult</th>\n",
              "      <th>identity_hate</th>\n",
              "    </tr>\n",
              "  </thead>\n",
              "  <tbody>\n",
              "    <tr>\n",
              "      <th>0</th>\n",
              "      <td>benidorm speak valencian atalan edit contemptu...</td>\n",
              "      <td>0</td>\n",
              "      <td>0</td>\n",
              "      <td>0</td>\n",
              "      <td>0</td>\n",
              "      <td>0</td>\n",
              "      <td>0</td>\n",
              "    </tr>\n",
              "    <tr>\n",
              "      <th>1</th>\n",
              "      <td>benidorm utter valencian catalan redact insult...</td>\n",
              "      <td>0</td>\n",
              "      <td>0</td>\n",
              "      <td>0</td>\n",
              "      <td>0</td>\n",
              "      <td>0</td>\n",
              "      <td>0</td>\n",
              "    </tr>\n",
              "    <tr>\n",
              "      <th>2</th>\n",
              "      <td>benidorm speak valencian atalan edit insult wo...</td>\n",
              "      <td>0</td>\n",
              "      <td>0</td>\n",
              "      <td>0</td>\n",
              "      <td>0</td>\n",
              "      <td>0</td>\n",
              "      <td>0</td>\n",
              "    </tr>\n",
              "    <tr>\n",
              "      <th>3</th>\n",
              "      <td>benidorm speak valencian catalan editout insul...</td>\n",
              "      <td>0</td>\n",
              "      <td>0</td>\n",
              "      <td>0</td>\n",
              "      <td>0</td>\n",
              "      <td>0</td>\n",
              "      <td>0</td>\n",
              "    </tr>\n",
              "    <tr>\n",
              "      <th>4</th>\n",
              "      <td>benidorm verbal valencian atalan edit insult w...</td>\n",
              "      <td>0</td>\n",
              "      <td>0</td>\n",
              "      <td>0</td>\n",
              "      <td>0</td>\n",
              "      <td>0</td>\n",
              "      <td>0</td>\n",
              "    </tr>\n",
              "  </tbody>\n",
              "</table>\n",
              "</div>"
            ],
            "text/plain": [
              "                                        comment_text  ...  identity_hate\n",
              "0  benidorm speak valencian atalan edit contemptu...  ...              0\n",
              "1  benidorm utter valencian catalan redact insult...  ...              0\n",
              "2  benidorm speak valencian atalan edit insult wo...  ...              0\n",
              "3  benidorm speak valencian catalan editout insul...  ...              0\n",
              "4  benidorm verbal valencian atalan edit insult w...  ...              0\n",
              "\n",
              "[5 rows x 7 columns]"
            ]
          },
          "metadata": {
            "tags": []
          },
          "execution_count": 22
        }
      ]
    },
    {
      "cell_type": "code",
      "metadata": {
        "id": "R2Ji5bAnSAu9"
      },
      "source": [
        "'''text: list of text documents'''\n",
        "def tokenize(text):\n",
        "    tokenized =  sent_tokenize(text)\n",
        "    return tokenized\n",
        "\n",
        "for comm in df_train:\n",
        "  comm=tokenize(comm)\n",
        "#df_train =  tokenize(df_train)"
      ],
      "execution_count": null,
      "outputs": []
    },
    {
      "cell_type": "code",
      "metadata": {
        "id": "l0bqssaBcwVY"
      },
      "source": [
        "import pickle\n",
        "import os"
      ],
      "execution_count": null,
      "outputs": []
    },
    {
      "cell_type": "code",
      "metadata": {
        "id": "NRVcqBmP04Eu"
      },
      "source": [
        "from sklearn.model_selection import train_test_split\n",
        "from scipy.sparse import csr_matrix\n",
        "from sklearn.feature_extraction.text import CountVectorizer, TfidfVectorizer"
      ],
      "execution_count": null,
      "outputs": []
    },
    {
      "cell_type": "code",
      "metadata": {
        "id": "9NwQJggSZJ9F"
      },
      "source": [
        "import sklearn.model_selection as model_selection\n",
        "from sklearn.metrics import accuracy_score\n",
        "from sklearn.metrics import f1_score\n"
      ],
      "execution_count": null,
      "outputs": []
    },
    {
      "cell_type": "code",
      "metadata": {
        "colab": {
          "base_uri": "https://localhost:8080/"
        },
        "id": "DrdFOtFsVM-R",
        "outputId": "f0d2316f-48a4-4d05-bab9-402aab9d6b40"
      },
      "source": [
        "X_train, X_test, y_train, y_test = train_test_split(df_train[\"comment_text\"], df_train[colms].values, test_size=0.30)\n",
        "print(X_train.shape, X_test.shape, y_train.shape, y_test.shape)"
      ],
      "execution_count": null,
      "outputs": [
        {
          "output_type": "stream",
          "text": [
            "(35000,) (15000,) (35000, 6) (15000, 6)\n"
          ],
          "name": "stdout"
        }
      ]
    },
    {
      "cell_type": "markdown",
      "metadata": {
        "id": "YsvprMlHY6pG"
      },
      "source": [
        "## Vectorization Functions"
      ]
    },
    {
      "cell_type": "markdown",
      "metadata": {
        "id": "T6qatCBoY-65"
      },
      "source": [
        "COUNT_VEC <br>\n",
        "TFIDF<br>\n",
        "WORD2VEC<br>\n",
        "GLOVE(Done Above in DL models)<br>"
      ]
    },
    {
      "cell_type": "code",
      "metadata": {
        "id": "JOHEeuneZUxQ"
      },
      "source": [
        "#Count Vectorization"
      ],
      "execution_count": null,
      "outputs": []
    },
    {
      "cell_type": "code",
      "metadata": {
        "id": "KZnHo3zmZSGK"
      },
      "source": [
        "def vectorize_countvec(X_train, X_test):\n",
        "  count_vec= CountVectorizer()\n",
        "  X_train=count_vec.fit_transform(X_train)\n",
        "  X_test=count_vec.fit_transform(X_test)\n",
        "\n",
        "vectorize_countvec(X_train, X_test)"
      ],
      "execution_count": null,
      "outputs": []
    },
    {
      "cell_type": "code",
      "metadata": {
        "id": "xf1TcdC3Y9qi"
      },
      "source": [
        "#TFIDF"
      ],
      "execution_count": null,
      "outputs": []
    },
    {
      "cell_type": "code",
      "metadata": {
        "id": "Vptqx9Guas2b"
      },
      "source": [
        "vect_word = TfidfVectorizer(max_features=15000, lowercase=True, analyzer='word',\n",
        "                        stop_words= 'english',ngram_range=(1,3),dtype=np.float32)"
      ],
      "execution_count": null,
      "outputs": []
    },
    {
      "cell_type": "code",
      "metadata": {
        "id": "VPyB25VzarrV"
      },
      "source": [
        "X_train = vect_word.fit_transform(X_train)\n",
        "X_test = vect_word.transform(X_test)\n"
      ],
      "execution_count": null,
      "outputs": []
    },
    {
      "cell_type": "code",
      "metadata": {
        "colab": {
          "base_uri": "https://localhost:8080/"
        },
        "id": "pcbxHp6Lec5d",
        "outputId": "de198d74-015a-4f40-c55b-720b1c2df040"
      },
      "source": [
        "X_train.shape"
      ],
      "execution_count": null,
      "outputs": [
        {
          "output_type": "execute_result",
          "data": {
            "text/plain": [
              "(35000, 15000)"
            ]
          },
          "metadata": {
            "tags": []
          },
          "execution_count": 53
        }
      ]
    },
    {
      "cell_type": "code",
      "metadata": {
        "colab": {
          "base_uri": "https://localhost:8080/"
        },
        "id": "Ts1wR1c4eYuk",
        "outputId": "64fa7d0f-98a8-4596-ec4b-2b01f24a9817"
      },
      "source": [
        "X_test.shape\n"
      ],
      "execution_count": null,
      "outputs": [
        {
          "output_type": "execute_result",
          "data": {
            "text/plain": [
              "(15000, 15000)"
            ]
          },
          "metadata": {
            "tags": []
          },
          "execution_count": 52
        }
      ]
    },
    {
      "cell_type": "code",
      "metadata": {
        "id": "kU9upojEj1Co"
      },
      "source": [
        "X_train = sparse.hstack(X_train)\n",
        "X_test = sparse.hstack(X_test)"
      ],
      "execution_count": null,
      "outputs": []
    },
    {
      "cell_type": "code",
      "metadata": {
        "id": "DXHP9dWKZRKz"
      },
      "source": [
        "#Word to Vector"
      ],
      "execution_count": null,
      "outputs": []
    },
    {
      "cell_type": "code",
      "metadata": {
        "id": "m8FLY0mWc8kL"
      },
      "source": [
        "from gensim.models import word2vec\n",
        "def vectorize_word2vec(X_train, X_test):\n",
        "  count_vec= CountVectorizer()\n",
        "  X_train=count_vec.fit_transform(X_train)\n",
        "  X_test=count_vec.fit_transform(X_test)\n",
        "  \n",
        "  train_tokenized_sentences = [sentence.split() for sentence in X_train]\n",
        "  test_tokenized_sentences = [sentence.split() for sentence in X_test]\n",
        "  X_train = word2vec.Word2Vec(train_tokenized_sentences, min_count=2)\n",
        "  X_test = word2vec.Word2Vec(test_tokenized_sentences, min_count=2)\n",
        "  \n",
        "vectorize_word2vec(X_train, X_test)"
      ],
      "execution_count": null,
      "outputs": []
    },
    {
      "cell_type": "markdown",
      "metadata": {
        "id": "nHxl_PITqiL6"
      },
      "source": [
        "#### Data used for following algos is minimized, due to computational inefficiency. (sliced to 50k values of 159k)\n",
        "#### To Do: Increase data size to improve results"
      ]
    },
    {
      "cell_type": "markdown",
      "metadata": {
        "id": "2wLYp1CFLS-N"
      },
      "source": [
        "# Logistic Regression"
      ]
    },
    {
      "cell_type": "code",
      "metadata": {
        "id": "OQXcQRT4LS-V"
      },
      "source": [
        ""
      ],
      "execution_count": null,
      "outputs": []
    },
    {
      "cell_type": "code",
      "metadata": {
        "id": "KMIZoW6iLS-V"
      },
      "source": [
        "vect_word = TfidfVectorizer(max_features=20000, lowercase=True, analyzer='word',\n",
        "                        stop_words= 'english',ngram_range=(1,3),dtype=np.float32)\n",
        "vect_char = TfidfVectorizer(max_features=40000, lowercase=True, analyzer='char',\n",
        "                        stop_words= 'english',ngram_range=(3,6),dtype=np.float32)"
      ],
      "execution_count": null,
      "outputs": []
    },
    {
      "cell_type": "code",
      "metadata": {
        "id": "2KryzJAxLS-W"
      },
      "source": [
        "# Word ngram vector\n",
        "tr_vect = vect_word.fit_transform(df_train['comment_text'])\n",
        "ts_vect = vect_word.transform(df_test['comment_text'])\n",
        "\n",
        "# Character n gram vector\n",
        "#tr_vect_char = vect_char.fit_transform(df_train['comment_text'])\n",
        "#ts_vect_char = vect_char.transform(df_test['comment_text'])"
      ],
      "execution_count": null,
      "outputs": []
    },
    {
      "cell_type": "code",
      "metadata": {
        "id": "eqavD9yJLS-X"
      },
      "source": [
        "#X = sparse.hstack([tr_vect, tr_vect_char])\n",
        "#x_test = sparse.hstack([ts_vect, ts_vect_char])\n",
        "X = sparse.hstack(tr_vect)\n",
        "x_test = sparse.hstack(ts_vect)"
      ],
      "execution_count": null,
      "outputs": []
    },
    {
      "cell_type": "code",
      "metadata": {
        "id": "AD3m67QnLS-X"
      },
      "source": [
        "y = df_train[classes]\n",
        "del tr_vect, ts_vect, tr_vect_char, ts_vect_char"
      ],
      "execution_count": null,
      "outputs": []
    },
    {
      "cell_type": "code",
      "metadata": {
        "colab": {
          "base_uri": "https://localhost:8080/"
        },
        "id": "XbxezTq8LS-Y",
        "outputId": "769f4fb1-518f-4e1b-fcbb-c5ab51fce00d"
      },
      "source": [
        "prd = np.zeros((x_test.shape[0],y.shape[1]))\n",
        "cv_score =[]\n",
        "for i,col in enumerate(colms):\n",
        "    lr = LogisticRegression(C=2,random_state = i,class_weight = 'balanced')\n",
        "    print('Building {} model for column:{''}'.format(i,col)) \n",
        "    lr.fit(X,y[col])\n",
        "    #cv_score.append(lr.score)\n",
        "    prd[:,i] = lr.predict_proba(x_test)[:,1]"
      ],
      "execution_count": null,
      "outputs": [
        {
          "output_type": "stream",
          "text": [
            "Building 0 model for column:toxic\n"
          ],
          "name": "stdout"
        },
        {
          "output_type": "stream",
          "text": [
            "/usr/local/lib/python3.7/dist-packages/sklearn/linear_model/_logistic.py:940: ConvergenceWarning: lbfgs failed to converge (status=1):\n",
            "STOP: TOTAL NO. of ITERATIONS REACHED LIMIT.\n",
            "\n",
            "Increase the number of iterations (max_iter) or scale the data as shown in:\n",
            "    https://scikit-learn.org/stable/modules/preprocessing.html\n",
            "Please also refer to the documentation for alternative solver options:\n",
            "    https://scikit-learn.org/stable/modules/linear_model.html#logistic-regression\n",
            "  extra_warning_msg=_LOGISTIC_SOLVER_CONVERGENCE_MSG)\n"
          ],
          "name": "stderr"
        },
        {
          "output_type": "stream",
          "text": [
            "Building 1 model for column:severe_toxic\n"
          ],
          "name": "stdout"
        },
        {
          "output_type": "stream",
          "text": [
            "/usr/local/lib/python3.7/dist-packages/sklearn/linear_model/_logistic.py:940: ConvergenceWarning: lbfgs failed to converge (status=1):\n",
            "STOP: TOTAL NO. of ITERATIONS REACHED LIMIT.\n",
            "\n",
            "Increase the number of iterations (max_iter) or scale the data as shown in:\n",
            "    https://scikit-learn.org/stable/modules/preprocessing.html\n",
            "Please also refer to the documentation for alternative solver options:\n",
            "    https://scikit-learn.org/stable/modules/linear_model.html#logistic-regression\n",
            "  extra_warning_msg=_LOGISTIC_SOLVER_CONVERGENCE_MSG)\n"
          ],
          "name": "stderr"
        },
        {
          "output_type": "stream",
          "text": [
            "Building 2 model for column:obscene\n"
          ],
          "name": "stdout"
        },
        {
          "output_type": "stream",
          "text": [
            "/usr/local/lib/python3.7/dist-packages/sklearn/linear_model/_logistic.py:940: ConvergenceWarning: lbfgs failed to converge (status=1):\n",
            "STOP: TOTAL NO. of ITERATIONS REACHED LIMIT.\n",
            "\n",
            "Increase the number of iterations (max_iter) or scale the data as shown in:\n",
            "    https://scikit-learn.org/stable/modules/preprocessing.html\n",
            "Please also refer to the documentation for alternative solver options:\n",
            "    https://scikit-learn.org/stable/modules/linear_model.html#logistic-regression\n",
            "  extra_warning_msg=_LOGISTIC_SOLVER_CONVERGENCE_MSG)\n"
          ],
          "name": "stderr"
        },
        {
          "output_type": "stream",
          "text": [
            "Building 3 model for column:threat\n",
            "Building 4 model for column:insult\n"
          ],
          "name": "stdout"
        },
        {
          "output_type": "stream",
          "text": [
            "/usr/local/lib/python3.7/dist-packages/sklearn/linear_model/_logistic.py:940: ConvergenceWarning: lbfgs failed to converge (status=1):\n",
            "STOP: TOTAL NO. of ITERATIONS REACHED LIMIT.\n",
            "\n",
            "Increase the number of iterations (max_iter) or scale the data as shown in:\n",
            "    https://scikit-learn.org/stable/modules/preprocessing.html\n",
            "Please also refer to the documentation for alternative solver options:\n",
            "    https://scikit-learn.org/stable/modules/linear_model.html#logistic-regression\n",
            "  extra_warning_msg=_LOGISTIC_SOLVER_CONVERGENCE_MSG)\n"
          ],
          "name": "stderr"
        },
        {
          "output_type": "stream",
          "text": [
            "Building 5 model for column:identity_hate\n"
          ],
          "name": "stdout"
        },
        {
          "output_type": "stream",
          "text": [
            "/usr/local/lib/python3.7/dist-packages/sklearn/linear_model/_logistic.py:940: ConvergenceWarning: lbfgs failed to converge (status=1):\n",
            "STOP: TOTAL NO. of ITERATIONS REACHED LIMIT.\n",
            "\n",
            "Increase the number of iterations (max_iter) or scale the data as shown in:\n",
            "    https://scikit-learn.org/stable/modules/preprocessing.html\n",
            "Please also refer to the documentation for alternative solver options:\n",
            "    https://scikit-learn.org/stable/modules/linear_model.html#logistic-regression\n",
            "  extra_warning_msg=_LOGISTIC_SOLVER_CONVERGENCE_MSG)\n"
          ],
          "name": "stderr"
        }
      ]
    },
    {
      "cell_type": "code",
      "metadata": {
        "id": "QvWWgvAbLS-Y"
      },
      "source": [
        "for col in classes:\n",
        "  print(\"Column:\",col)\n",
        "  pred =  lr.predict(x_test)\n",
        "  print('\\nConfusion matrix\\n',confusion_matrix(y[col],pred))\n",
        "  print(classification_report(y[col],pred))"
      ],
      "execution_count": null,
      "outputs": []
    },
    {
      "cell_type": "code",
      "metadata": {
        "id": "Z_jKje2SLS-Z"
      },
      "source": [
        ""
      ],
      "execution_count": null,
      "outputs": []
    },
    {
      "cell_type": "code",
      "metadata": {
        "colab": {
          "base_uri": "https://localhost:8080/"
        },
        "id": "-0WwnAxYLS-Z",
        "outputId": "0d301fcb-31cd-4246-9c31-46f4efe9b598"
      },
      "source": [
        "for col in classes:\n",
        "  print(\"Column:\",col)\n",
        "  pred =  lr.predict(x_test)\n",
        "  print('\\nConfusion matrix\\n',confusion_matrix(y[col],pred))\n",
        "  print(classification_report(y[col],pred))"
      ],
      "execution_count": null,
      "outputs": [
        {
          "output_type": "stream",
          "text": [
            "Column: toxic\n",
            "\n",
            "Confusion matrix\n",
            " [[143846    431]\n",
            " [ 12567   2727]]\n",
            "              precision    recall  f1-score   support\n",
            "\n",
            "           0       0.92      1.00      0.96    144277\n",
            "           1       0.86      0.18      0.30     15294\n",
            "\n",
            "    accuracy                           0.92    159571\n",
            "   macro avg       0.89      0.59      0.63    159571\n",
            "weighted avg       0.91      0.92      0.89    159571\n",
            "\n",
            "Column: severe_toxic\n",
            "\n",
            "Confusion matrix\n",
            " [[155478   2498]\n",
            " [   935    660]]\n",
            "              precision    recall  f1-score   support\n",
            "\n",
            "           0       0.99      0.98      0.99    157976\n",
            "           1       0.21      0.41      0.28      1595\n",
            "\n",
            "    accuracy                           0.98    159571\n",
            "   macro avg       0.60      0.70      0.63    159571\n",
            "weighted avg       0.99      0.98      0.98    159571\n",
            "\n",
            "Column: obscene\n",
            "\n",
            "Confusion matrix\n",
            " [[149999   1123]\n",
            " [  6414   2035]]\n",
            "              precision    recall  f1-score   support\n",
            "\n",
            "           0       0.96      0.99      0.98    151122\n",
            "           1       0.64      0.24      0.35      8449\n",
            "\n",
            "    accuracy                           0.95    159571\n",
            "   macro avg       0.80      0.62      0.66    159571\n",
            "weighted avg       0.94      0.95      0.94    159571\n",
            "\n",
            "Column: threat\n",
            "\n",
            "Confusion matrix\n",
            " [[156088   3005]\n",
            " [   325    153]]\n",
            "              precision    recall  f1-score   support\n",
            "\n",
            "           0       1.00      0.98      0.99    159093\n",
            "           1       0.05      0.32      0.08       478\n",
            "\n",
            "    accuracy                           0.98    159571\n",
            "   macro avg       0.52      0.65      0.54    159571\n",
            "weighted avg       1.00      0.98      0.99    159571\n",
            "\n",
            "Column: insult\n",
            "\n",
            "Confusion matrix\n",
            " [[150687   1007]\n",
            " [  5726   2151]]\n",
            "              precision    recall  f1-score   support\n",
            "\n",
            "           0       0.96      0.99      0.98    151694\n",
            "           1       0.68      0.27      0.39      7877\n",
            "\n",
            "    accuracy                           0.96    159571\n",
            "   macro avg       0.82      0.63      0.68    159571\n",
            "weighted avg       0.95      0.96      0.95    159571\n",
            "\n",
            "Column: identity_hate\n",
            "\n",
            "Confusion matrix\n",
            " [[156413   1753]\n",
            " [     0   1405]]\n",
            "              precision    recall  f1-score   support\n",
            "\n",
            "           0       1.00      0.99      0.99    158166\n",
            "           1       0.44      1.00      0.62      1405\n",
            "\n",
            "    accuracy                           0.99    159571\n",
            "   macro avg       0.72      0.99      0.81    159571\n",
            "weighted avg       1.00      0.99      0.99    159571\n",
            "\n"
          ],
          "name": "stdout"
        }
      ]
    },
    {
      "cell_type": "code",
      "metadata": {
        "id": "y7NKs2ScLS-a"
      },
      "source": [
        ""
      ],
      "execution_count": null,
      "outputs": []
    },
    {
      "cell_type": "markdown",
      "metadata": {
        "id": "e8p-DcQNivRH"
      },
      "source": [
        "# Random Forest Classifier"
      ]
    },
    {
      "cell_type": "code",
      "metadata": {
        "id": "XK0o9rXeqVEX"
      },
      "source": [
        "from sklearn.ensemble import RandomForestClassifier"
      ],
      "execution_count": null,
      "outputs": []
    },
    {
      "cell_type": "code",
      "metadata": {
        "id": "9mMnQUy2Voms"
      },
      "source": [
        "RFC = RandomForestClassifier()\n",
        "model = RFC.fit(X_train, y_train)\n",
        "with open('/content/drive/MyDrive/AI-Project-Toxic-classification/RandomForestClassifier.pickle', 'wb') as f:\n",
        "    pickle.dump(model, f)"
      ],
      "execution_count": null,
      "outputs": []
    },
    {
      "cell_type": "code",
      "metadata": {
        "id": "e0KV0SkTf7yZ"
      },
      "source": [
        "from sklearn.metrics import classification_report, confusion_matrix"
      ],
      "execution_count": null,
      "outputs": []
    },
    {
      "cell_type": "code",
      "metadata": {
        "colab": {
          "base_uri": "https://localhost:8080/"
        },
        "id": "8E_viAsfVopM",
        "outputId": "28c224b8-43ad-49f8-d92b-bd5f62ed1ac8"
      },
      "source": [
        "print(classification_report(y_test, model.predict(X_test)))\n",
        "print(confusion_matrix(y_test.argmax(axis=1), model.predict(X_test).argmax(axis=1)))"
      ],
      "execution_count": null,
      "outputs": [
        {
          "output_type": "stream",
          "text": [
            "/usr/local/lib/python3.7/dist-packages/sklearn/metrics/_classification.py:1272: UndefinedMetricWarning: Precision and F-score are ill-defined and being set to 0.0 in samples with no predicted labels. Use `zero_division` parameter to control this behavior.\n",
            "  _warn_prf(average, modifier, msg_start, len(result))\n",
            "/usr/local/lib/python3.7/dist-packages/sklearn/metrics/_classification.py:1272: UndefinedMetricWarning: Recall and F-score are ill-defined and being set to 0.0 in samples with no true labels. Use `zero_division` parameter to control this behavior.\n",
            "  _warn_prf(average, modifier, msg_start, len(result))\n"
          ],
          "name": "stderr"
        },
        {
          "output_type": "stream",
          "text": [
            "              precision    recall  f1-score   support\n",
            "\n",
            "           0       0.85      0.62      0.72      1450\n",
            "           1       0.44      0.08      0.13       139\n",
            "           2       0.85      0.69      0.76       765\n",
            "           3       1.00      0.02      0.04        51\n",
            "           4       0.73      0.50      0.59       725\n",
            "           5       0.37      0.06      0.10       126\n",
            "\n",
            "   micro avg       0.82      0.56      0.66      3256\n",
            "   macro avg       0.71      0.33      0.39      3256\n",
            "weighted avg       0.79      0.56      0.64      3256\n",
            " samples avg       0.06      0.05      0.05      3256\n",
            "\n",
            "[[14918     1     0     1     0]\n",
            " [   48     0     0     0     0]\n",
            " [    2     0     0     0     0]\n",
            " [   26     0     0     0     0]\n",
            " [    4     0     0     0     0]]\n"
          ],
          "name": "stdout"
        }
      ]
    },
    {
      "cell_type": "markdown",
      "metadata": {
        "id": "7SHKPgRCO0v4"
      },
      "source": [
        "#SVM"
      ]
    },
    {
      "cell_type": "markdown",
      "metadata": {
        "id": "4ryYUX7EJRY2"
      },
      "source": [
        "##Data Preprocessing"
      ]
    },
    {
      "cell_type": "code",
      "metadata": {
        "id": "ROfQP-3-LHMG"
      },
      "source": [
        "import pandas as pd\n",
        "import numpy as np\n",
        "import matplotlib.pyplot as plt"
      ],
      "execution_count": null,
      "outputs": []
    },
    {
      "cell_type": "code",
      "metadata": {
        "colab": {
          "base_uri": "https://localhost:8080/"
        },
        "id": "64qyQ1YeLHMQ",
        "outputId": "43567de4-0fca-4879-f2de-178ebae49519"
      },
      "source": [
        "from google.colab import drive\n",
        "drive.mount('/content/drive')"
      ],
      "execution_count": null,
      "outputs": [
        {
          "output_type": "stream",
          "text": [
            "Mounted at /content/drive\n"
          ],
          "name": "stdout"
        }
      ]
    },
    {
      "cell_type": "code",
      "metadata": {
        "id": "sTm2vneqc-WS"
      },
      "source": [
        "df_train=pd.read_csv('/content/drive/MyDrive/AI-Project-Toxic-classification/Jigsaw dataset/train/train.csv')"
      ],
      "execution_count": null,
      "outputs": []
    },
    {
      "cell_type": "code",
      "metadata": {
        "colab": {
          "base_uri": "https://localhost:8080/"
        },
        "id": "MaoVflyvAJqS",
        "outputId": "4eeb807c-36cb-4206-9cdf-4e5a4f15a576"
      },
      "source": [
        "df_train.head()"
      ],
      "execution_count": null,
      "outputs": [
        {
          "output_type": "execute_result",
          "data": {
            "text/html": [
              "<div>\n",
              "<style scoped>\n",
              "    .dataframe tbody tr th:only-of-type {\n",
              "        vertical-align: middle;\n",
              "    }\n",
              "\n",
              "    .dataframe tbody tr th {\n",
              "        vertical-align: top;\n",
              "    }\n",
              "\n",
              "    .dataframe thead th {\n",
              "        text-align: right;\n",
              "    }\n",
              "</style>\n",
              "<table border=\"1\" class=\"dataframe\">\n",
              "  <thead>\n",
              "    <tr style=\"text-align: right;\">\n",
              "      <th></th>\n",
              "      <th>comment_text</th>\n",
              "      <th>toxic</th>\n",
              "      <th>severe_toxic</th>\n",
              "      <th>obscene</th>\n",
              "      <th>threat</th>\n",
              "      <th>insult</th>\n",
              "      <th>identity_hate</th>\n",
              "    </tr>\n",
              "  </thead>\n",
              "  <tbody>\n",
              "    <tr>\n",
              "      <th>0</th>\n",
              "      <td>benidorm speak valencian atalan edit contemptu...</td>\n",
              "      <td>0</td>\n",
              "      <td>0</td>\n",
              "      <td>0</td>\n",
              "      <td>0</td>\n",
              "      <td>0</td>\n",
              "      <td>0</td>\n",
              "    </tr>\n",
              "    <tr>\n",
              "      <th>1</th>\n",
              "      <td>benidorm utter valencian catalan redact insult...</td>\n",
              "      <td>0</td>\n",
              "      <td>0</td>\n",
              "      <td>0</td>\n",
              "      <td>0</td>\n",
              "      <td>0</td>\n",
              "      <td>0</td>\n",
              "    </tr>\n",
              "    <tr>\n",
              "      <th>2</th>\n",
              "      <td>benidorm speak valencian atalan edit insult wo...</td>\n",
              "      <td>0</td>\n",
              "      <td>0</td>\n",
              "      <td>0</td>\n",
              "      <td>0</td>\n",
              "      <td>0</td>\n",
              "      <td>0</td>\n",
              "    </tr>\n",
              "    <tr>\n",
              "      <th>3</th>\n",
              "      <td>benidorm speak valencian catalan editout insul...</td>\n",
              "      <td>0</td>\n",
              "      <td>0</td>\n",
              "      <td>0</td>\n",
              "      <td>0</td>\n",
              "      <td>0</td>\n",
              "      <td>0</td>\n",
              "    </tr>\n",
              "    <tr>\n",
              "      <th>4</th>\n",
              "      <td>benidorm verbal valencian atalan edit insult w...</td>\n",
              "      <td>0</td>\n",
              "      <td>0</td>\n",
              "      <td>0</td>\n",
              "      <td>0</td>\n",
              "      <td>0</td>\n",
              "      <td>0</td>\n",
              "    </tr>\n",
              "  </tbody>\n",
              "</table>\n",
              "</div>"
            ],
            "text/plain": [
              "                                        comment_text  ...  identity_hate\n",
              "0  benidorm speak valencian atalan edit contemptu...  ...              0\n",
              "1  benidorm utter valencian catalan redact insult...  ...              0\n",
              "2  benidorm speak valencian atalan edit insult wo...  ...              0\n",
              "3  benidorm speak valencian catalan editout insul...  ...              0\n",
              "4  benidorm verbal valencian atalan edit insult w...  ...              0\n",
              "\n",
              "[5 rows x 7 columns]"
            ]
          },
          "metadata": {
            "tags": []
          },
          "execution_count": 47
        }
      ]
    },
    {
      "cell_type": "code",
      "metadata": {
        "colab": {
          "base_uri": "https://localhost:8080/"
        },
        "id": "1JO0atLNDapp",
        "outputId": "ee1f7ae1-2f41-4b1b-feca-db88fb2d9b8e"
      },
      "source": [
        "df_train.shape"
      ],
      "execution_count": null,
      "outputs": [
        {
          "output_type": "execute_result",
          "data": {
            "text/plain": [
              "(159571, 8)"
            ]
          },
          "metadata": {
            "tags": []
          },
          "execution_count": 5
        }
      ]
    },
    {
      "cell_type": "code",
      "metadata": {
        "id": "PPO0OHBpAeAT"
      },
      "source": [
        "df_train[\"comment_text\"].fillna(\"unknown\", inplace=True)"
      ],
      "execution_count": null,
      "outputs": []
    },
    {
      "cell_type": "code",
      "metadata": {
        "id": "3pIQo5-8AhZ5"
      },
      "source": [
        "df_train=df_train.sample(n=100000)"
      ],
      "execution_count": null,
      "outputs": []
    },
    {
      "cell_type": "code",
      "metadata": {
        "colab": {
          "base_uri": "https://localhost:8080/"
        },
        "id": "j3gWonZ9Dhfq",
        "outputId": "d0508e93-2f8a-404a-b07a-4fe82a32582e"
      },
      "source": [
        "df_train.shape"
      ],
      "execution_count": null,
      "outputs": [
        {
          "output_type": "execute_result",
          "data": {
            "text/plain": [
              "(100000, 8)"
            ]
          },
          "metadata": {
            "tags": []
          },
          "execution_count": 8
        }
      ]
    },
    {
      "cell_type": "code",
      "metadata": {
        "colab": {
          "base_uri": "https://localhost:8080/"
        },
        "id": "QYK4UTykAXm6",
        "outputId": "b29bef7b-99ce-454d-cc97-bb1ae4578ba2"
      },
      "source": [
        "#total columns in the dataset\n",
        "colms=df_train.columns.tolist()\n",
        "colms=colms[2:]\n",
        "print(colms)"
      ],
      "execution_count": null,
      "outputs": [
        {
          "output_type": "stream",
          "text": [
            "['toxic', 'severe_toxic', 'obscene', 'threat', 'insult', 'identity_hate']\n"
          ],
          "name": "stdout"
        }
      ]
    },
    {
      "cell_type": "code",
      "metadata": {
        "colab": {
          "base_uri": "https://localhost:8080/"
        },
        "id": "Rf2MlTJDA3PB",
        "outputId": "540cc39b-cfe3-4bd7-809c-9d50ea1e6f9f"
      },
      "source": [
        "#Analyzing the amount and the types of stopwords using the corpus of the nltk library. \n",
        "#Nltk contains stopwords from many languages. Considering only English here.  \n",
        "import nltk\n",
        "import re, string\n",
        "from nltk.corpus import stopwords\n",
        "from nltk.stem import PorterStemmer\n",
        "from nltk.stem import WordNetLemmatizer\n",
        "from nltk import sent_tokenize\n",
        "from nltk.tokenize import word_tokenize\n",
        "nltk.download('punkt')\n",
        "nltk.download('wordnet')\n",
        "nltk.download('stopwords')\n",
        "stop=set(stopwords.words('english'))\n",
        "stemmer = PorterStemmer()"
      ],
      "execution_count": null,
      "outputs": [
        {
          "output_type": "stream",
          "text": [
            "[nltk_data] Downloading package punkt to /root/nltk_data...\n",
            "[nltk_data]   Unzipping tokenizers/punkt.zip.\n",
            "[nltk_data] Downloading package wordnet to /root/nltk_data...\n",
            "[nltk_data]   Unzipping corpora/wordnet.zip.\n",
            "[nltk_data] Downloading package stopwords to /root/nltk_data...\n",
            "[nltk_data]   Unzipping corpora/stopwords.zip.\n"
          ],
          "name": "stdout"
        }
      ]
    },
    {
      "cell_type": "code",
      "metadata": {
        "id": "lzdUZ0ZFFUrI"
      },
      "source": [
        "stemmer = PorterStemmer()\n",
        "df_train['processed_text'] = df_train['comment_text'].apply(lambda x: \" \".join([stemmer.stem(i) for i in re.sub(\"[^a-zA-Z]\", \" \", x).split() if i not in stop]).lower())"
      ],
      "execution_count": null,
      "outputs": []
    },
    {
      "cell_type": "code",
      "metadata": {
        "colab": {
          "base_uri": "https://localhost:8080/",
          "height": 386
        },
        "id": "cTcsQIMSAx6H",
        "outputId": "9ade31ff-f26a-4eaa-fe02-1f8b9a9aa0ff"
      },
      "source": [
        "#Lowercasing all comments, removing unnecessary spaces\n",
        "###############################################\n",
        "def prep_comments(df):\n",
        "  df['comment_text']=df['comment_text'].str.lower().str.strip()\n",
        "  df = df.replace('\\n',' ', regex=True)\n",
        "  df = df.replace('\\t',' ', regex=True)\n",
        "  df = df.replace('\\r',' ', regex=True)\n",
        "  df['comment_text']= df['comment_text'].replace(\"’\", \"\", regex=True)\n",
        "  df['comment_text'] = df['comment_text'].replace(\"'\", \"\", regex=True)\n",
        "  df['comment_text'] = df['comment_text'].replace(\"-\", \" \", regex=True)\n",
        "  return df\n",
        "df_train=prep_comments(df_train)\n",
        "df_train.head()"
      ],
      "execution_count": null,
      "outputs": [
        {
          "output_type": "execute_result",
          "data": {
            "text/html": [
              "<div>\n",
              "<style scoped>\n",
              "    .dataframe tbody tr th:only-of-type {\n",
              "        vertical-align: middle;\n",
              "    }\n",
              "\n",
              "    .dataframe tbody tr th {\n",
              "        vertical-align: top;\n",
              "    }\n",
              "\n",
              "    .dataframe thead th {\n",
              "        text-align: right;\n",
              "    }\n",
              "</style>\n",
              "<table border=\"1\" class=\"dataframe\">\n",
              "  <thead>\n",
              "    <tr style=\"text-align: right;\">\n",
              "      <th></th>\n",
              "      <th>id</th>\n",
              "      <th>comment_text</th>\n",
              "      <th>toxic</th>\n",
              "      <th>severe_toxic</th>\n",
              "      <th>obscene</th>\n",
              "      <th>threat</th>\n",
              "      <th>insult</th>\n",
              "      <th>identity_hate</th>\n",
              "      <th>processed_text</th>\n",
              "    </tr>\n",
              "  </thead>\n",
              "  <tbody>\n",
              "    <tr>\n",
              "      <th>23614</th>\n",
              "      <td>3e5d63365ce024d1</td>\n",
              "      <td>\"::::::::::the text the ip added to this artic...</td>\n",
              "      <td>0</td>\n",
              "      <td>0</td>\n",
              "      <td>0</td>\n",
              "      <td>0</td>\n",
              "      <td>0</td>\n",
              "      <td>0</td>\n",
              "      <td>the text the ip ad articl mention mccarthi the...</td>\n",
              "    </tr>\n",
              "    <tr>\n",
              "      <th>130516</th>\n",
              "      <td>ba3dd5b507949af1</td>\n",
              "      <td>no, you are trying to give some kind of magica...</td>\n",
              "      <td>0</td>\n",
              "      <td>0</td>\n",
              "      <td>0</td>\n",
              "      <td>0</td>\n",
              "      <td>0</td>\n",
              "      <td>0</td>\n",
              "      <td>no tri give kind magic preced hypothesi never ...</td>\n",
              "    </tr>\n",
              "    <tr>\n",
              "      <th>140410</th>\n",
              "      <td>ef57d18c275dbba7</td>\n",
              "      <td>\" kind of completely backwards, given that thi...</td>\n",
              "      <td>1</td>\n",
              "      <td>0</td>\n",
              "      <td>0</td>\n",
              "      <td>0</td>\n",
              "      <td>0</td>\n",
              "      <td>0</td>\n",
              "      <td>kind complet backward given one place i would ...</td>\n",
              "    </tr>\n",
              "    <tr>\n",
              "      <th>42411</th>\n",
              "      <td>712cb3f7df2f85ab</td>\n",
              "      <td>rockpocket did you get the mail i sent. there ...</td>\n",
              "      <td>0</td>\n",
              "      <td>0</td>\n",
              "      <td>0</td>\n",
              "      <td>0</td>\n",
              "      <td>0</td>\n",
              "      <td>0</td>\n",
              "      <td>rockpocket get mail sent seem vandal anon ip u...</td>\n",
              "    </tr>\n",
              "    <tr>\n",
              "      <th>29462</th>\n",
              "      <td>4e25652fbda5b998</td>\n",
              "      <td>\"who cares about indenting and signing and oth...</td>\n",
              "      <td>0</td>\n",
              "      <td>0</td>\n",
              "      <td>0</td>\n",
              "      <td>0</td>\n",
              "      <td>0</td>\n",
              "      <td>0</td>\n",
              "      <td>who care indent sign wikilawy rule high import...</td>\n",
              "    </tr>\n",
              "  </tbody>\n",
              "</table>\n",
              "</div>"
            ],
            "text/plain": [
              "                      id  ...                                     processed_text\n",
              "23614   3e5d63365ce024d1  ...  the text the ip ad articl mention mccarthi the...\n",
              "130516  ba3dd5b507949af1  ...  no tri give kind magic preced hypothesi never ...\n",
              "140410  ef57d18c275dbba7  ...  kind complet backward given one place i would ...\n",
              "42411   712cb3f7df2f85ab  ...  rockpocket get mail sent seem vandal anon ip u...\n",
              "29462   4e25652fbda5b998  ...  who care indent sign wikilawy rule high import...\n",
              "\n",
              "[5 rows x 9 columns]"
            ]
          },
          "metadata": {
            "tags": []
          },
          "execution_count": 12
        }
      ]
    },
    {
      "cell_type": "code",
      "metadata": {
        "colab": {
          "base_uri": "https://localhost:8080/"
        },
        "id": "LMElLwH1BIOx",
        "outputId": "1f15dae5-5265-4453-d7aa-2d1cb4d16d50"
      },
      "source": [
        "from sklearn.model_selection import train_test_split\n",
        "X_train, X_test, y_train, y_test = train_test_split(df_train[\"comment_text\"], df_train[colms], test_size=0.30)\n",
        "print(X_train.shape, X_test.shape, y_train.shape, y_test.shape)"
      ],
      "execution_count": null,
      "outputs": [
        {
          "output_type": "stream",
          "text": [
            "(111706,) (47874,) (111706, 6) (47874, 6)\n"
          ],
          "name": "stdout"
        }
      ]
    },
    {
      "cell_type": "code",
      "metadata": {
        "colab": {
          "base_uri": "https://localhost:8080/"
        },
        "id": "eIwmASIwBPKk",
        "outputId": "768040fd-9da1-41bf-90ae-2855749a538f"
      },
      "source": [
        "print(y_train)"
      ],
      "execution_count": null,
      "outputs": [
        {
          "output_type": "stream",
          "text": [
            "        toxic  severe_toxic  obscene  threat  insult  identity_hate\n",
            "65774       0             0        0       0       0              0\n",
            "59135       0             0        0       0       0              0\n",
            "118084      1             0        0       0       1              0\n",
            "44898       1             0        0       0       0              0\n",
            "100638      0             0        0       0       0              0\n",
            "...       ...           ...      ...     ...     ...            ...\n",
            "156791      0             0        0       0       0              0\n",
            "25655       0             0        0       0       0              0\n",
            "111345      0             0        0       0       0              0\n",
            "32986       0             0        0       0       0              0\n",
            "150650      0             0        0       0       0              0\n",
            "\n",
            "[70000 rows x 6 columns]\n"
          ],
          "name": "stdout"
        }
      ]
    },
    {
      "cell_type": "code",
      "metadata": {
        "id": "ezf2aVgkFmcc"
      },
      "source": [
        "from sklearn.feature_extraction.text import CountVectorizer, TfidfVectorizer\n",
        "def vectorize_tfidf(X_train, X_test):\n",
        "  vect_word = TfidfVectorizer(max_features=15000, lowercase=True, analyzer='word',\n",
        "                        stop_words= 'english',ngram_range=(1,3),dtype=np.float32)\n",
        "  X_train = vect_word.fit_transform(X_train)\n",
        "  X_test = vect_word.transform(X_test)\n",
        "  return X_train, X_test\n",
        "\n",
        "X_train, X_test = vectorize_tfidf(X_train, X_test)"
      ],
      "execution_count": null,
      "outputs": []
    },
    {
      "cell_type": "code",
      "metadata": {
        "id": "wLgjEjbgBXWT"
      },
      "source": [
        "from sklearn.svm import SVC\n",
        "from sklearn.multiclass import OneVsRestClassifier"
      ],
      "execution_count": null,
      "outputs": []
    },
    {
      "cell_type": "markdown",
      "metadata": {
        "id": "-d3L0BAvqB1P"
      },
      "source": [
        "##Run SVM with default hyperparameters \n",
        "Default hyperparameter means C=1.0, kernel=rbf and gamma=auto among other parameters."
      ]
    },
    {
      "cell_type": "code",
      "metadata": {
        "id": "Y9krYoNZqIBG",
        "colab": {
          "base_uri": "https://localhost:8080/"
        },
        "outputId": "b803e2f9-672f-4370-c482-8945200c4469"
      },
      "source": [
        "svm_rbf = OneVsRestClassifier(SVC(decision_function_shape='ovo'))\n",
        "svm_rbf.fit(X_train, y_train)"
      ],
      "execution_count": null,
      "outputs": [
        {
          "output_type": "execute_result",
          "data": {
            "text/plain": [
              "OneVsRestClassifier(estimator=SVC(C=1.0, break_ties=False, cache_size=200,\n",
              "                                  class_weight=None, coef0=0.0,\n",
              "                                  decision_function_shape='ovo', degree=3,\n",
              "                                  gamma='scale', kernel='rbf', max_iter=-1,\n",
              "                                  probability=False, random_state=None,\n",
              "                                  shrinking=True, tol=0.001, verbose=False),\n",
              "                    n_jobs=None)"
            ]
          },
          "metadata": {
            "tags": []
          },
          "execution_count": 15
        }
      ]
    },
    {
      "cell_type": "code",
      "metadata": {
        "id": "m7eRMwfPqQv5"
      },
      "source": [
        "y_pred_svm_rbf = svm_rbf.predict(X_test)"
      ],
      "execution_count": null,
      "outputs": []
    },
    {
      "cell_type": "code",
      "metadata": {
        "id": "PGaQU2G-qQv5",
        "colab": {
          "base_uri": "https://localhost:8080/"
        },
        "outputId": "9ef4347a-c2d9-4767-e2a1-159f319d363e"
      },
      "source": [
        "from sklearn.metrics import accuracy_score\n",
        "print(\"Accuracy: \", accuracy_score(y_test,y_pred_svm_rbf))"
      ],
      "execution_count": null,
      "outputs": [
        {
          "output_type": "stream",
          "text": [
            "Accuracy:  0.9176333333333333\n"
          ],
          "name": "stdout"
        }
      ]
    },
    {
      "cell_type": "markdown",
      "metadata": {
        "id": "ADFEdf3YSkct"
      },
      "source": [
        "##Run SVM with rbf kernel and C=100.0"
      ]
    },
    {
      "cell_type": "code",
      "metadata": {
        "colab": {
          "base_uri": "https://localhost:8080/"
        },
        "id": "2TYLQV4n6FG5",
        "outputId": "60756f48-cd2f-4329-a2e3-c64053d569aa"
      },
      "source": [
        "svm_model_linear = OneVsRestClassifier(SVC(C=100,decision_function_shape='ovo'))\n",
        "svm_model_linear.fit(X_train, y_train)"
      ],
      "execution_count": null,
      "outputs": [
        {
          "output_type": "execute_result",
          "data": {
            "text/plain": [
              "OneVsRestClassifier(estimator=SVC(C=100, break_ties=False, cache_size=200,\n",
              "                                  class_weight=None, coef0=0.0,\n",
              "                                  decision_function_shape='ovo', degree=3,\n",
              "                                  gamma='scale', kernel='rbf', max_iter=-1,\n",
              "                                  probability=False, random_state=None,\n",
              "                                  shrinking=True, tol=0.001, verbose=False),\n",
              "                    n_jobs=None)"
            ]
          },
          "metadata": {
            "tags": []
          },
          "execution_count": 19
        }
      ]
    },
    {
      "cell_type": "code",
      "metadata": {
        "id": "6RtRt4mkEpVm"
      },
      "source": [
        "y_pred = svm_model_linear.predict(X_test)"
      ],
      "execution_count": null,
      "outputs": []
    },
    {
      "cell_type": "code",
      "metadata": {
        "colab": {
          "base_uri": "https://localhost:8080/"
        },
        "id": "i8q5NgFUBcIk",
        "outputId": "89e0dd1f-5c7f-4ce4-d599-24fab843b0c8"
      },
      "source": [
        "from sklearn.metrics import accuracy_score\n",
        "print(\"Accuracy: \", accuracy_score(y_test,y_pred))"
      ],
      "execution_count": null,
      "outputs": [
        {
          "output_type": "stream",
          "text": [
            "Accuracy:  0.9167666666666666\n"
          ],
          "name": "stdout"
        }
      ]
    },
    {
      "cell_type": "code",
      "metadata": {
        "colab": {
          "base_uri": "https://localhost:8080/"
        },
        "id": "-RNCGifIBguL",
        "outputId": "c4de257b-13d0-46ba-e7a6-a5acf7979b40"
      },
      "source": [
        "from sklearn.metrics import classification_report\n",
        "print(classification_report(y_test, y_pred))"
      ],
      "execution_count": null,
      "outputs": [
        {
          "output_type": "stream",
          "text": [
            "              precision    recall  f1-score   support\n",
            "\n",
            "           0       0.89      0.62      0.73      2921\n",
            "           1       0.52      0.20      0.29       292\n",
            "           2       0.89      0.67      0.76      1586\n",
            "           3       0.60      0.07      0.13        83\n",
            "           4       0.78      0.54      0.64      1492\n",
            "           5       0.58      0.23      0.33       270\n",
            "\n",
            "   micro avg       0.85      0.57      0.68      6644\n",
            "   macro avg       0.71      0.39      0.48      6644\n",
            "weighted avg       0.83      0.57      0.68      6644\n",
            " samples avg       0.06      0.05      0.05      6644\n",
            "\n"
          ],
          "name": "stdout"
        },
        {
          "output_type": "stream",
          "text": [
            "/usr/local/lib/python3.7/dist-packages/sklearn/metrics/_classification.py:1272: UndefinedMetricWarning: Precision and F-score are ill-defined and being set to 0.0 in samples with no predicted labels. Use `zero_division` parameter to control this behavior.\n",
            "  _warn_prf(average, modifier, msg_start, len(result))\n",
            "/usr/local/lib/python3.7/dist-packages/sklearn/metrics/_classification.py:1272: UndefinedMetricWarning: Recall and F-score are ill-defined and being set to 0.0 in samples with no true labels. Use `zero_division` parameter to control this behavior.\n",
            "  _warn_prf(average, modifier, msg_start, len(result))\n"
          ],
          "name": "stderr"
        }
      ]
    },
    {
      "cell_type": "code",
      "metadata": {
        "colab": {
          "base_uri": "https://localhost:8080/"
        },
        "id": "XepMTmiuSkBY",
        "outputId": "5df2e628-2443-4c03-a1e3-38fd82ac651f"
      },
      "source": [
        "from sklearn.metrics import multilabel_confusion_matrix\n",
        "cm = multilabel_confusion_matrix(y_test, y_pred)\n",
        "print('\\nTrue Positives(TP) = ', cm[0,0])\n",
        "\n",
        "print('\\nTrue Negatives(TN) = ', cm[1,1])\n",
        "\n",
        "print('\\nFalse Positives(FP) = ', cm[0,1])\n",
        "\n",
        "print('\\nFalse Negatives(FN) = ', cm[1,0])"
      ],
      "execution_count": null,
      "outputs": [
        {
          "output_type": "stream",
          "text": [
            "\n",
            "True Positives(TP) =  [26852   227]\n",
            "\n",
            "True Negatives(TN) =  [233  59]\n",
            "\n",
            "False Positives(FP) =  [1102 1819]\n",
            "\n",
            "False Negatives(FN) =  [29653    55]\n"
          ],
          "name": "stdout"
        }
      ]
    },
    {
      "cell_type": "markdown",
      "metadata": {
        "id": "eyI1XuwmqXKB"
      },
      "source": [
        "## Run SVM with linear kernel and C=1.0"
      ]
    },
    {
      "cell_type": "code",
      "metadata": {
        "id": "-u3bLc4mqmJR"
      },
      "source": [
        "svm_model_linear = OneVsRestClassifier(SVC(kernel='linear', C=1.0,decision_function_shape='ovo'))\n",
        "svm_model_linear.fit(X_train, y_train)"
      ],
      "execution_count": null,
      "outputs": []
    },
    {
      "cell_type": "code",
      "metadata": {
        "id": "uSglWx3rq07M"
      },
      "source": [
        "y_pred = svm_model_linear.predict(X_test)"
      ],
      "execution_count": null,
      "outputs": []
    },
    {
      "cell_type": "code",
      "metadata": {
        "colab": {
          "base_uri": "https://localhost:8080/"
        },
        "id": "HuK3Uuvdq07O",
        "outputId": "89e0dd1f-5c7f-4ce4-d599-24fab843b0c8"
      },
      "source": [
        "from sklearn.metrics import accuracy_score\n",
        "print(\"Accuracy: \", accuracy_score(y_test,y_pred))"
      ],
      "execution_count": null,
      "outputs": [
        {
          "output_type": "stream",
          "text": [
            "Accuracy:  0.9167666666666666\n"
          ],
          "name": "stdout"
        }
      ]
    },
    {
      "cell_type": "code",
      "metadata": {
        "id": "TKaHEWBwl-r4"
      },
      "source": [
        ""
      ],
      "execution_count": null,
      "outputs": []
    },
    {
      "cell_type": "code",
      "metadata": {
        "id": "qvlH89jh_NeI"
      },
      "source": [
        "import matplotlib.pyplot as plt\n",
        "import matplotlib.gridspec as gridspec\n",
        "#print(history.history.keys())\n",
        "\n",
        "\n",
        "plt.figure(figsize=(16,3))\n",
        "plt.suptitle('Accuracy and Loss Comparison')\n",
        "\n",
        "gridspec.GridSpec(1,2)\n",
        "plt.subplot2grid((1,2),(0,0))\n",
        "plt.plot(history.history['acc'])\n",
        "plt.plot(history.history['val_acc'])\n",
        "plt.title('Augmented Model accuracy')\n",
        "plt.xlabel('epoch')\n",
        "plt.ylabel('accuracy')\n",
        "plt.legend(['train','test'],loc='upper left')\n",
        "\n",
        "\n",
        "plt.subplot2grid((1,2),(0,1))\n",
        "plt.plot(history.history['loss'])\n",
        "plt.plot(history.history['val_loss'])\n",
        "plt.title('Augmented Model loss')\n",
        "plt.xlabel('epoch')\n",
        "plt.ylabel('loss')\n",
        "plt.legend(['train','test'],loc='upper left')\n"
      ],
      "execution_count": null,
      "outputs": []
    },
    {
      "cell_type": "markdown",
      "metadata": {
        "id": "E4e3T3wYEjhv"
      },
      "source": [
        "# Easy Data Augmentation"
      ]
    },
    {
      "cell_type": "markdown",
      "metadata": {
        "id": "6GjtlX3ML8fl"
      },
      "source": [
        "n= al where, <br>\n",
        "n= no of words to be replaced <br>\n",
        "a=constant, hyperparameter <br>\n",
        "l=length of sentence <br>"
      ]
    },
    {
      "cell_type": "markdown",
      "metadata": {
        "id": "l1Yl2OTsl63J"
      },
      "source": [
        " To run algos on Augmented Data, replace df_train with \"Augmented_Sentences\""
      ]
    },
    {
      "cell_type": "code",
      "metadata": {
        "colab": {
          "base_uri": "https://localhost:8080/",
          "height": 214
        },
        "id": "x2xRwJlFEi_8",
        "outputId": "bf2f317e-e425-41df-9a37-87e2fbccd8e1"
      },
      "source": [
        "EDA_df = df_train.sample(frac=0.05)\n",
        "print(len(EDA_df))\n",
        "EDA_df.head()"
      ],
      "execution_count": null,
      "outputs": [
        {
          "output_type": "stream",
          "text": [
            "7979\n"
          ],
          "name": "stdout"
        },
        {
          "output_type": "execute_result",
          "data": {
            "text/html": [
              "<div>\n",
              "<style scoped>\n",
              "    .dataframe tbody tr th:only-of-type {\n",
              "        vertical-align: middle;\n",
              "    }\n",
              "\n",
              "    .dataframe tbody tr th {\n",
              "        vertical-align: top;\n",
              "    }\n",
              "\n",
              "    .dataframe thead th {\n",
              "        text-align: right;\n",
              "    }\n",
              "</style>\n",
              "<table border=\"1\" class=\"dataframe\">\n",
              "  <thead>\n",
              "    <tr style=\"text-align: right;\">\n",
              "      <th></th>\n",
              "      <th>id</th>\n",
              "      <th>comment_text</th>\n",
              "      <th>toxic</th>\n",
              "      <th>severe_toxic</th>\n",
              "      <th>obscene</th>\n",
              "      <th>threat</th>\n",
              "      <th>insult</th>\n",
              "      <th>identity_hate</th>\n",
              "    </tr>\n",
              "  </thead>\n",
              "  <tbody>\n",
              "    <tr>\n",
              "      <th>98609</th>\n",
              "      <td>0f754d80db105111</td>\n",
              "      <td>benidorm speak valencian catalan edited insult...</td>\n",
              "      <td>0</td>\n",
              "      <td>0</td>\n",
              "      <td>0</td>\n",
              "      <td>0</td>\n",
              "      <td>0</td>\n",
              "      <td>0</td>\n",
              "    </tr>\n",
              "    <tr>\n",
              "      <th>46886</th>\n",
              "      <td>7d4f05ca7a4ba321</td>\n",
              "      <td>agree description publication magazine profess...</td>\n",
              "      <td>0</td>\n",
              "      <td>0</td>\n",
              "      <td>0</td>\n",
              "      <td>0</td>\n",
              "      <td>0</td>\n",
              "      <td>0</td>\n",
              "    </tr>\n",
              "    <tr>\n",
              "      <th>7830</th>\n",
              "      <td>14d9522b731d0088</td>\n",
              "      <td>australian skittles im working abroad australi...</td>\n",
              "      <td>0</td>\n",
              "      <td>0</td>\n",
              "      <td>0</td>\n",
              "      <td>0</td>\n",
              "      <td>0</td>\n",
              "      <td>0</td>\n",
              "    </tr>\n",
              "    <tr>\n",
              "      <th>138364</th>\n",
              "      <td>e446e3168acb062d</td>\n",
              "      <td>anonymous relation prject chanology versus unr...</td>\n",
              "      <td>0</td>\n",
              "      <td>0</td>\n",
              "      <td>0</td>\n",
              "      <td>0</td>\n",
              "      <td>0</td>\n",
              "      <td>0</td>\n",
              "    </tr>\n",
              "    <tr>\n",
              "      <th>130631</th>\n",
              "      <td>bacd8d289c6a4fec</td>\n",
              "      <td>limits done brief passages think claim little ...</td>\n",
              "      <td>0</td>\n",
              "      <td>0</td>\n",
              "      <td>0</td>\n",
              "      <td>0</td>\n",
              "      <td>0</td>\n",
              "      <td>0</td>\n",
              "    </tr>\n",
              "  </tbody>\n",
              "</table>\n",
              "</div>"
            ],
            "text/plain": [
              "                      id  ... identity_hate\n",
              "98609   0f754d80db105111  ...             0\n",
              "46886   7d4f05ca7a4ba321  ...             0\n",
              "7830    14d9522b731d0088  ...             0\n",
              "138364  e446e3168acb062d  ...             0\n",
              "130631  bacd8d289c6a4fec  ...             0\n",
              "\n",
              "[5 rows x 8 columns]"
            ]
          },
          "metadata": {
            "tags": []
          },
          "execution_count": 12
        }
      ]
    },
    {
      "cell_type": "code",
      "metadata": {
        "id": "5YSTTA3EOnGr",
        "colab": {
          "base_uri": "https://localhost:8080/"
        },
        "outputId": "37367ce0-2681-4c7b-ee1d-a8d24af4ee5c"
      },
      "source": [
        "com_text=EDA_df['comment_text'].tolist()\n",
        "print(len(com_text))"
      ],
      "execution_count": null,
      "outputs": [
        {
          "output_type": "stream",
          "text": [
            "7979\n"
          ],
          "name": "stdout"
        }
      ]
    },
    {
      "cell_type": "code",
      "metadata": {
        "id": "tfRuzGzdS-H8"
      },
      "source": [
        "import random\n",
        "from random import shuffle\n",
        "from nltk.corpus import wordnet"
      ],
      "execution_count": null,
      "outputs": []
    },
    {
      "cell_type": "code",
      "metadata": {
        "id": "BlB0LkKdEjFT"
      },
      "source": [
        "def synonym_replacement(words, n):\n",
        "\tnew_words = words.copy()\n",
        "\trandom_word_list = list(set([word for word in words if word not in stop]))\n",
        "\trandom.shuffle(random_word_list)\n",
        "\tnum_replaced = 0\n",
        "\tfor random_word in random_word_list:\n",
        "\t\tsynonyms = get_synonyms(random_word)\n",
        "\t\tif len(synonyms) >= 1:\n",
        "\t\t\tsynonym = random.choice(list(synonyms))\n",
        "\t\t\tnew_words = [synonym if word == random_word else word for word in new_words]\n",
        "\t\t\t#print(\"replaced\", random_word, \"with\", synonym)\n",
        "\t\t\tnum_replaced += 1\n",
        "\t\tif num_replaced >= n: #only replace up to n words\n",
        "\t\t\tbreak\n",
        "\n",
        "\t#this is stupid but we need it, trust me\n",
        "\tsentence = ' '.join(new_words)\n",
        "\tnew_words = sentence.split(' ')\n",
        "\n",
        "\treturn new_words\n",
        "\n",
        "def get_synonyms(word):\n",
        "\tsynonyms = set()\n",
        "\tfor syn in wordnet.synsets(word): \n",
        "\t\tfor l in syn.lemmas(): \n",
        "\t\t\tsynonym = l.name()#.replace(\"_\", \" \").replace(\"-\", \" \").lower()\n",
        "\t\t\tsynonym = \"\".join([char for char in synonym if char in ' qwertyuiopasdfghjklzxcvbnm'])\n",
        "\t\t\tsynonyms.add(synonym) \n",
        "\tif word in synonyms:\n",
        "\t\tsynonyms.remove(word)\n",
        "\treturn list(synonyms)"
      ],
      "execution_count": null,
      "outputs": []
    },
    {
      "cell_type": "code",
      "metadata": {
        "id": "Uoa3a2EaYLhm"
      },
      "source": [
        "def random_swap(words, n):\n",
        "  if len(words)<2:\n",
        "    return words\n",
        "  new_words = words.copy()\n",
        "  for _ in range(int(n)):\n",
        "    new_words = swap_word(new_words)\n",
        "  return new_words\n",
        "\n",
        "def swap_word(new_words):\n",
        "\trandom_idx_1 = random.randint(0, len(new_words)-1)\n",
        "\trandom_idx_2 = random_idx_1\n",
        "\tcounter = 0\n",
        "\twhile random_idx_2 == random_idx_1:\n",
        "\t\trandom_idx_2 = random.randint(0, len(new_words)-1)\n",
        "\t\tcounter += 1\n",
        "\t\tif counter > 3:\n",
        "\t\t\treturn new_words\n",
        "\tnew_words[random_idx_1], new_words[random_idx_2] = new_words[random_idx_2], new_words[random_idx_1] \n",
        "\treturn new_words\n"
      ],
      "execution_count": null,
      "outputs": []
    },
    {
      "cell_type": "code",
      "metadata": {
        "id": "-A-lMTWYYJDi"
      },
      "source": [
        "def random_insertion(words, n):\n",
        "  if len(words)<2:\n",
        "    return words\n",
        "  new_words = words.copy()\n",
        "  for _ in range(int(n)):\n",
        "    add_word(new_words)\n",
        "  return new_words\n",
        "\n",
        "def add_word(new_words):\n",
        "\tsynonyms = []\n",
        "\tcounter = 0\n",
        "\twhile len(synonyms) < 1:\n",
        "\t\trandom_word = new_words[random.randint(0, len(new_words)-1)]\n",
        "\t\tsynonyms = get_synonyms(random_word)\n",
        "\t\tcounter += 1\n",
        "\t\tif counter >= 10:\n",
        "\t\t\treturn\n",
        "\trandom_synonym = synonyms[0]\n",
        "\trandom_idx = random.randint(0, len(new_words)-1)\n",
        "\tnew_words.insert(random_idx, random_synonym)"
      ],
      "execution_count": null,
      "outputs": []
    },
    {
      "cell_type": "code",
      "metadata": {
        "id": "tESFQjXsYI-Z"
      },
      "source": [
        "def random_deletion(words, p):\n",
        "\n",
        "\t#obviously, if there's only one word, don't delete it\n",
        "\tif len(words) <= 2:\n",
        "\t\treturn words\n",
        "\n",
        "\t#randomly delete words with probability p\n",
        "\tnew_words = []\n",
        "\tfor word in words:\n",
        "\t\tr = random.uniform(0, 1)\n",
        "\t\tif r > p:\n",
        "\t\t\tnew_words.append(word)\n",
        "\n",
        "\t#if you end up deleting all words, just return a random word\n",
        "\tif len(new_words) == 0:\n",
        "\t\trand_int = random.randint(0, len(words)-1)\n",
        "\t\treturn [words[rand_int]]\n",
        "\n",
        "\treturn new_words"
      ],
      "execution_count": null,
      "outputs": []
    },
    {
      "cell_type": "code",
      "metadata": {
        "colab": {
          "base_uri": "https://localhost:8080/",
          "height": 70
        },
        "id": "OoO0vAYTPWYe",
        "outputId": "ea1c3fbf-8a3e-4194-ea57-5f13816d3c38"
      },
      "source": [
        "def EDA_func(sentence):\n",
        "  words = sentence.split(' ')\n",
        "  words = [word for word in words if word is not '']\n",
        "  num_words=len(words)\n",
        "  num_aug= 5\n",
        "  augmented_sentences = []\n",
        "  a= 0.1\n",
        "  p=0.1\n",
        "  n= max(1, a* num_words)\n",
        "  for _ in range(num_aug):\n",
        "    aug_words = synonym_replacement(words, n)\n",
        "    augmented_sentences.append(' '.join(aug_words))\n",
        "\n",
        "  for _ in range(num_aug):\n",
        "    aug_words = random_swap(words, n)\n",
        "    augmented_sentences.append(' '.join(aug_words))\n",
        "\n",
        "  for _ in range(num_aug):\n",
        "    aug_words = random_insertion(words, n)\n",
        "    augmented_sentences.append(' '.join(aug_words))\n",
        "\n",
        "  for _ in range(num_aug):\n",
        "    aug_words = random_deletion(words, p)\n",
        "    augmented_sentences.append(' '.join(aug_words))\n",
        "\n",
        "  return augmented_sentences\n",
        "\n",
        "\"\"\"\n",
        "\n",
        "\twords = sentence.split(' ')\n",
        "\twords = [word for word in words if word is not '']\n",
        "\tnum_words = len(words)\n",
        "  #num_aug=50\n",
        "  #num_aug = 50\n",
        "  #augmented_sentences=[]\n",
        "  #a = 0.2\n",
        "  n= max(1, a * len(words))\n",
        "  for _ in range(num_new_per_technique):\n",
        "\t\t\ta_words = synonym_replacement(words, n)\n",
        "\t\t\taugmented_sentences.append(' '.join(a_words))\n",
        "\n",
        "return augmented_sentences\n",
        "\"\"\""
      ],
      "execution_count": null,
      "outputs": [
        {
          "output_type": "execute_result",
          "data": {
            "application/vnd.google.colaboratory.intrinsic+json": {
              "type": "string"
            },
            "text/plain": [
              "\"\\n\\n\\twords = sentence.split(' ')\\n\\twords = [word for word in words if word is not '']\\n\\tnum_words = len(words)\\n  #num_aug=50\\n  #num_aug = 50\\n  #augmented_sentences=[]\\n  #a = 0.2\\n  n= max(1, a * len(words))\\n  for _ in range(num_new_per_technique):\\n\\t\\t\\ta_words = synonym_replacement(words, n)\\n\\t\\t\\taugmented_sentences.append(' '.join(a_words))\\n\\nreturn augmented_sentences\\n\""
            ]
          },
          "metadata": {
            "tags": []
          },
          "execution_count": 30
        }
      ]
    },
    {
      "cell_type": "code",
      "metadata": {
        "id": "esKUsxy_PWbX"
      },
      "source": [
        "augmented_sentences= []\n",
        "for sent in com_text:\n",
        "  #print('done 1 iteration')\n",
        "  augmented_sentences.append(EDA_func(sent))"
      ],
      "execution_count": null,
      "outputs": []
    },
    {
      "cell_type": "code",
      "metadata": {
        "id": "Zq7OIJ_APWeN",
        "colab": {
          "base_uri": "https://localhost:8080/"
        },
        "outputId": "5aca10b2-1a4e-4bc9-cbb3-26d08bab845c"
      },
      "source": [
        "print(len(augmented_sentences))\n",
        "print(len(augmented_sentences[1]))\n",
        "for i in range(5):\n",
        "  print(augmented_sentences[i])"
      ],
      "execution_count": null,
      "outputs": [
        {
          "output_type": "stream",
          "text": [
            "7979\n",
            "20\n",
            "['benidorm speak valencian atalan edited contemptuous would someone language replaced wiped one thanks', 'benidorm utter valencian catalan redact insulting would someone language replaced wiped one thanks', 'benidorm speak valencian atalan edited insulting would someone language substitute wiped one thanks', 'benidorm speak valencian catalan editout insulting would somebody language replaced wiped one thanks', 'benidorm verbalize valencian atalan edited insulting would someone language replaced wiped one thanks', 'benidorm speak valencian catalan edited insulting one someone language replaced wiped would thanks', 'edited speak valencian catalan benidorm insulting would someone language replaced wiped one thanks', 'benidorm would valencian catalan edited insulting speak someone language replaced wiped one thanks', 'insulting speak valencian catalan edited benidorm would someone language replaced wiped one thanks', 'benidorm speak valencian catalan edited insulting would replaced language someone wiped one thanks', 'atalan benidorm speak valencian catalan edited insulting would someone language replaced wiped one thanks', 'benidorm speak valencian catalan edited insulting would someone language replaced givethanks wiped one thanks', 'benidorm speak valencian catalan edited exchange insulting would someone language replaced wiped one thanks', 'benidorm speak valencian catalan edited insulting would someone language replaced wiped atalan one thanks', 'benidorm speak atalan valencian catalan edited insulting would someone language replaced wiped one thanks', 'benidorm speak valencian catalan edited insulting would someone language replaced wiped one thanks', 'benidorm speak valencian catalan edited insulting would someone language wiped one thanks', 'benidorm speak valencian catalan edited insulting would someone replaced wiped one thanks', 'benidorm speak valencian catalan edited insulting would someone language replaced wiped one thanks', 'benidorm speak valencian catalan edited insulting would someone language replaced wiped one thanks']\n",
            "['agree verbaldescription issue cartridgeholder professional cartridgeholder stated earlier financing concern appears common practice academic diary charge subscription unless open memoryaccess journal however based available accu verbaldescription seeing peer reexamination stated academic journal usually clear peer reexamination process improver diary verbaldescription peer reexamination process clearly recognizable verbaldescription given accu hazy fuzzy best personally think indicates peer reexamination process without peer reexamination process cannot condition academic journal headbomb designate may reviewed peers highup quality appear formal academic peer reexamination might flush described professional technical cartridgeholder article actual peer reviewed cartridgeholder computer cartridgeholder ieee computer society online verbaldescription cartridgeholder notice peer reviewed part verbaldescription along coverage paragraph verbaldescription reexamination process part source guidelines instructions reviewers cartridgeholder given', 'agree description publication magazine professional magazine stated before financing concern appears common practice academic journals charge subscription unless open access journal however based available accu description seeing peer review stated academic journal usually clear peer review process addition journals description peer review process clear recognizable description given accu hazy fuzzy best inperson think show peer review process without peer review process cannot qualify academic journal headbomb pointed may reviewed match luxuriously quality appear formal academic peer review power even report professional technological magazine article actual peer reviewed magazine calculator magazine ieee calculator society online description magazine notice peer reviewed componentpart description on coverage paragraph description review process componentpart author guidelines instructions reviewers magazine given', 'agree description publication magazine master magazine stated earlier financing pertain appears common practice academic journals charge subscription unless open access journal nevertheless based available accu description seeing peer review stated academic journal unremarkably clear peer review process improver journals description peer review process understandably recognizable description given accu hazy fuzzy best personally callup indicates peer review process without peer review process cannot qualify academic journal headbomb signal ay reviewed peers high quality appear schematic academic peer review might even discover master technical magazine article actual peer reviewed magazine informationprocessingsystem magazine ieee informationprocessingsystem society online description magazine notice peer reviewed part description along coverage paragraph description review process part author guidelines instructions reviewers magazine given', 'agree description publication magazine professional magazine stated earlier financing concern look common practice academic journals charge subscription unless capable access daybook however freebase available accu description seeing peer review stated academic daybook normally clear peer review process addition journals description peer review process clearly recognisable description given accu brumous fuzzy best personally think indicates peer review process without peer review process cannot qualify academic daybook headbomb sharpen may brushup peers high quality appear formal academic peer review might even described professional technical magazine article real peer brushup magazine computer magazine ieee computer society online description magazine notice peer brushup part description along coverage paragraph description review process part generator guidelines instructions referee magazine given', 'agree description publication magazine professional magazine stated earlier financing concern appears common apply academic journals charge subscription unless candid access journal yet based usable accu description seeing peer survey stated academic journal usually sortout peer survey process addition journals description peer survey process clearly recognizable description given accu hazy fuzzy considerably personally think indicates peer survey process without peer survey process cannot qualify academic journal headbomb pointed may reviewed match high quality appear formal academic peer survey mightiness even described professional expert magazine clause actual peer reviewed magazine dataprocessor magazine ieee dataprocessor society online description magazine notice peer reviewed part description along coverage paragraph description survey process part author guidelines instructions reviewers magazine given', 'guidelines description publication accu professional magazine stated earlier financing concern appears common practice reviewed journals charge subscription unless open access journal however based available magazine description magazine peer review stated academic journal usually process peer review process addition journals academic peer review process clearly recognizable description given process hazy fuzzy best personally qualify professional peer review accu without peer review process cannot magazine description journal headbomb pointed may seeing peers high quality appear formal academic peer review might even described indicates technical think article actual peer reviewed magazine computer reviewed ieee computer society online description magazine notice peer academic part description along coverage paragraph description review clear part author agree instructions reviewers magazine given', 'agree description publication reviewed professional magazine stated best financing concern appears common practice academic journals charge subscription unless open access journal however based available accu description seeing peer review stated academic journal usually clear even review process addition journals description peer review process clearly recognizable description given accu technical fuzzy earlier personally think pointed peer review process without peers review process cannot qualify academic journal headbomb indicates may reviewed online professional quality review formal academic peer review might peer described high hazy magazine article actual peer reviewed magazine computer magazine magazine computer society peer part ieee notice peer magazine part description along coverage paragraph description appear process description author guidelines instructions reviewers magazine given', 'agree description publication magazine professional magazine stated earlier financing peer appears common practice academic available charge subscription unless open access journal review based journals accu description formal peer review stated academic journal usually clear concern review process without journals description actual review process clearly recognizable description given accu hazy fuzzy best coverage think indicates peer review process addition peer review process cannot qualify academic journal headbomb pointed may reviewed peers high quality appear seeing academic peer however might even described professional technical magazine article peer peer reviewed magazine description magazine ieee notice society online computer magazine computer peer reviewed part description along personally paragraph description review process part author guidelines instructions reviewers magazine given', 'charge description publication magazine professional magazine along description financing concern appears reviewed practice academic journals agree subscription unless open access journal however based paragraph accu description seeing magazine peer article academic journal usually clear peer review process addition journals description peer review process headbomb recognizable description given accu hazy fuzzy best personally think indicates review review process without peer review process cannot qualify academic journal clearly pointed may common peers high quality appear formal academic peer review might even described professional technical peer stated actual peer magazine magazine computer reviewed ieee computer society online description magazine notice peer reviewed part earlier stated guidelines available description review process part author coverage instructions reviewers magazine given', 'agree description publication magazine professional magazine stated earlier financing concern appears description practice academic journals charge subscription unless open access best however description peer accu common seeing peer review stated academic professional usually clear peer review computer addition journals description peer accu process clearly recognizable description given review hazy fuzzy journal personally along indicates peer review process without peer review process cannot qualify academic journal headbomb pointed may reviewed peers author quality appear formal academic peer review might even described journal technical reviewed article actual peer magazine magazine computer magazine ieee process society online based magazine notice available reviewed guidelines description think coverage paragraph description review process part high part instructions reviewers magazine given', 'agree description publication magazine professional magazine stated earlier financing concern appears common practice academic journals charge subscription unless open access journal reportage cartridgeholder however yet based available accu description seeing peer review stated academic journal usually seniorhigh clear peer revaluation review process addition journals description peer review process clearly recognizable description retrospect given accu touch verbaldescription hazy fuzzy best personally think academician indicates peer review process without peer review process cannot qualify academic journal headbomb pointed may reviewed peers high quality appear formal academic peer review might even described professional technical magazine article actual peer useable reviewed magazine computer magazine ieee region computer society online description magazine notice peer reviewed part description along coverage paragraph description review process part author guidelines instructions reviewers magazine given', 'agree description publication magazine professional magazine stated earlier financing concern appears common practice academic journals charge revaluation subscription unless ordinarily dataprocessor open access journal betoken however based available accu description seeing peer review stated academic journal usually clear peer review consider process consider addition journals compeer description peer review process clearly recognizable description given accu hazy fuzzy best personally think indicates peer review process without peer review process cannot qualify academic journal headbomb pointed may reviewed peers high base stipulate quality appear formal academic peer review might even described professional technical magazine article actual peer reviewed magazine computer magazine ieee computer society online description magazine notice peer reviewed consider part description along coverage paragraph description review process part author pro guidelines instructions reviewers magazine given', 'agree description publication magazine professional magazine stated compeer workon earlier financing concern appears common practice academic journals charge subscription unless open access journal however based available accu description comeout seeing peer review stated academic journal usually clear peer review process addition journals description peer review process clearly recognizable verbaldescription verbaldescription description given accu hazy fuzzy best personally think indicates verbaldescription peer review process without peer review process cannot qualify academic journal headbomb pointed may reviewed peers high quality appear formal academic peer seniorhigh review might even described professional finance technical magazine article actual workon peer reviewed magazine computer magazine posting ieee computer society online other description magazine notice peer reviewed part description along coverage paragraph description review process part author guidelines instructions reviewers magazine given', 'agree description publication magazine professional key magazine stated earlier financing distinctly concern appears common practice academic retrospect journals charge subscription unless open access journal however based available accu description seeing peer review stated academic journal usually clear peer review yet process addition journals description peer review process clearly recognizable description given accu hazy fuzzy best personally think indicates peer review process without peer review stipulate process cannot qualify academic journal headbomb pointed may reviewed peers high quality appear formal academic peer timbre pro review might even described professional technical magazine article actual yet peer reviewed magazine computer magazine revaluation ieee computer society online description magazine notice peer reviewed part description along coverage paragraph description review process compeer consider part author guidelines instructions reviewers magazine given', 'agree description publication magazine professional magazine stated earlier financing concern appears muzzy common practice academic journals charge subscription reportage unless open access verbaldescription journal however based available accu recognisable description seeing peer review stated academic journal usually clear workon peer review process addition journals description peer review process clearly recognizable description given accu hazy fuzzy best personally think indicates peer review process without diary peer review process dataprocessor cannot qualify academic journal headbomb pointed may reviewed workon peers high quality appear formal academic peer review might even described professional technical magazine article actual peer reviewed magazine computer magazine ieee inperson computer society online description magazine notice peer reviewed academician part description along coverage paragraph description review process part author stipulate guidelines instructions reviewers magazine given', 'agree description publication magazine professional stated earlier financing concern appears common practice academic journals charge subscription unless open access journal however based available accu description seeing peer review stated academic journal usually clear peer review process addition journals peer review process clearly recognizable description given accu hazy fuzzy best personally think indicates peer review process without peer review process cannot qualify academic journal pointed may reviewed quality appear formal academic peer review might even described professional technical magazine article actual peer reviewed magazine computer magazine computer society description magazine peer reviewed part description along coverage paragraph description review process part author guidelines instructions magazine given', 'agree description publication magazine professional magazine stated earlier concern common practice academic journals charge subscription unless open access journal however based available accu description seeing peer review stated academic usually clear peer review process addition journals description peer review process recognizable description given accu hazy fuzzy best personally think indicates peer review without peer review cannot qualify academic journal headbomb pointed may reviewed peers academic peer review might even described technical magazine article actual peer reviewed computer magazine computer society online description magazine notice part description along coverage paragraph description review process part author instructions reviewers magazine given', 'agree description publication magazine professional magazine stated earlier financing concern appears common practice academic journals charge subscription unless open access journal based available accu description seeing peer review stated academic journal usually clear peer review process addition journals description peer review clearly recognizable description given accu hazy fuzzy best personally think indicates process without peer process academic headbomb pointed may reviewed peers high quality appear formal academic peer review might even described professional technical article actual peer reviewed magazine computer magazine ieee computer society online description magazine notice peer reviewed part description coverage paragraph description review process part author guidelines instructions reviewers magazine', 'agree description publication magazine professional magazine stated earlier financing concern appears common practice academic journals charge subscription unless open access journal however based accu description seeing peer review stated academic journal usually clear peer process addition journals description peer review process clearly recognizable given accu hazy fuzzy personally think indicates peer review process peer review process cannot qualify academic journal headbomb pointed reviewed peers high quality appear academic peer review might even described professional technical magazine peer reviewed magazine computer magazine ieee computer society online description notice peer reviewed part description along coverage paragraph description review process part author guidelines instructions reviewers magazine given', 'agree description publication magazine professional magazine stated earlier financing concern appears practice journals charge subscription unless access journal however based available accu description seeing peer review stated academic journal usually clear peer review process addition journals description peer review process clearly description accu hazy fuzzy best personally think indicates peer review process peer review process cannot qualify academic journal headbomb pointed may reviewed peers high quality appear formal academic peer review might even described professional technical article actual peer reviewed computer magazine ieee computer society online description magazine notice peer reviewed part description along paragraph description process part author guidelines instructions reviewers magazine given']\n",
            "['australian skittles im working abroad australia surprised find green sskittles look apple flavour edited article didnt source reverted im hard meter tracking source flavours australia anyone setabout ideas empty packet front could take pictureshow upload somewhere endorsement saying theyre made australia packet theyre old packet us skittles anything also emailed customer services find verify would possible upload response somewhere', 'ustralian skittles im onthejob abroad australia surprised find special sskittles seem apple flavour edited article didnt source reverted im hard time tracking source flavours australia anyone got ideas empty packet front could take picture upload somewhere blurb saying theyre get australia packet theyre old packet us skittles anything also emailed client services runinto verify would possible upload response somewhere', 'australian skittles im working abroad australia surprised find immature sskittles appear apple flavour cut article didnt source reverted im hard time tracking source flavours australia anyone getdown ideas empty packet front could occupy picture upload somewhere blurb saying theyre made australia packet theyre old packet us skittles anything also emailed client services see verify would possible upload response somewhere', 'australian skittles im workings abroad australia surprise find greenness sskittles seem apple flavour edited article didnt source reverted im hard time tracking source flavours australia anyone got ideas empty packet front could postulate picture upload somewhere blurb saying theyre have australia packet theyre old packet us skittles anything also emailed customer services see avow would possible upload response somewhere', 'australian skittles im working abroad australia surprised bump green sskittles seem apple flavour edited article didnt source reverted im hard time tracking source flavours australia anyone got ideas empty packet socialmovement could take picture upload someplace blurb saying theyre made australia packet theyre sometime packet us skittles anything also emailed client services see verify would potential upload response someplace', 'hard skittles im working would australia surprised find green sskittles seem apple flavour edited article didnt response reverted im australian empty tracking source flavours australia anyone got front time packet ideas could take picture upload somewhere blurb saying theyre made australia packet theyre old packet us skittles anything also emailed customer services see verify abroad possible upload source somewhere', 'australian skittles im working abroad australia surprised find green sskittles seem apple flavour edited article didnt source reverted im hard emailed tracking response flavours australia would got ideas empty packet front could take picture upload somewhere blurb saying theyre made australia packet theyre old packet us skittles anything also see services customer time verify anyone possible upload source somewhere', 'packet ideas im working abroad australia surprised find green sskittles seem apple flavour edited article could source reverted im hard time tracking australia flavours australia anyone got skittles empty packet verify didnt take picture upload somewhere blurb saying theyre made source australian theyre old packet us skittles anything also emailed customer services see front would possible upload response somewhere', 'australian skittles im working abroad hard surprised find green sskittles seem apple flavour edited article didnt source reverted im australia time verify source flavours australia anyone got ideas empty old front could take picture upload somewhere blurb saying theyre made australia packet theyre packet packet us skittles possible also emailed customer services see upload would anything tracking response somewhere', 'australian skittles surprised working upload australia im find green sskittles seem apple flavour edited article didnt source reverted im hard time tracking source flavours australia anyone got ideas response packet verify could take picture upload somewhere blurb saying theyre made australia packet theyre old packet us skittles anything also emailed customer services see possible would front abroad empty somewhere', 'australian skittles im working abroad clause australia surprised find green sskittles seem apple flavour edited article didnt source reverted im hard time tracking source flavours delete australia anyone got ideas empty packet front could take getover picture upload somewhere blurb saying theyre made australia packet theyre old packet us skittles aluspumila anything also emailed customer services see verify would possible ustralia upload response somewhere', 'australian someplace skittles im working abroad australia surprised find green sskittles seem apple flavour edited article didnt ustralia source reverted im hard time tracking source flavours australia anyone got ideas empty packet front could take picture upload somewhere packetboat blurb saying theyre made australia packet theyre old packet us skittles anything also emailed customer services see verify ustralia would ninepin possible upload response somewhere', 'australian skittles im working abroad australia surprised find green sskittles seem apple flavour return edited article didnt source reverted im someplace hard time tracking source flavours australia anyone got ideas empty packet militaryservice front could take picture upload somewhere blurb saying theyre made australia packet theyre old packet us skittles anything also emailed customer services afield see ninepin verify would possible upload response somewhere', 'australian skittles im working abroad australia surprised find green sskittles storm seem apple flavour edited article didnt source reverted im hard time tracking source flavours australia anyone got ideas empty packet front could take picture upload somewhere blurb saying backbreaking theyre made australia storm packet theyre old packet us skittles anything also theme emailed customer services see verify would possible upload response  somewhere', 'australian skittles im getover working abroad australia surprised find green sskittles seem apple flavour edited article didnt workon source reverted im hard time tracking source flavours australia anyone got ideas empty packet front seed could flavor take picture upload aluspumila somewhere blurb saying theyre made australia packet theyre old packet us skittles anything also emailed customer services see verify would possible upload response somewhere', 'australian skittles working abroad australia surprised find green sskittles apple flavour edited didnt source time tracking source flavours australia anyone ideas empty packet front could take picture upload somewhere blurb saying theyre made australia packet theyre old packet us skittles anything also emailed customer services see possible upload response somewhere', 'australian skittles im working abroad australia surprised find green sskittles apple flavour edited article didnt source reverted hard time tracking source flavours australia anyone got ideas empty front could take picture upload somewhere blurb saying theyre made australia packet theyre old packet us skittles anything also emailed customer verify would possible upload response somewhere', 'australian skittles im working abroad surprised find green sskittles seem apple flavour edited article didnt source reverted im hard time tracking flavours australia anyone ideas empty packet front could take picture upload somewhere blurb saying theyre made australia packet theyre old packet us skittles also emailed customer services see verify would possible upload response somewhere', 'australian skittles im working abroad australia find green sskittles seem flavour edited article didnt source reverted im hard time tracking source flavours australia anyone got ideas empty front could take picture upload somewhere blurb saying theyre made australia packet theyre old packet us skittles anything also emailed services see verify would upload response somewhere', 'skittles im working abroad australia surprised find green sskittles seem apple flavour edited article didnt source im hard time tracking australia anyone got ideas empty packet front could take picture upload somewhere saying theyre made australia packet theyre old packet us anything also emailed customer services see verify would possible upload response somewhere']\n",
            "['anon sexact prject chanology versus unrelated anon recollect article starting show age project chanology minor movement within anon openly ridiculed majority article edited show anon done since chanology year since chanology central feature anon frequently problem internet subcultures anon evolved quicker wikipedia page recollective resembles information included', 'anonymous relation prject chanology versus unrelated anon think clause starting show age project chanology minor effort within anon openly pokefun absolutemajority clause edited show anonymous execute since chanology year since chanology central feature anonymous often problem internet subcultures anonymous evolved quicker wikipedia page longer resembles information included', 'anonymous relation prject chanology versus unrelated anon think article starting express age project chanology minor bowelmovement within anon openly ridiculed legalage article edited express anonymous done since chanology year since chanology central feature anonymous often problem internet subcultures anonymous evolved quicker wikipedia page tenacious resemble information included', 'anonymous relation prject chanology versus unrelated anon think article starting show age jutout chanology minor movement within anon openly ridiculed majority article edited show anonymous done since chanology year since chanology central feature anonymous often job internet subcultures anonymous develop quicker wikipedia foliate foresighted resembles information included', 'anonymous relation prject chanology versus unrelated anon think article protrude show age project chanology minor movement inside anon openly pokefun majority article edited show anonymous done since chanology year since chanology central feature anonymous often problem internet subculture anonymous evolved quicker wikipedia page farsighted resembles information included', 'anonymous relation prject chanology since unrelated anon think article anonymous show age project starting minor internet within anon openly ridiculed majority article edited show anonymous done since chanology year versus chanology central feature chanology often problem movement subcultures anonymous evolved quicker wikipedia page longer resembles information included', 'anonymous relation prject chanology versus unrelated anon resembles article starting show age project chanology often movement within anon openly ridiculed majority article edited show anonymous done since chanology year since chanology central anonymous anonymous problem minor internet subcultures feature evolved quicker wikipedia page longer think information included', 'anonymous relation prject chanology ridiculed unrelated think anon article starting show age project chanology minor movement within anon openly versus majority article anonymous show anonymous done chanology since year since chanology central feature edited often problem internet subcultures anonymous evolved quicker wikipedia page longer resembles information included', 'anon relation prject chanology versus unrelated anonymous minor article starting show age anonymous chanology think anonymous within anon openly ridiculed majority article edited show anonymous done since chanology year since chanology central feature project often problem internet subcultures movement evolved quicker wikipedia page longer resembles information included', 'anonymous relation prject chanology versus unrelated information think article starting show age project chanology minor movement anonymous anon openly ridiculed year article edited show anonymous done since subcultures majority since chanology central feature anonymous often problem internet chanology within evolved quicker wikipedia page longer resembles anon included', 'anonymous relation prject chanology versus unrelated anon think article starting show age project chanology minor movement within anon openly ridiculed majority article edited show anonymous done resemble since chanology year since chanology central feature anonymous often problem internet subcultures anonymous evolved quicker front wikipedia page boast longer yr resembles information included', 'anonymous relation commence prject chanology versus unrelated anon think article starting show age anon project chanology develop minor movement within anon openly ridiculed majority article edited show anonymous done since chanology year since chanology central feature anonymous often problem internet subcultures anonymous evolved quicker wikipedia page longer resembles longsighted information included', 'anonymous relation anon prject chanology versus unrelated anon think article starting show age project chanology minor movement within anon openly ridiculed majority inside article edited show anonymous warm done since chanology year since chanology central feature anonymous often problem internet subcultures anonymous evolved quicker wikipedia page longer resembles longsighted information included', 'anonymous relation prject chanology versus unrelated anon think article starting show age project paginate chanology minor movement within anon openly ridiculed majority article edited show anonymous done since chanology year intercourse since chanology central feature page anonymous often problem internet subcultures anonymous evolved quicker wikipedia data page longer resembles information included', 'anonymous relation prject chanology versus unrelated anon think article starting show age project chanology minor movement within anon openly ridiculed information majority paginate article edited show anonymous done since chanology year warm since chanology central feature anonymous often problem internet subcultures anonymous evolved quicker wikipedia page longer resembles information data included', 'relation prject chanology unrelated anon think article starting show age project chanology minor movement within anon openly ridiculed article edited show anonymous since chanology year since chanology central feature anonymous often problem internet subcultures anonymous evolved wikipedia page longer resembles information included', 'anonymous relation prject chanology versus unrelated anon think article starting show age project chanology minor within anon openly ridiculed article edited show anonymous done since chanology year since chanology central feature anonymous often problem subcultures anonymous quicker wikipedia page longer resembles information included', 'anonymous relation chanology versus unrelated anon think article starting show age project chanology minor movement within anon openly ridiculed majority article edited show anonymous done since chanology year since chanology central feature anonymous often problem internet subcultures anonymous evolved quicker wikipedia page longer resembles information included', 'anonymous prject chanology versus unrelated anon think article starting show age project chanology minor movement within anon openly ridiculed majority edited show anonymous done chanology year feature anonymous often problem internet subcultures anonymous evolved quicker wikipedia page longer information', 'anonymous relation prject chanology versus unrelated anon think starting show age project chanology minor movement within anon openly ridiculed majority edited show anonymous year since chanology central feature anonymous often problem internet subcultures anonymous evolved quicker wikipedia longer resembles information included']\n",
            "['limits done brief passages think claim little leeway level article development worst case combination words manage assign fact left feel like direct lift source id suggest putting quotes either side words match eg rightwing wing broke attached fuselage aircraft already fire hail rest', 'limits done brief transit think claim little leeway level clause development worst compositorscase combination words manage put facts left looks like direct lift reference id suggest putting quotes either side words match eg right fly broke attached fuselage aircraft already fire came rest', 'limits done brief passages intend claim little tolerance level article development worst case combination words manage frame facts left count like direct lift source id suggest putting quotes either incline words match eg right wing broke attached fuselage aircraft already fire came rest', 'limits done legalbrief passages think claim niggling leeway level article development worst case compounding words manage put fact left looks like direct lift source id hint putting quotes either side words match eg right wing broke attached fuselage aircraft already fire came rest', 'limits done brief passages think claim little allowance level article development worst case combination news manage put fact goout looks like direct lift source id intimate putting quotes either side news match eg right wing broke attached fuselage aircraft already fire came rest', 'limits came brief think passages claim little leeway level article development worst case combination words manage put facts left looks like side lift source id suggest putting quotes either direct words match eg broke wing right attached fuselage aircraft already fire done rest', 'limits done brief passages think claim little leeway level article development fuselage case combination words manage put facts side looks like direct lift source id words putting quotes either left suggest match eg right wing broke attached worst aircraft came fire already rest', 'limits done brief passages think lift little leeway level putting development worst case wing words manage put facts words looks like direct claim source id suggest article quotes either side left match eg right combination broke attached fuselage aircraft already fire came rest', 'limits done brief passages think claim little leeway level article development worst case combination words manage put aircraft broke looks attached direct lift source id suggest putting quotes either side words match eg right wing left like came facts already fire fuselage rest', 'limits done brief passages think worst little aircraft level article lift claim suggest combination words manage put facts left looks like direct development source id case putting quotes either side words match eg right wing broke attached fuselage leeway already fire came rest', 'limits done brief passages think claim little leeway short level article development worst case seed combination words manage put facts left looks like direct lift source id suggest putting teardown quotes either side words match eg right wing broke little attached fuselage aircraft already fire came rest', 'limits done brief passages think claim little leeway level article development worst case combination title words manage put facts left arouse looks like direct lift source id suggest putting quotes either fact side words match eg clause right wing broke attached fuselage aircraft already fire came rest', 'limits done brief passages think claim little comparable leeway level article development nglish worst case combination words manage put facts fact left looks like direct lift source id givevoice suggest putting quotes either side words match eg right wing broke attached fuselage aircraft already fire came rest', 'nglish limits done brief passages think claim little leeway level article development worst case combination words evolution manage put facts left looks like direct lift consider source id suggest putting quotes setup either side words match eg right wing broke attached fuselage aircraft already fire came rest', 'limits done brief passages think claim little leeway level article development worst case combination words manage put bond facts left combining looks like direct lift source id legalbrief suggest putting quotes either side words match eg right wing broke attached clause fuselage aircraft already fire came rest', 'limits done brief passages think claim little leeway level article development worst case combination manage put facts left looks like direct lift source suggest putting quotes either side words match eg right broke fuselage aircraft already fire came rest', 'limits done brief passages think claim little level article development worst case combination words manage put facts left looks like direct lift source id suggest putting quotes either words eg right wing broke attached fuselage aircraft fire came rest', 'limits done brief passages think claim little leeway level article development worst case combination words manage put facts left looks like direct lift source id suggest putting quotes either side words match eg broke attached fuselage already fire came rest', 'done brief passages think claim little leeway level development worst case combination words manage put facts left looks like direct lift source id suggest putting quotes either side words match right wing broke attached fuselage aircraft already fire came rest', 'limits done passages think claim little leeway level article development worst case words manage put facts left looks direct lift source id suggest putting quotes either side words match eg right wing broke attached fuselage aircraft already fire came rest']\n"
          ],
          "name": "stdout"
        }
      ]
    },
    {
      "cell_type": "markdown",
      "metadata": {
        "id": "Rhf_ANsgwdT8"
      },
      "source": [
        "Performed Easy  Data Augmentation. <br>\n",
        "a= 0.01<br>\n",
        "number of sentences to be generated for each of SR, RS, RI, RD = 5,<br>\n",
        "So 20 sentences are generated for each sentence. <br>\n",
        "Now we have 7979 * 20 = 15958 sentences thorugh EDA<br>"
      ]
    },
    {
      "cell_type": "code",
      "metadata": {
        "id": "r6dKgvOV7bSZ"
      },
      "source": [
        ""
      ],
      "execution_count": null,
      "outputs": []
    },
    {
      "cell_type": "code",
      "metadata": {
        "id": "pJ_Mw6Lud4nn"
      },
      "source": [
        "flat_list = [item for sublist in augmented_sentences for item in sublist]"
      ],
      "execution_count": null,
      "outputs": []
    },
    {
      "cell_type": "code",
      "metadata": {
        "colab": {
          "base_uri": "https://localhost:8080/"
        },
        "id": "SIVnILu0eDqY",
        "outputId": "10eeb705-7750-4d33-a64e-91da8342881d"
      },
      "source": [
        "len(flat_list)"
      ],
      "execution_count": null,
      "outputs": [
        {
          "output_type": "execute_result",
          "data": {
            "text/plain": [
              "159580"
            ]
          },
          "metadata": {
            "tags": []
          },
          "execution_count": 42
        }
      ]
    },
    {
      "cell_type": "code",
      "metadata": {
        "colab": {
          "base_uri": "https://localhost:8080/",
          "height": 197
        },
        "id": "iTTs4-lmjgBM",
        "outputId": "cb1553ad-8f4b-4a1a-f9cd-a227238d631e"
      },
      "source": [
        "eda_col=EDA_df[['toxic', 'severe_toxic', 'obscene',\t'threat','insult','identity_hate' ]].copy()\n",
        "eda_col.head()"
      ],
      "execution_count": null,
      "outputs": [
        {
          "output_type": "execute_result",
          "data": {
            "text/html": [
              "<div>\n",
              "<style scoped>\n",
              "    .dataframe tbody tr th:only-of-type {\n",
              "        vertical-align: middle;\n",
              "    }\n",
              "\n",
              "    .dataframe tbody tr th {\n",
              "        vertical-align: top;\n",
              "    }\n",
              "\n",
              "    .dataframe thead th {\n",
              "        text-align: right;\n",
              "    }\n",
              "</style>\n",
              "<table border=\"1\" class=\"dataframe\">\n",
              "  <thead>\n",
              "    <tr style=\"text-align: right;\">\n",
              "      <th></th>\n",
              "      <th>toxic</th>\n",
              "      <th>severe_toxic</th>\n",
              "      <th>obscene</th>\n",
              "      <th>threat</th>\n",
              "      <th>insult</th>\n",
              "      <th>identity_hate</th>\n",
              "    </tr>\n",
              "  </thead>\n",
              "  <tbody>\n",
              "    <tr>\n",
              "      <th>98609</th>\n",
              "      <td>0</td>\n",
              "      <td>0</td>\n",
              "      <td>0</td>\n",
              "      <td>0</td>\n",
              "      <td>0</td>\n",
              "      <td>0</td>\n",
              "    </tr>\n",
              "    <tr>\n",
              "      <th>46886</th>\n",
              "      <td>0</td>\n",
              "      <td>0</td>\n",
              "      <td>0</td>\n",
              "      <td>0</td>\n",
              "      <td>0</td>\n",
              "      <td>0</td>\n",
              "    </tr>\n",
              "    <tr>\n",
              "      <th>7830</th>\n",
              "      <td>0</td>\n",
              "      <td>0</td>\n",
              "      <td>0</td>\n",
              "      <td>0</td>\n",
              "      <td>0</td>\n",
              "      <td>0</td>\n",
              "    </tr>\n",
              "    <tr>\n",
              "      <th>138364</th>\n",
              "      <td>0</td>\n",
              "      <td>0</td>\n",
              "      <td>0</td>\n",
              "      <td>0</td>\n",
              "      <td>0</td>\n",
              "      <td>0</td>\n",
              "    </tr>\n",
              "    <tr>\n",
              "      <th>130631</th>\n",
              "      <td>0</td>\n",
              "      <td>0</td>\n",
              "      <td>0</td>\n",
              "      <td>0</td>\n",
              "      <td>0</td>\n",
              "      <td>0</td>\n",
              "    </tr>\n",
              "  </tbody>\n",
              "</table>\n",
              "</div>"
            ],
            "text/plain": [
              "        toxic  severe_toxic  obscene  threat  insult  identity_hate\n",
              "98609       0             0        0       0       0              0\n",
              "46886       0             0        0       0       0              0\n",
              "7830        0             0        0       0       0              0\n",
              "138364      0             0        0       0       0              0\n",
              "130631      0             0        0       0       0              0"
            ]
          },
          "metadata": {
            "tags": []
          },
          "execution_count": 43
        }
      ]
    },
    {
      "cell_type": "code",
      "metadata": {
        "id": "eOauVuXC6yC9"
      },
      "source": [
        "eda_col=eda_col.values.tolist()"
      ],
      "execution_count": null,
      "outputs": []
    },
    {
      "cell_type": "code",
      "metadata": {
        "id": "bj31HUp596mo"
      },
      "source": [
        "import itertools\n",
        "\n",
        "#lst = range(1,5)\n",
        "#list(itertools.chain.from_iterable(itertools.repeat(x, 3) for x in lst))"
      ],
      "execution_count": null,
      "outputs": []
    },
    {
      "cell_type": "code",
      "metadata": {
        "colab": {
          "base_uri": "https://localhost:8080/"
        },
        "id": "pwOcccVt9b1b",
        "outputId": "264b38d5-7d7a-4e26-e8bc-909082fcd437"
      },
      "source": [
        "eda_col2=list(itertools.chain.from_iterable(itertools.repeat(x, 20) for x in eda_col))\n",
        "\n",
        "print(len(eda_col), len(eda_col2))\n",
        "for i in range (10):\n",
        "  print(eda_col2[i])"
      ],
      "execution_count": null,
      "outputs": [
        {
          "output_type": "stream",
          "text": [
            "7979 159580\n",
            "[0, 0, 0, 0, 0, 0]\n",
            "[0, 0, 0, 0, 0, 0]\n",
            "[0, 0, 0, 0, 0, 0]\n",
            "[0, 0, 0, 0, 0, 0]\n",
            "[0, 0, 0, 0, 0, 0]\n",
            "[0, 0, 0, 0, 0, 0]\n",
            "[0, 0, 0, 0, 0, 0]\n",
            "[0, 0, 0, 0, 0, 0]\n",
            "[0, 0, 0, 0, 0, 0]\n",
            "[0, 0, 0, 0, 0, 0]\n"
          ],
          "name": "stdout"
        }
      ]
    },
    {
      "cell_type": "code",
      "metadata": {
        "id": "UEBIQnxA-xTG"
      },
      "source": [
        "EDA_cols = pd.DataFrame(eda_col2)"
      ],
      "execution_count": null,
      "outputs": []
    },
    {
      "cell_type": "code",
      "metadata": {
        "id": "FRWOBV6GeOkY"
      },
      "source": [
        "EDA_Data = pd.DataFrame(flat_list)"
      ],
      "execution_count": null,
      "outputs": []
    },
    {
      "cell_type": "code",
      "metadata": {
        "colab": {
          "base_uri": "https://localhost:8080/"
        },
        "id": "BYLZVvKRlGAi",
        "outputId": "258bd79d-e26c-4c35-9965-1a27d5ac4bb5"
      },
      "source": [
        "len(EDA_Data)"
      ],
      "execution_count": null,
      "outputs": [
        {
          "output_type": "execute_result",
          "data": {
            "text/plain": [
              "159580"
            ]
          },
          "metadata": {
            "tags": []
          },
          "execution_count": 140
        }
      ]
    },
    {
      "cell_type": "code",
      "metadata": {
        "colab": {
          "base_uri": "https://localhost:8080/",
          "height": 197
        },
        "id": "1gZIM5YZjI_g",
        "outputId": "68521353-4ab9-46cd-d3f0-9601d0fff6aa"
      },
      "source": [
        "EDA_Data.head()"
      ],
      "execution_count": null,
      "outputs": [
        {
          "output_type": "execute_result",
          "data": {
            "text/html": [
              "<div>\n",
              "<style scoped>\n",
              "    .dataframe tbody tr th:only-of-type {\n",
              "        vertical-align: middle;\n",
              "    }\n",
              "\n",
              "    .dataframe tbody tr th {\n",
              "        vertical-align: top;\n",
              "    }\n",
              "\n",
              "    .dataframe thead th {\n",
              "        text-align: right;\n",
              "    }\n",
              "</style>\n",
              "<table border=\"1\" class=\"dataframe\">\n",
              "  <thead>\n",
              "    <tr style=\"text-align: right;\">\n",
              "      <th></th>\n",
              "      <th>0</th>\n",
              "    </tr>\n",
              "  </thead>\n",
              "  <tbody>\n",
              "    <tr>\n",
              "      <th>0</th>\n",
              "      <td>benidorm speak valencian atalan edited contemp...</td>\n",
              "    </tr>\n",
              "    <tr>\n",
              "      <th>1</th>\n",
              "      <td>benidorm utter valencian catalan redact insult...</td>\n",
              "    </tr>\n",
              "    <tr>\n",
              "      <th>2</th>\n",
              "      <td>benidorm speak valencian atalan edited insulti...</td>\n",
              "    </tr>\n",
              "    <tr>\n",
              "      <th>3</th>\n",
              "      <td>benidorm speak valencian catalan editout insul...</td>\n",
              "    </tr>\n",
              "    <tr>\n",
              "      <th>4</th>\n",
              "      <td>benidorm verbalize valencian atalan edited ins...</td>\n",
              "    </tr>\n",
              "  </tbody>\n",
              "</table>\n",
              "</div>"
            ],
            "text/plain": [
              "                                                   0\n",
              "0  benidorm speak valencian atalan edited contemp...\n",
              "1  benidorm utter valencian catalan redact insult...\n",
              "2  benidorm speak valencian atalan edited insulti...\n",
              "3  benidorm speak valencian catalan editout insul...\n",
              "4  benidorm verbalize valencian atalan edited ins..."
            ]
          },
          "metadata": {
            "tags": []
          },
          "execution_count": 49
        }
      ]
    },
    {
      "cell_type": "markdown",
      "metadata": {
        "id": "8ccxo-o8-kDL"
      },
      "source": [
        "## EDA_cols.csv are the values<br>\n",
        "## EDA_df_comments.csv are the comments :)\n",
        "\n",
        "## Edited, saved as EDA_cols2 and EDA_df_comments2\n"
      ]
    },
    {
      "cell_type": "code",
      "metadata": {
        "id": "uZauzqsZjJEZ"
      },
      "source": [
        "EDA_cols.to_csv('/content/drive/MyDrive/AI-Project-Toxic-classification/EDA_cols2.csv')"
      ],
      "execution_count": null,
      "outputs": []
    },
    {
      "cell_type": "code",
      "metadata": {
        "id": "T5qCiGQJ7q6m"
      },
      "source": [
        "EDA_Data.to_csv('/content/drive/MyDrive/AI-Project-Toxic-classification/EDA_df_comments2.csv')"
      ],
      "execution_count": null,
      "outputs": []
    },
    {
      "cell_type": "markdown",
      "metadata": {
        "id": "fhX95py3jHRQ"
      },
      "source": [
        "# Logistic Regression on EDA"
      ]
    },
    {
      "cell_type": "code",
      "metadata": {
        "id": "nQ0TsAIujGMn"
      },
      "source": [
        "from scipy.sparse import csr_matrix\n",
        "from scipy import sparse"
      ],
      "execution_count": null,
      "outputs": []
    },
    {
      "cell_type": "code",
      "metadata": {
        "id": "aFyS1gKXXrKw"
      },
      "source": [
        "vect_word = TfidfVectorizer(max_features=20000, lowercase=True, analyzer='word',\n",
        "                        stop_words= 'english',ngram_range=(1,3),dtype=np.float32)\n",
        "vect_char = TfidfVectorizer(max_features=40000, lowercase=True, analyzer='char',\n",
        "                        stop_words= 'english',ngram_range=(3,6),dtype=np.float32)"
      ],
      "execution_count": null,
      "outputs": []
    },
    {
      "cell_type": "code",
      "metadata": {
        "id": "0gweHMt9XrNF"
      },
      "source": [
        "# Word ngram vector\n",
        "tr_vect = vect_word.fit_transform(df_train['comment_text'])\n",
        "ts_vect = vect_word.transform(df_test['comment_text'])\n",
        "\n",
        "# Character n gram vector\n",
        "#tr_vect_char = vect_char.fit_transform(df_train['comment_text'])\n",
        "#ts_vect_char = vect_char.transform(df_test['comment_text'])"
      ],
      "execution_count": null,
      "outputs": []
    },
    {
      "cell_type": "code",
      "metadata": {
        "id": "PNwkzLy3XrQf"
      },
      "source": [
        "#X = sparse.hstack([tr_vect, tr_vect_char])\n",
        "#x_test = sparse.hstack([ts_vect, ts_vect_char])\n",
        "X = csr_matrix(tr_vect)\n",
        "x_test = csr_matrix(ts_vect)"
      ],
      "execution_count": null,
      "outputs": []
    },
    {
      "cell_type": "code",
      "metadata": {
        "id": "vusL34S4XrTr"
      },
      "source": [
        "y = df_train[colms]\n",
        "#del tr_vect, ts_vect, tr_vect_char, ts_vect_char"
      ],
      "execution_count": null,
      "outputs": []
    },
    {
      "cell_type": "code",
      "metadata": {
        "id": "sKIs36nQMKrS"
      },
      "source": [
        "from sklearn.linear_model import LogisticRegression"
      ],
      "execution_count": null,
      "outputs": []
    },
    {
      "cell_type": "code",
      "metadata": {
        "colab": {
          "base_uri": "https://localhost:8080/"
        },
        "id": "tvJGnLBVXrV5",
        "outputId": "d6fd49c9-d150-4417-9a81-899f9135acba"
      },
      "source": [
        "prd = np.zeros((x_test.shape[0],y.shape[1]))\n",
        "cv_score =[]\n",
        "for i,col in enumerate(colms):\n",
        "    lr = LogisticRegression(C=2,random_state = i,class_weight = 'balanced', max_iter=170)\n",
        "    print('Building {} model for column:{''}'.format(i,col)) \n",
        "    lr.fit(X,y[col])\n",
        "    #cv_score.append(lr.score)\n",
        "    prd[:,i] = lr.predict_proba(x_test)[:,1]"
      ],
      "execution_count": null,
      "outputs": [
        {
          "output_type": "stream",
          "text": [
            "Building 0 model for column:toxic\n",
            "Building 1 model for column:severe_toxic\n",
            "Building 2 model for column:obscene\n",
            "Building 3 model for column:threat\n",
            "Building 4 model for column:insult\n",
            "Building 5 model for column:identity_hate\n"
          ],
          "name": "stdout"
        }
      ]
    },
    {
      "cell_type": "code",
      "metadata": {
        "id": "XVoyVvTlMpfJ"
      },
      "source": [
        "from sklearn.metrics import confusion_matrix, classification_report"
      ],
      "execution_count": null,
      "outputs": []
    },
    {
      "cell_type": "code",
      "metadata": {
        "id": "PRpclz02M6XR"
      },
      "source": [
        "y=y[:153164]"
      ],
      "execution_count": null,
      "outputs": []
    },
    {
      "cell_type": "code",
      "metadata": {
        "id": "UBDgdN50YUZM",
        "colab": {
          "base_uri": "https://localhost:8080/"
        },
        "outputId": "bcd8662f-e7bb-4399-ae47-eeb4de7dedc1"
      },
      "source": [
        "for col in colms:\n",
        "  print(\"Column:\",col)\n",
        "  pred =  lr.predict(x_test)\n",
        "  print('\\nConfusion matrix\\n',confusion_matrix(y[col],pred))\n",
        "  print(classification_report(y[col],pred))"
      ],
      "execution_count": null,
      "outputs": [
        {
          "output_type": "stream",
          "text": [
            "Column: toxic\n",
            "\n",
            "Confusion matrix\n",
            " [[134712   4092]\n",
            " [ 13928    432]]\n",
            "              precision    recall  f1-score   support\n",
            "\n",
            "           0       0.91      0.97      0.94    138804\n",
            "           1       0.10      0.03      0.05     14360\n",
            "\n",
            "    accuracy                           0.88    153164\n",
            "   macro avg       0.50      0.50      0.49    153164\n",
            "weighted avg       0.83      0.88      0.85    153164\n",
            "\n",
            "Column: severe_toxic\n",
            "\n",
            "Confusion matrix\n",
            " [[146986   4458]\n",
            " [  1654     66]]\n",
            "              precision    recall  f1-score   support\n",
            "\n",
            "           0       0.99      0.97      0.98    151444\n",
            "           1       0.01      0.04      0.02      1720\n",
            "\n",
            "    accuracy                           0.96    153164\n",
            "   macro avg       0.50      0.50      0.50    153164\n",
            "weighted avg       0.98      0.96      0.97    153164\n",
            "\n",
            "Column: obscene\n",
            "\n",
            "Confusion matrix\n",
            " [[140911   4293]\n",
            " [  7729    231]]\n",
            "              precision    recall  f1-score   support\n",
            "\n",
            "           0       0.95      0.97      0.96    145204\n",
            "           1       0.05      0.03      0.04      7960\n",
            "\n",
            "    accuracy                           0.92    153164\n",
            "   macro avg       0.50      0.50      0.50    153164\n",
            "weighted avg       0.90      0.92      0.91    153164\n",
            "\n",
            "Column: threat\n",
            "\n",
            "Confusion matrix\n",
            " [[148355   4509]\n",
            " [   285     15]]\n",
            "              precision    recall  f1-score   support\n",
            "\n",
            "           0       1.00      0.97      0.98    152864\n",
            "           1       0.00      0.05      0.01       300\n",
            "\n",
            "    accuracy                           0.97    153164\n",
            "   macro avg       0.50      0.51      0.50    153164\n",
            "weighted avg       1.00      0.97      0.98    153164\n",
            "\n",
            "Column: insult\n",
            "\n",
            "Confusion matrix\n",
            " [[141143   4301]\n",
            " [  7497    223]]\n",
            "              precision    recall  f1-score   support\n",
            "\n",
            "           0       0.95      0.97      0.96    145444\n",
            "           1       0.05      0.03      0.04      7720\n",
            "\n",
            "    accuracy                           0.92    153164\n",
            "   macro avg       0.50      0.50      0.50    153164\n",
            "weighted avg       0.90      0.92      0.91    153164\n",
            "\n",
            "Column: identity_hate\n",
            "\n",
            "Confusion matrix\n",
            " [[147448   4496]\n",
            " [  1192     28]]\n",
            "              precision    recall  f1-score   support\n",
            "\n",
            "           0       0.99      0.97      0.98    151944\n",
            "           1       0.01      0.02      0.01      1220\n",
            "\n",
            "    accuracy                           0.96    153164\n",
            "   macro avg       0.50      0.50      0.50    153164\n",
            "weighted avg       0.98      0.96      0.97    153164\n",
            "\n"
          ],
          "name": "stdout"
        }
      ]
    },
    {
      "cell_type": "code",
      "metadata": {
        "id": "MMILOgtKs1mp"
      },
      "source": [
        ""
      ],
      "execution_count": null,
      "outputs": []
    },
    {
      "cell_type": "code",
      "metadata": {
        "colab": {
          "base_uri": "https://localhost:8080/"
        },
        "id": "TKvoqfzHZh2p",
        "outputId": "0d301fcb-31cd-4246-9c31-46f4efe9b598"
      },
      "source": [
        "for col in classes:\n",
        "  print(\"Column:\",col)\n",
        "  pred =  lr.predict(x_test)\n",
        "  print('\\nConfusion matrix\\n',confusion_matrix(y[col],pred))\n",
        "  print(classification_report(y[col],pred))"
      ],
      "execution_count": null,
      "outputs": [
        {
          "output_type": "stream",
          "text": [
            "Column: toxic\n",
            "\n",
            "Confusion matrix\n",
            " [[143846    431]\n",
            " [ 12567   2727]]\n",
            "              precision    recall  f1-score   support\n",
            "\n",
            "           0       0.92      1.00      0.96    144277\n",
            "           1       0.86      0.18      0.30     15294\n",
            "\n",
            "    accuracy                           0.92    159571\n",
            "   macro avg       0.89      0.59      0.63    159571\n",
            "weighted avg       0.91      0.92      0.89    159571\n",
            "\n",
            "Column: severe_toxic\n",
            "\n",
            "Confusion matrix\n",
            " [[155478   2498]\n",
            " [   935    660]]\n",
            "              precision    recall  f1-score   support\n",
            "\n",
            "           0       0.99      0.98      0.99    157976\n",
            "           1       0.21      0.41      0.28      1595\n",
            "\n",
            "    accuracy                           0.98    159571\n",
            "   macro avg       0.60      0.70      0.63    159571\n",
            "weighted avg       0.99      0.98      0.98    159571\n",
            "\n",
            "Column: obscene\n",
            "\n",
            "Confusion matrix\n",
            " [[149999   1123]\n",
            " [  6414   2035]]\n",
            "              precision    recall  f1-score   support\n",
            "\n",
            "           0       0.96      0.99      0.98    151122\n",
            "           1       0.64      0.24      0.35      8449\n",
            "\n",
            "    accuracy                           0.95    159571\n",
            "   macro avg       0.80      0.62      0.66    159571\n",
            "weighted avg       0.94      0.95      0.94    159571\n",
            "\n",
            "Column: threat\n",
            "\n",
            "Confusion matrix\n",
            " [[156088   3005]\n",
            " [   325    153]]\n",
            "              precision    recall  f1-score   support\n",
            "\n",
            "           0       1.00      0.98      0.99    159093\n",
            "           1       0.05      0.32      0.08       478\n",
            "\n",
            "    accuracy                           0.98    159571\n",
            "   macro avg       0.52      0.65      0.54    159571\n",
            "weighted avg       1.00      0.98      0.99    159571\n",
            "\n",
            "Column: insult\n",
            "\n",
            "Confusion matrix\n",
            " [[150687   1007]\n",
            " [  5726   2151]]\n",
            "              precision    recall  f1-score   support\n",
            "\n",
            "           0       0.96      0.99      0.98    151694\n",
            "           1       0.68      0.27      0.39      7877\n",
            "\n",
            "    accuracy                           0.96    159571\n",
            "   macro avg       0.82      0.63      0.68    159571\n",
            "weighted avg       0.95      0.96      0.95    159571\n",
            "\n",
            "Column: identity_hate\n",
            "\n",
            "Confusion matrix\n",
            " [[156413   1753]\n",
            " [     0   1405]]\n",
            "              precision    recall  f1-score   support\n",
            "\n",
            "           0       1.00      0.99      0.99    158166\n",
            "           1       0.44      1.00      0.62      1405\n",
            "\n",
            "    accuracy                           0.99    159571\n",
            "   macro avg       0.72      0.99      0.81    159571\n",
            "weighted avg       1.00      0.99      0.99    159571\n",
            "\n"
          ],
          "name": "stdout"
        }
      ]
    },
    {
      "cell_type": "code",
      "metadata": {
        "id": "4ThigDFms1ze"
      },
      "source": [
        ""
      ],
      "execution_count": null,
      "outputs": []
    },
    {
      "cell_type": "markdown",
      "metadata": {
        "id": "slgpXwNis2ci"
      },
      "source": [
        "#### Below method does not work because of multiple labels. Use loops for using one-vs-all approach"
      ]
    },
    {
      "cell_type": "code",
      "metadata": {
        "id": "ekQv3Yalpfne"
      },
      "source": [
        "from sklearn.tree import LogisticRegression"
      ],
      "execution_count": null,
      "outputs": []
    },
    {
      "cell_type": "code",
      "metadata": {
        "id": "g82r2ISzpfns"
      },
      "source": [
        "X_train = sparse.hstack(X_train)\n",
        "X_test = sparse.hstack(X_test)"
      ],
      "execution_count": null,
      "outputs": []
    },
    {
      "cell_type": "code",
      "metadata": {
        "id": "uP30owuGpfnt"
      },
      "source": [
        "log_reg = LogisticRegression()\n",
        "# Train Decision Tree Classifer\n",
        "log_reg = log_reg.fit(X_train,y_train)\n",
        "with open('/content/drive/MyDrive/AI-Project-Toxic-classification/LogisticRegression.pickle', 'wb') as f:\n",
        "    pickle.dump(model, f)"
      ],
      "execution_count": null,
      "outputs": []
    },
    {
      "cell_type": "code",
      "metadata": {
        "id": "9FJ-lsXupfnt"
      },
      "source": [
        "#Predict the response for test dataset\n",
        "y_pred = log_reg.predict(X_test)"
      ],
      "execution_count": null,
      "outputs": []
    },
    {
      "cell_type": "code",
      "metadata": {
        "id": "ThelYzB7pfnt"
      },
      "source": [
        "print(classification_report(y_test, log_reg.predict(X_test)))\n",
        "print(confusion_matrix(y_test.argmax(axis=1), log_reg.predict(X_test).argmax(axis=1)))"
      ],
      "execution_count": null,
      "outputs": []
    },
    {
      "cell_type": "markdown",
      "metadata": {
        "id": "1ukY8gqMTUYx"
      },
      "source": [
        "# Random Forest Classifier on EDA"
      ]
    },
    {
      "cell_type": "code",
      "metadata": {
        "id": "E9E3fvfnTUZC"
      },
      "source": [
        "from sklearn.ensemble import RandomForestClassifier"
      ],
      "execution_count": null,
      "outputs": []
    },
    {
      "cell_type": "code",
      "metadata": {
        "id": "SKQ4G1XhTUZC"
      },
      "source": [
        "RFC = RandomForestClassifier()\n",
        "model = RFC.fit(X_train, y_train)\n",
        "with open('/content/drive/MyDrive/AI-Project-Toxic-classification/RandomForestClassifier.pickle', 'wb') as f:\n",
        "    pickle.dump(model, f)"
      ],
      "execution_count": null,
      "outputs": []
    },
    {
      "cell_type": "code",
      "metadata": {
        "id": "uTIHSak_TUZC"
      },
      "source": [
        "from sklearn.metrics import classification_report, confusion_matrix"
      ],
      "execution_count": null,
      "outputs": []
    },
    {
      "cell_type": "code",
      "metadata": {
        "colab": {
          "base_uri": "https://localhost:8080/"
        },
        "id": "GeidiNbLTUZD",
        "outputId": "28c224b8-43ad-49f8-d92b-bd5f62ed1ac8"
      },
      "source": [
        "print(classification_report(y_test, model.predict(X_test)))\n",
        "print(confusion_matrix(y_test.argmax(axis=1), model.predict(X_test).argmax(axis=1)))"
      ],
      "execution_count": null,
      "outputs": [
        {
          "output_type": "stream",
          "text": [
            "/usr/local/lib/python3.7/dist-packages/sklearn/metrics/_classification.py:1272: UndefinedMetricWarning: Precision and F-score are ill-defined and being set to 0.0 in samples with no predicted labels. Use `zero_division` parameter to control this behavior.\n",
            "  _warn_prf(average, modifier, msg_start, len(result))\n",
            "/usr/local/lib/python3.7/dist-packages/sklearn/metrics/_classification.py:1272: UndefinedMetricWarning: Recall and F-score are ill-defined and being set to 0.0 in samples with no true labels. Use `zero_division` parameter to control this behavior.\n",
            "  _warn_prf(average, modifier, msg_start, len(result))\n"
          ],
          "name": "stderr"
        },
        {
          "output_type": "stream",
          "text": [
            "              precision    recall  f1-score   support\n",
            "\n",
            "           0       0.85      0.62      0.72      1450\n",
            "           1       0.44      0.08      0.13       139\n",
            "           2       0.85      0.69      0.76       765\n",
            "           3       1.00      0.02      0.04        51\n",
            "           4       0.73      0.50      0.59       725\n",
            "           5       0.37      0.06      0.10       126\n",
            "\n",
            "   micro avg       0.82      0.56      0.66      3256\n",
            "   macro avg       0.71      0.33      0.39      3256\n",
            "weighted avg       0.79      0.56      0.64      3256\n",
            " samples avg       0.06      0.05      0.05      3256\n",
            "\n",
            "[[14918     1     0     1     0]\n",
            " [   48     0     0     0     0]\n",
            " [    2     0     0     0     0]\n",
            " [   26     0     0     0     0]\n",
            " [    4     0     0     0     0]]\n"
          ],
          "name": "stdout"
        }
      ]
    },
    {
      "cell_type": "markdown",
      "metadata": {
        "id": "-dL0MgZ7SOwU"
      },
      "source": [
        "# SVM on EDA"
      ]
    },
    {
      "cell_type": "markdown",
      "metadata": {
        "id": "h4CSY0b9SOwl"
      },
      "source": [
        "##Data Preprocessing"
      ]
    },
    {
      "cell_type": "code",
      "metadata": {
        "id": "YV4pyGphSOwm"
      },
      "source": [
        "import pandas as pd\n",
        "import numpy as np\n",
        "import matplotlib.pyplot as plt"
      ],
      "execution_count": null,
      "outputs": []
    },
    {
      "cell_type": "code",
      "metadata": {
        "colab": {
          "base_uri": "https://localhost:8080/"
        },
        "id": "WqPAuiUQSOwn",
        "outputId": "43567de4-0fca-4879-f2de-178ebae49519"
      },
      "source": [
        "from google.colab import drive\n",
        "drive.mount('/content/drive')"
      ],
      "execution_count": null,
      "outputs": [
        {
          "output_type": "stream",
          "text": [
            "Mounted at /content/drive\n"
          ],
          "name": "stdout"
        }
      ]
    },
    {
      "cell_type": "code",
      "metadata": {
        "id": "jfNmQ-BbSOwn"
      },
      "source": [
        "df_train=pd.read_csv('/content/drive/MyDrive/AI-Project-Toxic-classification/Jigsaw dataset/train/train.csv')"
      ],
      "execution_count": null,
      "outputs": []
    },
    {
      "cell_type": "code",
      "metadata": {
        "colab": {
          "base_uri": "https://localhost:8080/",
          "height": 197
        },
        "id": "MpEJFaFcSOwn",
        "outputId": "4eeb807c-36cb-4206-9cdf-4e5a4f15a576"
      },
      "source": [
        "df_train.head()"
      ],
      "execution_count": null,
      "outputs": [
        {
          "output_type": "execute_result",
          "data": {
            "text/html": [
              "<div>\n",
              "<style scoped>\n",
              "    .dataframe tbody tr th:only-of-type {\n",
              "        vertical-align: middle;\n",
              "    }\n",
              "\n",
              "    .dataframe tbody tr th {\n",
              "        vertical-align: top;\n",
              "    }\n",
              "\n",
              "    .dataframe thead th {\n",
              "        text-align: right;\n",
              "    }\n",
              "</style>\n",
              "<table border=\"1\" class=\"dataframe\">\n",
              "  <thead>\n",
              "    <tr style=\"text-align: right;\">\n",
              "      <th></th>\n",
              "      <th>comment_text</th>\n",
              "      <th>toxic</th>\n",
              "      <th>severe_toxic</th>\n",
              "      <th>obscene</th>\n",
              "      <th>threat</th>\n",
              "      <th>insult</th>\n",
              "      <th>identity_hate</th>\n",
              "    </tr>\n",
              "  </thead>\n",
              "  <tbody>\n",
              "    <tr>\n",
              "      <th>0</th>\n",
              "      <td>benidorm speak valencian atalan edit contemptu...</td>\n",
              "      <td>0</td>\n",
              "      <td>0</td>\n",
              "      <td>0</td>\n",
              "      <td>0</td>\n",
              "      <td>0</td>\n",
              "      <td>0</td>\n",
              "    </tr>\n",
              "    <tr>\n",
              "      <th>1</th>\n",
              "      <td>benidorm utter valencian catalan redact insult...</td>\n",
              "      <td>0</td>\n",
              "      <td>0</td>\n",
              "      <td>0</td>\n",
              "      <td>0</td>\n",
              "      <td>0</td>\n",
              "      <td>0</td>\n",
              "    </tr>\n",
              "    <tr>\n",
              "      <th>2</th>\n",
              "      <td>benidorm speak valencian atalan edit insult wo...</td>\n",
              "      <td>0</td>\n",
              "      <td>0</td>\n",
              "      <td>0</td>\n",
              "      <td>0</td>\n",
              "      <td>0</td>\n",
              "      <td>0</td>\n",
              "    </tr>\n",
              "    <tr>\n",
              "      <th>3</th>\n",
              "      <td>benidorm speak valencian catalan editout insul...</td>\n",
              "      <td>0</td>\n",
              "      <td>0</td>\n",
              "      <td>0</td>\n",
              "      <td>0</td>\n",
              "      <td>0</td>\n",
              "      <td>0</td>\n",
              "    </tr>\n",
              "    <tr>\n",
              "      <th>4</th>\n",
              "      <td>benidorm verbal valencian atalan edit insult w...</td>\n",
              "      <td>0</td>\n",
              "      <td>0</td>\n",
              "      <td>0</td>\n",
              "      <td>0</td>\n",
              "      <td>0</td>\n",
              "      <td>0</td>\n",
              "    </tr>\n",
              "  </tbody>\n",
              "</table>\n",
              "</div>"
            ],
            "text/plain": [
              "                                        comment_text  ...  identity_hate\n",
              "0  benidorm speak valencian atalan edit contemptu...  ...              0\n",
              "1  benidorm utter valencian catalan redact insult...  ...              0\n",
              "2  benidorm speak valencian atalan edit insult wo...  ...              0\n",
              "3  benidorm speak valencian catalan editout insul...  ...              0\n",
              "4  benidorm verbal valencian atalan edit insult w...  ...              0\n",
              "\n",
              "[5 rows x 7 columns]"
            ]
          },
          "metadata": {
            "tags": []
          },
          "execution_count": 47
        }
      ]
    },
    {
      "cell_type": "code",
      "metadata": {
        "colab": {
          "base_uri": "https://localhost:8080/"
        },
        "id": "-_KmDMJJSOwo",
        "outputId": "ee1f7ae1-2f41-4b1b-feca-db88fb2d9b8e"
      },
      "source": [
        "df_train.shape"
      ],
      "execution_count": null,
      "outputs": [
        {
          "output_type": "execute_result",
          "data": {
            "text/plain": [
              "(159571, 8)"
            ]
          },
          "metadata": {
            "tags": []
          },
          "execution_count": 5
        }
      ]
    },
    {
      "cell_type": "code",
      "metadata": {
        "id": "jGVZ7a5wSOwo"
      },
      "source": [
        "df_train[\"comment_text\"].fillna(\"unknown\", inplace=True)"
      ],
      "execution_count": null,
      "outputs": []
    },
    {
      "cell_type": "code",
      "metadata": {
        "id": "fQfH7q0xSOwo"
      },
      "source": [
        "df_train=df_train.sample(n=100000)"
      ],
      "execution_count": null,
      "outputs": []
    },
    {
      "cell_type": "code",
      "metadata": {
        "colab": {
          "base_uri": "https://localhost:8080/"
        },
        "id": "7HuQXL7KSOwo",
        "outputId": "d0508e93-2f8a-404a-b07a-4fe82a32582e"
      },
      "source": [
        "df_train.shape"
      ],
      "execution_count": null,
      "outputs": [
        {
          "output_type": "execute_result",
          "data": {
            "text/plain": [
              "(100000, 8)"
            ]
          },
          "metadata": {
            "tags": []
          },
          "execution_count": 8
        }
      ]
    },
    {
      "cell_type": "code",
      "metadata": {
        "colab": {
          "base_uri": "https://localhost:8080/"
        },
        "id": "tD5A0b9sSOwp",
        "outputId": "b29bef7b-99ce-454d-cc97-bb1ae4578ba2"
      },
      "source": [
        "#total columns in the dataset\n",
        "colms=df_train.columns.tolist()\n",
        "colms=colms[2:]\n",
        "print(colms)"
      ],
      "execution_count": null,
      "outputs": [
        {
          "output_type": "stream",
          "text": [
            "['toxic', 'severe_toxic', 'obscene', 'threat', 'insult', 'identity_hate']\n"
          ],
          "name": "stdout"
        }
      ]
    },
    {
      "cell_type": "code",
      "metadata": {
        "colab": {
          "base_uri": "https://localhost:8080/"
        },
        "id": "xJUONu86SOwp",
        "outputId": "540cc39b-cfe3-4bd7-809c-9d50ea1e6f9f"
      },
      "source": [
        "#Analyzing the amount and the types of stopwords using the corpus of the nltk library. \n",
        "#Nltk contains stopwords from many languages. Considering only English here.  \n",
        "import nltk\n",
        "import re, string\n",
        "from nltk.corpus import stopwords\n",
        "from nltk.stem import PorterStemmer\n",
        "from nltk.stem import WordNetLemmatizer\n",
        "from nltk import sent_tokenize\n",
        "from nltk.tokenize import word_tokenize\n",
        "nltk.download('punkt')\n",
        "nltk.download('wordnet')\n",
        "nltk.download('stopwords')\n",
        "stop=set(stopwords.words('english'))\n",
        "stemmer = PorterStemmer()"
      ],
      "execution_count": null,
      "outputs": [
        {
          "output_type": "stream",
          "text": [
            "[nltk_data] Downloading package punkt to /root/nltk_data...\n",
            "[nltk_data]   Unzipping tokenizers/punkt.zip.\n",
            "[nltk_data] Downloading package wordnet to /root/nltk_data...\n",
            "[nltk_data]   Unzipping corpora/wordnet.zip.\n",
            "[nltk_data] Downloading package stopwords to /root/nltk_data...\n",
            "[nltk_data]   Unzipping corpora/stopwords.zip.\n"
          ],
          "name": "stdout"
        }
      ]
    },
    {
      "cell_type": "code",
      "metadata": {
        "id": "zrNu8WdDSOwp"
      },
      "source": [
        "stemmer = PorterStemmer()\n",
        "df_train['processed_text'] = df_train['comment_text'].apply(lambda x: \" \".join([stemmer.stem(i) for i in re.sub(\"[^a-zA-Z]\", \" \", x).split() if i not in stop]).lower())"
      ],
      "execution_count": null,
      "outputs": []
    },
    {
      "cell_type": "code",
      "metadata": {
        "colab": {
          "base_uri": "https://localhost:8080/",
          "height": 386
        },
        "id": "Vnq1bfI9SOwp",
        "outputId": "9ade31ff-f26a-4eaa-fe02-1f8b9a9aa0ff"
      },
      "source": [
        "#Lowercasing all comments, removing unnecessary spaces\n",
        "###############################################\n",
        "def prep_comments(df):\n",
        "  df['comment_text']=df['comment_text'].str.lower().str.strip()\n",
        "  df = df.replace('\\n',' ', regex=True)\n",
        "  df = df.replace('\\t',' ', regex=True)\n",
        "  df = df.replace('\\r',' ', regex=True)\n",
        "  df['comment_text']= df['comment_text'].replace(\"’\", \"\", regex=True)\n",
        "  df['comment_text'] = df['comment_text'].replace(\"'\", \"\", regex=True)\n",
        "  df['comment_text'] = df['comment_text'].replace(\"-\", \" \", regex=True)\n",
        "  return df\n",
        "df_train=prep_comments(df_train)\n",
        "df_train.head()"
      ],
      "execution_count": null,
      "outputs": [
        {
          "output_type": "execute_result",
          "data": {
            "text/html": [
              "<div>\n",
              "<style scoped>\n",
              "    .dataframe tbody tr th:only-of-type {\n",
              "        vertical-align: middle;\n",
              "    }\n",
              "\n",
              "    .dataframe tbody tr th {\n",
              "        vertical-align: top;\n",
              "    }\n",
              "\n",
              "    .dataframe thead th {\n",
              "        text-align: right;\n",
              "    }\n",
              "</style>\n",
              "<table border=\"1\" class=\"dataframe\">\n",
              "  <thead>\n",
              "    <tr style=\"text-align: right;\">\n",
              "      <th></th>\n",
              "      <th>id</th>\n",
              "      <th>comment_text</th>\n",
              "      <th>toxic</th>\n",
              "      <th>severe_toxic</th>\n",
              "      <th>obscene</th>\n",
              "      <th>threat</th>\n",
              "      <th>insult</th>\n",
              "      <th>identity_hate</th>\n",
              "      <th>processed_text</th>\n",
              "    </tr>\n",
              "  </thead>\n",
              "  <tbody>\n",
              "    <tr>\n",
              "      <th>23614</th>\n",
              "      <td>3e5d63365ce024d1</td>\n",
              "      <td>\"::::::::::the text the ip added to this artic...</td>\n",
              "      <td>0</td>\n",
              "      <td>0</td>\n",
              "      <td>0</td>\n",
              "      <td>0</td>\n",
              "      <td>0</td>\n",
              "      <td>0</td>\n",
              "      <td>the text the ip ad articl mention mccarthi the...</td>\n",
              "    </tr>\n",
              "    <tr>\n",
              "      <th>130516</th>\n",
              "      <td>ba3dd5b507949af1</td>\n",
              "      <td>no, you are trying to give some kind of magica...</td>\n",
              "      <td>0</td>\n",
              "      <td>0</td>\n",
              "      <td>0</td>\n",
              "      <td>0</td>\n",
              "      <td>0</td>\n",
              "      <td>0</td>\n",
              "      <td>no tri give kind magic preced hypothesi never ...</td>\n",
              "    </tr>\n",
              "    <tr>\n",
              "      <th>140410</th>\n",
              "      <td>ef57d18c275dbba7</td>\n",
              "      <td>\" kind of completely backwards, given that thi...</td>\n",
              "      <td>1</td>\n",
              "      <td>0</td>\n",
              "      <td>0</td>\n",
              "      <td>0</td>\n",
              "      <td>0</td>\n",
              "      <td>0</td>\n",
              "      <td>kind complet backward given one place i would ...</td>\n",
              "    </tr>\n",
              "    <tr>\n",
              "      <th>42411</th>\n",
              "      <td>712cb3f7df2f85ab</td>\n",
              "      <td>rockpocket did you get the mail i sent. there ...</td>\n",
              "      <td>0</td>\n",
              "      <td>0</td>\n",
              "      <td>0</td>\n",
              "      <td>0</td>\n",
              "      <td>0</td>\n",
              "      <td>0</td>\n",
              "      <td>rockpocket get mail sent seem vandal anon ip u...</td>\n",
              "    </tr>\n",
              "    <tr>\n",
              "      <th>29462</th>\n",
              "      <td>4e25652fbda5b998</td>\n",
              "      <td>\"who cares about indenting and signing and oth...</td>\n",
              "      <td>0</td>\n",
              "      <td>0</td>\n",
              "      <td>0</td>\n",
              "      <td>0</td>\n",
              "      <td>0</td>\n",
              "      <td>0</td>\n",
              "      <td>who care indent sign wikilawy rule high import...</td>\n",
              "    </tr>\n",
              "  </tbody>\n",
              "</table>\n",
              "</div>"
            ],
            "text/plain": [
              "                      id  ...                                     processed_text\n",
              "23614   3e5d63365ce024d1  ...  the text the ip ad articl mention mccarthi the...\n",
              "130516  ba3dd5b507949af1  ...  no tri give kind magic preced hypothesi never ...\n",
              "140410  ef57d18c275dbba7  ...  kind complet backward given one place i would ...\n",
              "42411   712cb3f7df2f85ab  ...  rockpocket get mail sent seem vandal anon ip u...\n",
              "29462   4e25652fbda5b998  ...  who care indent sign wikilawy rule high import...\n",
              "\n",
              "[5 rows x 9 columns]"
            ]
          },
          "metadata": {
            "tags": []
          },
          "execution_count": 12
        }
      ]
    },
    {
      "cell_type": "code",
      "metadata": {
        "colab": {
          "base_uri": "https://localhost:8080/"
        },
        "id": "kXZsaerDSOwq",
        "outputId": "1f15dae5-5265-4453-d7aa-2d1cb4d16d50"
      },
      "source": [
        "from sklearn.model_selection import train_test_split\n",
        "X_train, X_test, y_train, y_test = train_test_split(df_train[\"comment_text\"], df_train[colms], test_size=0.30)\n",
        "print(X_train.shape, X_test.shape, y_train.shape, y_test.shape)"
      ],
      "execution_count": null,
      "outputs": [
        {
          "output_type": "stream",
          "text": [
            "(111706,) (47874,) (111706, 6) (47874, 6)\n"
          ],
          "name": "stdout"
        }
      ]
    },
    {
      "cell_type": "code",
      "metadata": {
        "colab": {
          "base_uri": "https://localhost:8080/"
        },
        "id": "HP-en5nSSOwq",
        "outputId": "768040fd-9da1-41bf-90ae-2855749a538f"
      },
      "source": [
        "print(y_train)"
      ],
      "execution_count": null,
      "outputs": [
        {
          "output_type": "stream",
          "text": [
            "        toxic  severe_toxic  obscene  threat  insult  identity_hate\n",
            "65774       0             0        0       0       0              0\n",
            "59135       0             0        0       0       0              0\n",
            "118084      1             0        0       0       1              0\n",
            "44898       1             0        0       0       0              0\n",
            "100638      0             0        0       0       0              0\n",
            "...       ...           ...      ...     ...     ...            ...\n",
            "156791      0             0        0       0       0              0\n",
            "25655       0             0        0       0       0              0\n",
            "111345      0             0        0       0       0              0\n",
            "32986       0             0        0       0       0              0\n",
            "150650      0             0        0       0       0              0\n",
            "\n",
            "[70000 rows x 6 columns]\n"
          ],
          "name": "stdout"
        }
      ]
    },
    {
      "cell_type": "code",
      "metadata": {
        "id": "h7vwferxSOwq"
      },
      "source": [
        "from sklearn.feature_extraction.text import CountVectorizer, TfidfVectorizer\n",
        "def vectorize_tfidf(X_train, X_test):\n",
        "  vect_word = TfidfVectorizer(max_features=15000, lowercase=True, analyzer='word',\n",
        "                        stop_words= 'english',ngram_range=(1,3),dtype=np.float32)\n",
        "  X_train = vect_word.fit_transform(X_train)\n",
        "  X_test = vect_word.transform(X_test)\n",
        "  return X_train, X_test\n",
        "\n",
        "X_train, X_test = vectorize_tfidf(X_train, X_test)"
      ],
      "execution_count": null,
      "outputs": []
    },
    {
      "cell_type": "code",
      "metadata": {
        "id": "VjbAGkKkSOwr"
      },
      "source": [
        "from sklearn.svm import SVC\n",
        "from sklearn.multiclass import OneVsRestClassifier"
      ],
      "execution_count": null,
      "outputs": []
    },
    {
      "cell_type": "markdown",
      "metadata": {
        "id": "j461YWuqSOwr"
      },
      "source": [
        "##Run SVM with default hyperparameters \n",
        "Default hyperparameter means C=1.0, kernel=rbf and gamma=auto among other parameters."
      ]
    },
    {
      "cell_type": "code",
      "metadata": {
        "colab": {
          "base_uri": "https://localhost:8080/"
        },
        "id": "a5Aa_EyYSOwr",
        "outputId": "b9f47d43-7490-4dc1-88a7-ba688564d640"
      },
      "source": [
        "svm_rbf = OneVsRestClassifier(SVC(decision_function_shape='ovo'))\n",
        "svm_rbf.fit(X_train, y_train)"
      ],
      "execution_count": null,
      "outputs": [
        {
          "output_type": "execute_result",
          "data": {
            "text/plain": [
              "OneVsRestClassifier(estimator=SVC(C=1.0, break_ties=False, cache_size=200,\n",
              "                                  class_weight=None, coef0=0.0,\n",
              "                                  decision_function_shape='ovo', degree=3,\n",
              "                                  gamma='scale', kernel='rbf', max_iter=-1,\n",
              "                                  probability=False, random_state=None,\n",
              "                                  shrinking=True, tol=0.001, verbose=False),\n",
              "                    n_jobs=None)"
            ]
          },
          "metadata": {
            "tags": []
          },
          "execution_count": 52
        }
      ]
    },
    {
      "cell_type": "code",
      "metadata": {
        "id": "YXWk94r7SOwr"
      },
      "source": [
        "y_pred_svm_rbf = svm_rbf.predict(X_test)"
      ],
      "execution_count": null,
      "outputs": []
    },
    {
      "cell_type": "code",
      "metadata": {
        "colab": {
          "base_uri": "https://localhost:8080/"
        },
        "id": "lGMweX_zSOwr",
        "outputId": "41684587-8872-4bb2-8dda-16f58f9e4e6e"
      },
      "source": [
        "from sklearn.metrics import accuracy_score\n",
        "print(\"Accuracy: \", accuracy_score(y_test,y_pred_svm_rbf))"
      ],
      "execution_count": null,
      "outputs": [
        {
          "output_type": "stream",
          "text": [
            "Accuracy:  0.9952583865981535\n"
          ],
          "name": "stdout"
        }
      ]
    },
    {
      "cell_type": "markdown",
      "metadata": {
        "id": "6ZajKyViSOwr"
      },
      "source": [
        "##Run SVM with rbf kernel and C=100.0"
      ]
    },
    {
      "cell_type": "code",
      "metadata": {
        "colab": {
          "base_uri": "https://localhost:8080/"
        },
        "id": "XcRsMwChSOws",
        "outputId": "60756f48-cd2f-4329-a2e3-c64053d569aa"
      },
      "source": [
        "svm_model_linear = OneVsRestClassifier(SVC(C=100,decision_function_shape='ovo'))\n",
        "svm_model_linear.fit(X_train, y_train)"
      ],
      "execution_count": null,
      "outputs": [
        {
          "output_type": "execute_result",
          "data": {
            "text/plain": [
              "OneVsRestClassifier(estimator=SVC(C=100, break_ties=False, cache_size=200,\n",
              "                                  class_weight=None, coef0=0.0,\n",
              "                                  decision_function_shape='ovo', degree=3,\n",
              "                                  gamma='scale', kernel='rbf', max_iter=-1,\n",
              "                                  probability=False, random_state=None,\n",
              "                                  shrinking=True, tol=0.001, verbose=False),\n",
              "                    n_jobs=None)"
            ]
          },
          "metadata": {
            "tags": []
          },
          "execution_count": 19
        }
      ]
    },
    {
      "cell_type": "code",
      "metadata": {
        "id": "vz1faB3gSOwt"
      },
      "source": [
        "y_pred = svm_model_linear.predict(X_test)"
      ],
      "execution_count": null,
      "outputs": []
    },
    {
      "cell_type": "code",
      "metadata": {
        "colab": {
          "base_uri": "https://localhost:8080/"
        },
        "id": "InWwbRn1SOwt",
        "outputId": "89e0dd1f-5c7f-4ce4-d599-24fab843b0c8"
      },
      "source": [
        "from sklearn.metrics import accuracy_score\n",
        "print(\"Accuracy: \", accuracy_score(y_test,y_pred))"
      ],
      "execution_count": null,
      "outputs": [
        {
          "output_type": "stream",
          "text": [
            "Accuracy:  0.9167666666666666\n"
          ],
          "name": "stdout"
        }
      ]
    },
    {
      "cell_type": "code",
      "metadata": {
        "colab": {
          "base_uri": "https://localhost:8080/"
        },
        "id": "pKYHrb_qSOwt",
        "outputId": "c4de257b-13d0-46ba-e7a6-a5acf7979b40"
      },
      "source": [
        "from sklearn.metrics import classification_report\n",
        "print(classification_report(y_test, y_pred))"
      ],
      "execution_count": null,
      "outputs": [
        {
          "output_type": "stream",
          "text": [
            "              precision    recall  f1-score   support\n",
            "\n",
            "           0       0.89      0.62      0.73      2921\n",
            "           1       0.52      0.20      0.29       292\n",
            "           2       0.89      0.67      0.76      1586\n",
            "           3       0.60      0.07      0.13        83\n",
            "           4       0.78      0.54      0.64      1492\n",
            "           5       0.58      0.23      0.33       270\n",
            "\n",
            "   micro avg       0.85      0.57      0.68      6644\n",
            "   macro avg       0.71      0.39      0.48      6644\n",
            "weighted avg       0.83      0.57      0.68      6644\n",
            " samples avg       0.06      0.05      0.05      6644\n",
            "\n"
          ],
          "name": "stdout"
        },
        {
          "output_type": "stream",
          "text": [
            "/usr/local/lib/python3.7/dist-packages/sklearn/metrics/_classification.py:1272: UndefinedMetricWarning: Precision and F-score are ill-defined and being set to 0.0 in samples with no predicted labels. Use `zero_division` parameter to control this behavior.\n",
            "  _warn_prf(average, modifier, msg_start, len(result))\n",
            "/usr/local/lib/python3.7/dist-packages/sklearn/metrics/_classification.py:1272: UndefinedMetricWarning: Recall and F-score are ill-defined and being set to 0.0 in samples with no true labels. Use `zero_division` parameter to control this behavior.\n",
            "  _warn_prf(average, modifier, msg_start, len(result))\n"
          ],
          "name": "stderr"
        }
      ]
    },
    {
      "cell_type": "code",
      "metadata": {
        "colab": {
          "base_uri": "https://localhost:8080/"
        },
        "id": "zcZ76WLvSOwt",
        "outputId": "5df2e628-2443-4c03-a1e3-38fd82ac651f"
      },
      "source": [
        "from sklearn.metrics import multilabel_confusion_matrix\n",
        "cm = multilabel_confusion_matrix(y_test, y_pred)\n",
        "print('\\nTrue Positives(TP) = ', cm[0,0])\n",
        "\n",
        "print('\\nTrue Negatives(TN) = ', cm[1,1])\n",
        "\n",
        "print('\\nFalse Positives(FP) = ', cm[0,1])\n",
        "\n",
        "print('\\nFalse Negatives(FN) = ', cm[1,0])"
      ],
      "execution_count": null,
      "outputs": [
        {
          "output_type": "stream",
          "text": [
            "\n",
            "True Positives(TP) =  [26852   227]\n",
            "\n",
            "True Negatives(TN) =  [233  59]\n",
            "\n",
            "False Positives(FP) =  [1102 1819]\n",
            "\n",
            "False Negatives(FN) =  [29653    55]\n"
          ],
          "name": "stdout"
        }
      ]
    },
    {
      "cell_type": "markdown",
      "metadata": {
        "id": "XRQ0b2A0SOwu"
      },
      "source": [
        "## Run SVM with linear kernel and C=1.0"
      ]
    },
    {
      "cell_type": "code",
      "metadata": {
        "id": "wZe9bw8bSOwu"
      },
      "source": [
        "svm_model_linear = OneVsRestClassifier(SVC(kernel='linear', C=1.0,decision_function_shape='ovo'))\n",
        "svm_model_linear.fit(X_train, y_train)"
      ],
      "execution_count": null,
      "outputs": []
    },
    {
      "cell_type": "code",
      "metadata": {
        "id": "1iQEgWc3SOwu"
      },
      "source": [
        "y_pred = svm_model_linear.predict(X_test)"
      ],
      "execution_count": null,
      "outputs": []
    },
    {
      "cell_type": "code",
      "metadata": {
        "colab": {
          "base_uri": "https://localhost:8080/"
        },
        "id": "5Ax9tAPFSOwu",
        "outputId": "89e0dd1f-5c7f-4ce4-d599-24fab843b0c8"
      },
      "source": [
        "from sklearn.metrics import accuracy_score\n",
        "print(\"Accuracy: \", accuracy_score(y_test,y_pred))"
      ],
      "execution_count": null,
      "outputs": [
        {
          "output_type": "stream",
          "text": [
            "Accuracy:  0.9167666666666666\n"
          ],
          "name": "stdout"
        }
      ]
    },
    {
      "cell_type": "code",
      "metadata": {
        "id": "47g40d4tXZW0"
      },
      "source": [
        ""
      ],
      "execution_count": null,
      "outputs": []
    },
    {
      "cell_type": "markdown",
      "metadata": {
        "id": "-PsT9NeQXaDv"
      },
      "source": [
        "# ** THE END**"
      ]
    }
  ]
}